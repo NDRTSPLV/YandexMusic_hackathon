{
 "cells": [
  {
   "cell_type": "markdown",
   "metadata": {
    "id": "2SzrKUKtlABh",
    "toc": true
   },
   "source": [
    "<h1>Table of Contents<span class=\"tocSkip\"></span></h1>\n",
    "<div class=\"toc\"><ul class=\"toc-item\"><li><ul class=\"toc-item\"><li><span><a href=\"#Входные-данные:\" data-toc-modified-id=\"Входные-данные:-0.1\"><span class=\"toc-item-num\">0.1&nbsp;&nbsp;</span>Входные данные:</a></span></li><li><span><a href=\"#Описание-данных\" data-toc-modified-id=\"Описание-данных-0.2\"><span class=\"toc-item-num\">0.2&nbsp;&nbsp;</span>Описание данных</a></span><ul class=\"toc-item\"><li><span><a href=\"#Разметка-каверов\" data-toc-modified-id=\"Разметка-каверов-0.2.1\"><span class=\"toc-item-num\">0.2.1&nbsp;&nbsp;</span>Разметка каверов</a></span></li><li><span><a href=\"#Метаинформация\" data-toc-modified-id=\"Метаинформация-0.2.2\"><span class=\"toc-item-num\">0.2.2&nbsp;&nbsp;</span>Метаинформация</a></span></li><li><span><a href=\"#Текст-песен\" data-toc-modified-id=\"Текст-песен-0.2.3\"><span class=\"toc-item-num\">0.2.3&nbsp;&nbsp;</span>Текст песен</a></span></li></ul></li><li><span><a href=\"#Цель-проекта\" data-toc-modified-id=\"Цель-проекта-0.3\"><span class=\"toc-item-num\">0.3&nbsp;&nbsp;</span>Цель проекта</a></span></li></ul></li><li><span><a href=\"#План-проекта\" data-toc-modified-id=\"План-проекта-1\"><span class=\"toc-item-num\">1&nbsp;&nbsp;</span>План проекта</a></span></li><li><span><a href=\"#EDA\" data-toc-modified-id=\"EDA-2\"><span class=\"toc-item-num\">2&nbsp;&nbsp;</span>EDA</a></span><ul class=\"toc-item\"><li><span><a href=\"#Covers\" data-toc-modified-id=\"Covers-2.1\"><span class=\"toc-item-num\">2.1&nbsp;&nbsp;</span>Covers</a></span></li><li><span><a href=\"#Lyrics\" data-toc-modified-id=\"Lyrics-2.2\"><span class=\"toc-item-num\">2.2&nbsp;&nbsp;</span>Lyrics</a></span></li><li><span><a href=\"#Meta\" data-toc-modified-id=\"Meta-2.3\"><span class=\"toc-item-num\">2.3&nbsp;&nbsp;</span>Meta</a></span></li><li><span><a href=\"#Объединённый-датафрейм\" data-toc-modified-id=\"Объединённый-датафрейм-2.4\"><span class=\"toc-item-num\">2.4&nbsp;&nbsp;</span>Объединённый датафрейм</a></span></li></ul></li><li><span><a href=\"#Предобработка-данных\" data-toc-modified-id=\"Предобработка-данных-3\"><span class=\"toc-item-num\">3&nbsp;&nbsp;</span>Предобработка данных</a></span></li><li><span><a href=\"#Обучение-моделей\" data-toc-modified-id=\"Обучение-моделей-4\"><span class=\"toc-item-num\">4&nbsp;&nbsp;</span>Обучение моделей</a></span><ul class=\"toc-item\"><li><span><a href=\"#Baseline\" data-toc-modified-id=\"Baseline-4.1\"><span class=\"toc-item-num\">4.1&nbsp;&nbsp;</span>Baseline</a></span></li><li><span><a href=\"#Решающее-дерево\" data-toc-modified-id=\"Решающее-дерево-4.2\"><span class=\"toc-item-num\">4.2&nbsp;&nbsp;</span>Решающее дерево</a></span></li></ul></li><li><span><a href=\"#Случайный-лес\" data-toc-modified-id=\"Случайный-лес-5\"><span class=\"toc-item-num\">5&nbsp;&nbsp;</span>Случайный лес</a></span><ul class=\"toc-item\"><li><span><a href=\"#Логистическая-регрессия\" data-toc-modified-id=\"Логистическая-регрессия-5.1\"><span class=\"toc-item-num\">5.1&nbsp;&nbsp;</span>Логистическая регрессия</a></span></li><li><span><a href=\"#LGBM\" data-toc-modified-id=\"LGBM-5.2\"><span class=\"toc-item-num\">5.2&nbsp;&nbsp;</span>LGBM</a></span></li></ul></li><li><span><a href=\"#AdaBoost\" data-toc-modified-id=\"AdaBoost-6\"><span class=\"toc-item-num\">6&nbsp;&nbsp;</span>AdaBoost</a></span><ul class=\"toc-item\"><li><span><a href=\"#Тестирование\" data-toc-modified-id=\"Тестирование-6.1\"><span class=\"toc-item-num\">6.1&nbsp;&nbsp;</span>Тестирование</a></span></li></ul></li><li><span><a href=\"#Отчет-по-проекту\" data-toc-modified-id=\"Отчет-по-проекту-7\"><span class=\"toc-item-num\">7&nbsp;&nbsp;</span>Отчет по проекту</a></span></li></ul></div>"
   ]
  },
  {
   "cell_type": "markdown",
   "metadata": {
    "id": "4zZO3B_AlABm"
   },
   "source": [
    "# Хакатон. Обнаружение каверов музыкальных треков\n",
    "\n",
    "### Входные данные:\n",
    "Обнаружение треков каверов - важная продуктовая задача, которая может значительно улучшить качество рекомендаций музыкального сервиса и повысить счастье наших пользователей. Если мы умеем с высокой точностью классифицировать каверы и связывать их между собой, то можно предложить пользователю новые возможности для управления потоком треков. Например:\n",
    "\n",
    "- по желанию пользователя можем полностью исключить каверы из рекомендаций;\n",
    "- показать все каверы на любимый трек пользователя;\n",
    "- контролировать долю каверов в ленте пользователя.\n",
    "\n",
    "\n",
    "### Описание данных\n",
    "\n",
    "#### Разметка каверов\n",
    "\n",
    "Файл covers.json содержит разметку каверов, сделанную редакторами сервиса:\n",
    "\n",
    "- track_id - уникальный идентификатор трека;\n",
    "- track_remake_type - метка, присвоенная редакторами. Может принимать значения ORIGINAL и COVER;\n",
    "- original_track_id - уникальный идентификатор исходного трека.\n",
    "\n",
    "<aside>\n",
    "💡 Обратите внимание, что не для всех каверов известны идентификаторы исходных треков!!!\n",
    "\n",
    "</aside>\n",
    "\n",
    "#### Метаинформация\n",
    "\n",
    "- track_id - уникальный идентификатор трека;\n",
    "- dttm - первая дата появления информации о треке;\n",
    "- title - название трека;\n",
    "- language - язык исполнения;\n",
    "- isrc - международный уникальный идентификатор трека;\n",
    "- genres - жанры;\n",
    "- duration - длительность трека;\n",
    "\n",
    "#### Текст песен\n",
    "\n",
    "- track_id - уникальный идентификатор трека;\n",
    "- lyricId - уникальный идентификатор текста;\n",
    "- text - текст трека.\n",
    "\n",
    "### Цель проекта\n",
    "\n",
    "В рамках данного проекта необходимо провести классификацию музыкальных треков на кавер-версии и оригинальные композиции. Для решения этой задачи мы имеем свободу выбора сторонних библиотек и инструментов. В процессе исследования было принято решение использовать метрику f1 score.\n",
    "\n",
    "Выбор f1 score обоснован тем, что она предоставляет комплексную оценку точности и полноты классификации. В контексте нашей задачи это крайне важно, поскольку неверно классифицированный трек может оставить негативное впечатление о качестве системы. Метрика f1 score позволяет учесть не только количество правильно или неправильно классифицированных треков, но и качество этих предсказаний."
   ]
  },
  {
   "cell_type": "markdown",
   "metadata": {
    "id": "6puFsVlzlABn"
   },
   "source": [
    "## План проекта\n",
    "\n",
    "Предстоит построить прототип модели машинного обучения. Его разработка состоит из нескольких этапов:\n",
    "\n",
    "1. Исследовательский анализ данных.\n",
    "- провести ознакомление с данными;\n",
    "- по необходимости изменить тип данных;\n",
    "- определить категориальные признаки;\n",
    "- проверить данные на пропуски;\n",
    "- заполнить пропуски по необходимости;\n",
    "- выявить влияние категориальных признаков на целевой;\n",
    "- выявить корреляцию между признаками;\n",
    "- объединить данные и посмотреть на зависимости;\n",
    "- сделать выводы по результатам анализа данных.\n",
    "\n",
    "2. Подготовка данных для моделей.\n",
    "- объединить все таблицы в одну;\n",
    "- при необходимости добавить признаки;\n",
    "- провести преобразование категориальных признаков в численные техникой OE;\n",
    "- разделить данные на 2 выборки обучающую и тестовую в пропорции 3:1\n",
    "- провести стандартизацию данных;\n",
    "- избавиться от дисбалланса признаков\n",
    "- провести оценку важности признаков\n",
    "- провести анализ матрицы ошибок\n",
    "\n",
    "3. Обучение моделей.\n",
    "- Baseline;\n",
    "- LogisticRegression;\n",
    "- RandomForestClassifier;\n",
    "- CatBoostClassifier\n",
    "- применить стэкинг\n",
    "\n",
    "4. Отчет по проведенной работе."
   ]
  },
  {
   "cell_type": "code",
   "execution_count": 6,
   "metadata": {
    "id": "yYmQm_qs2SuP"
   },
   "outputs": [],
   "source": [
    "import os\n",
    "import json\n",
    "from concurrent.futures import ProcessPoolExecutor\n",
    "\n",
    "import numpy as np\n",
    "import pandas as pd\n",
    "import seaborn as sns\n",
    "import matplotlib.pyplot as plt\n",
    "import optuna\n",
    "from langdetect import detect\n",
    "from sklearn.model_selection import train_test_split, GridSearchCV, cross_val_score\n",
    "from sklearn.tree import DecisionTreeClassifier\n",
    "from sklearn.ensemble import RandomForestClassifier, AdaBoostClassifier, StackingClassifier\n",
    "from sklearn.linear_model import LogisticRegression\n",
    "from lightgbm import LGBMClassifier\n",
    "from catboost import CatBoostClassifier\n",
    "from sklearn.preprocessing import LabelEncoder, OneHotEncoder, StandardScaler, OrdinalEncoder\n",
    "from sklearn.dummy import DummyClassifier\n",
    "from sklearn.metrics import f1_score, make_scorer\n",
    "from sklearn.feature_extraction.text import TfidfVectorizer\n",
    "from scipy.sparse import csr_matrix\n",
    "from sklearn.decomposition import PCA\n",
    "from tqdm import tqdm\n",
    "\n",
    "tqdm.pandas()"
   ]
  },
  {
   "cell_type": "code",
   "execution_count": 7,
   "metadata": {
    "id": "AUSaekoraW_j"
   },
   "outputs": [],
   "source": [
    "RANDOM_STATE = 42"
   ]
  },
  {
   "cell_type": "markdown",
   "metadata": {
    "id": "ZrNhpav3lABs"
   },
   "source": [
    "Прочитаем предоставленные данные"
   ]
  },
  {
   "cell_type": "code",
   "execution_count": 8,
   "metadata": {
    "id": "fqDAKHMpPY5A"
   },
   "outputs": [],
   "source": [
    "def json_opening(path):\n",
    "    data = []\n",
    "\n",
    "    with open(path, encoding='utf-8') as datafile:\n",
    "        for line in datafile:\n",
    "            data.append(json.loads(line))\n",
    "\n",
    "    return pd.DataFrame(data)\n"
   ]
  },
  {
   "cell_type": "code",
   "execution_count": 9,
   "metadata": {
    "id": "OqF42AI4P4pW"
   },
   "outputs": [],
   "source": [
    "df_covers = json_opening('covers.json')\n",
    "df_lyrics = json_opening('lyrics.json')\n",
    "df_meta = json_opening('meta.json')"
   ]
  },
  {
   "cell_type": "markdown",
   "metadata": {
    "id": "58R9ynsTj196"
   },
   "source": [
    "## EDA"
   ]
  },
  {
   "cell_type": "markdown",
   "metadata": {
    "id": "2Mh43N_XjyJ8"
   },
   "source": [
    "### Covers"
   ]
  },
  {
   "cell_type": "markdown",
   "metadata": {
    "id": "ycWVJKUZlABt"
   },
   "source": [
    "Проведем изучение датасета `Covers`"
   ]
  },
  {
   "cell_type": "code",
   "execution_count": 10,
   "metadata": {
    "colab": {
     "base_uri": "https://localhost:8080/",
     "height": 206
    },
    "id": "zCYLDDdbVy9C",
    "outputId": "565dd00d-300e-44d3-8650-e94327c329d1"
   },
   "outputs": [
    {
     "data": {
      "text/html": [
       "<div>\n",
       "<style scoped>\n",
       "    .dataframe tbody tr th:only-of-type {\n",
       "        vertical-align: middle;\n",
       "    }\n",
       "\n",
       "    .dataframe tbody tr th {\n",
       "        vertical-align: top;\n",
       "    }\n",
       "\n",
       "    .dataframe thead th {\n",
       "        text-align: right;\n",
       "    }\n",
       "</style>\n",
       "<table border=\"1\" class=\"dataframe\">\n",
       "  <thead>\n",
       "    <tr style=\"text-align: right;\">\n",
       "      <th></th>\n",
       "      <th>original_track_id</th>\n",
       "      <th>track_id</th>\n",
       "      <th>track_remake_type</th>\n",
       "    </tr>\n",
       "  </thead>\n",
       "  <tbody>\n",
       "    <tr>\n",
       "      <th>0</th>\n",
       "      <td>eeb69a3cb92300456b6a5f4162093851</td>\n",
       "      <td>eeb69a3cb92300456b6a5f4162093851</td>\n",
       "      <td>ORIGINAL</td>\n",
       "    </tr>\n",
       "    <tr>\n",
       "      <th>1</th>\n",
       "      <td>fe7ee8fc1959cc7214fa21c4840dff0a</td>\n",
       "      <td>fe7ee8fc1959cc7214fa21c4840dff0a</td>\n",
       "      <td>ORIGINAL</td>\n",
       "    </tr>\n",
       "    <tr>\n",
       "      <th>2</th>\n",
       "      <td>cd89fef7ffdd490db800357f47722b20</td>\n",
       "      <td>cd89fef7ffdd490db800357f47722b20</td>\n",
       "      <td>ORIGINAL</td>\n",
       "    </tr>\n",
       "    <tr>\n",
       "      <th>3</th>\n",
       "      <td>995665640dc319973d3173a74a03860c</td>\n",
       "      <td>995665640dc319973d3173a74a03860c</td>\n",
       "      <td>ORIGINAL</td>\n",
       "    </tr>\n",
       "    <tr>\n",
       "      <th>4</th>\n",
       "      <td>None</td>\n",
       "      <td>d6288499d0083cc34e60a077b7c4b3e1</td>\n",
       "      <td>COVER</td>\n",
       "    </tr>\n",
       "  </tbody>\n",
       "</table>\n",
       "</div>"
      ],
      "text/plain": [
       "                  original_track_id                          track_id  \\\n",
       "0  eeb69a3cb92300456b6a5f4162093851  eeb69a3cb92300456b6a5f4162093851   \n",
       "1  fe7ee8fc1959cc7214fa21c4840dff0a  fe7ee8fc1959cc7214fa21c4840dff0a   \n",
       "2  cd89fef7ffdd490db800357f47722b20  cd89fef7ffdd490db800357f47722b20   \n",
       "3  995665640dc319973d3173a74a03860c  995665640dc319973d3173a74a03860c   \n",
       "4                              None  d6288499d0083cc34e60a077b7c4b3e1   \n",
       "\n",
       "  track_remake_type  \n",
       "0          ORIGINAL  \n",
       "1          ORIGINAL  \n",
       "2          ORIGINAL  \n",
       "3          ORIGINAL  \n",
       "4             COVER  "
      ]
     },
     "execution_count": 10,
     "metadata": {},
     "output_type": "execute_result"
    }
   ],
   "source": [
    "df_covers.head()"
   ]
  },
  {
   "cell_type": "code",
   "execution_count": 11,
   "metadata": {
    "colab": {
     "base_uri": "https://localhost:8080/"
    },
    "id": "hxcgaRmachnm",
    "outputId": "c9a0a031-caf9-4422-c66b-7304b8378f60"
   },
   "outputs": [
    {
     "name": "stdout",
     "output_type": "stream",
     "text": [
      "<class 'pandas.core.frame.DataFrame'>\n",
      "RangeIndex: 71597 entries, 0 to 71596\n",
      "Data columns (total 3 columns):\n",
      " #   Column             Non-Null Count  Dtype \n",
      "---  ------             --------------  ----- \n",
      " 0   original_track_id  4821 non-null   object\n",
      " 1   track_id           71597 non-null  object\n",
      " 2   track_remake_type  71597 non-null  object\n",
      "dtypes: object(3)\n",
      "memory usage: 1.6+ MB\n"
     ]
    }
   ],
   "source": [
    "df_covers.info()"
   ]
  },
  {
   "cell_type": "code",
   "execution_count": 12,
   "metadata": {
    "colab": {
     "base_uri": "https://localhost:8080/",
     "height": 175
    },
    "id": "wqegQfEoc8le",
    "outputId": "ec7a0e04-9e3c-4bd8-a78d-0eb8ccadbb5c"
   },
   "outputs": [
    {
     "data": {
      "text/html": [
       "<div>\n",
       "<style scoped>\n",
       "    .dataframe tbody tr th:only-of-type {\n",
       "        vertical-align: middle;\n",
       "    }\n",
       "\n",
       "    .dataframe tbody tr th {\n",
       "        vertical-align: top;\n",
       "    }\n",
       "\n",
       "    .dataframe thead th {\n",
       "        text-align: right;\n",
       "    }\n",
       "</style>\n",
       "<table border=\"1\" class=\"dataframe\">\n",
       "  <thead>\n",
       "    <tr style=\"text-align: right;\">\n",
       "      <th></th>\n",
       "      <th>original_track_id</th>\n",
       "      <th>track_id</th>\n",
       "      <th>track_remake_type</th>\n",
       "    </tr>\n",
       "  </thead>\n",
       "  <tbody>\n",
       "    <tr>\n",
       "      <th>count</th>\n",
       "      <td>4821</td>\n",
       "      <td>71597</td>\n",
       "      <td>71597</td>\n",
       "    </tr>\n",
       "    <tr>\n",
       "      <th>unique</th>\n",
       "      <td>4468</td>\n",
       "      <td>71597</td>\n",
       "      <td>2</td>\n",
       "    </tr>\n",
       "    <tr>\n",
       "      <th>top</th>\n",
       "      <td>f3e5e9db509f9b6f6d93b9c38e4e1324</td>\n",
       "      <td>2d09f68013fd6b3998f1163986877d2c</td>\n",
       "      <td>COVER</td>\n",
       "    </tr>\n",
       "    <tr>\n",
       "      <th>freq</th>\n",
       "      <td>38</td>\n",
       "      <td>1</td>\n",
       "      <td>67304</td>\n",
       "    </tr>\n",
       "  </tbody>\n",
       "</table>\n",
       "</div>"
      ],
      "text/plain": [
       "                       original_track_id                          track_id  \\\n",
       "count                               4821                             71597   \n",
       "unique                              4468                             71597   \n",
       "top     f3e5e9db509f9b6f6d93b9c38e4e1324  2d09f68013fd6b3998f1163986877d2c   \n",
       "freq                                  38                                 1   \n",
       "\n",
       "       track_remake_type  \n",
       "count              71597  \n",
       "unique                 2  \n",
       "top                COVER  \n",
       "freq               67304  "
      ]
     },
     "execution_count": 12,
     "metadata": {},
     "output_type": "execute_result"
    }
   ],
   "source": [
    "df_covers.describe()"
   ]
  },
  {
   "cell_type": "code",
   "execution_count": 13,
   "metadata": {
    "colab": {
     "base_uri": "https://localhost:8080/"
    },
    "id": "lX5_ZpSIdDI2",
    "outputId": "2761ba04-5d48-4ea3-8cc0-8f314bedb602"
   },
   "outputs": [
    {
     "data": {
      "text/plain": [
       "original_track_id    66776\n",
       "track_id                 0\n",
       "track_remake_type        0\n",
       "dtype: int64"
      ]
     },
     "execution_count": 13,
     "metadata": {},
     "output_type": "execute_result"
    }
   ],
   "source": [
    "df_covers.isna().sum()"
   ]
  },
  {
   "cell_type": "markdown",
   "metadata": {
    "id": "BXu-5RM1YwSm"
   },
   "source": [
    "Все фичи имеют корректные названия. Огромное количество нанов в столбце `original_track_id`.\n",
    "\n",
    "Всего треков в датасете сильно больше, чем оригинальных треков что закономерно.\n",
    "\n",
    "Замечаем, что в столбце `original_track_id`\tесть почти 400 дубликатов. Видимо это как раз те оригиналы, на которых есть больше чем 1 кавер. Это странно и интересно, ведь информация в этом столбце это не айди трека, которого кавер, а исключительно айди оригинальных треков. Чтобы разобраться, откуда дубликаты, сначала предположим, что `original_track_id` есть только у тех треков, которые с лейблом `ORIGINAL`. Посмотрим, есть ли такие id оригиналов, у которых есть метка `COVER`."
   ]
  },
  {
   "cell_type": "code",
   "execution_count": 14,
   "metadata": {
    "colab": {
     "base_uri": "https://localhost:8080/"
    },
    "id": "iavtzeOKc7RN",
    "outputId": "deb1a6a3-4e55-4a64-a320-d95133f48ef1"
   },
   "outputs": [
    {
     "data": {
      "text/plain": [
       "track_remake_type\n",
       "COVER        528\n",
       "ORIGINAL    4293\n",
       "Name: original_track_id, dtype: int64"
      ]
     },
     "execution_count": 14,
     "metadata": {},
     "output_type": "execute_result"
    }
   ],
   "source": [
    "df_covers.groupby('track_remake_type')['original_track_id'].count()"
   ]
  },
  {
   "cell_type": "markdown",
   "metadata": {
    "id": "z5l8E2FldDR8"
   },
   "source": [
    "Так и есть, получаем 528 треков в `original_track_id` с меткой `COVER`. Это даже больше, чем дубликатов в столбце. Оставим только эти треки и посмотрим, есть ли среди них дубликаты"
   ]
  },
  {
   "cell_type": "code",
   "execution_count": 15,
   "metadata": {
    "colab": {
     "base_uri": "https://localhost:8080/"
    },
    "id": "jPJccxGffqly",
    "outputId": "56e9cbe4-7269-45a4-e7cb-4c8467ef73db"
   },
   "outputs": [
    {
     "data": {
      "text/plain": [
       "330"
      ]
     },
     "execution_count": 15,
     "metadata": {},
     "output_type": "execute_result"
    }
   ],
   "source": [
    "duplicates = df_covers[df_covers['track_remake_type'] == 'COVER']['original_track_id'].duplicated(keep=False)\n",
    "duplicate_tracks = df_covers[df_covers['track_remake_type'] == 'COVER'][duplicates]\n",
    "duplicate_tracks['original_track_id'].count()"
   ]
  },
  {
   "cell_type": "markdown",
   "metadata": {
    "id": "WJ7PwvMkgQgm"
   },
   "source": [
    "Получается 330 дубликатов. Это почти столько же, сколько Дубликатов по этому столбцу всего (353). Итак, теперь понятно, что всё-таки у нас есть несколько каверов, для которых мы уже знаем их id оригинального трека."
   ]
  },
  {
   "cell_type": "markdown",
   "metadata": {
    "id": "gIjYyw2t2msN"
   },
   "source": [
    "Ещё было бы не лишним посмотреть, действительно ли все оригинальные треки имеют свой `original_id`."
   ]
  },
  {
   "cell_type": "code",
   "execution_count": 16,
   "metadata": {
    "colab": {
     "base_uri": "https://localhost:8080/"
    },
    "id": "7ATo9oeG2wHY",
    "outputId": "470c2fa4-8269-4f36-c9fb-37f216a18938"
   },
   "outputs": [
    {
     "data": {
      "text/plain": [
       "0"
      ]
     },
     "execution_count": 16,
     "metadata": {},
     "output_type": "execute_result"
    }
   ],
   "source": [
    "df_covers[df_covers['track_remake_type'] == 'ORIGINAL']['original_track_id'].isna().sum()"
   ]
  },
  {
   "cell_type": "markdown",
   "metadata": {
    "id": "5Nt__Wb03Gsr"
   },
   "source": [
    "Да, так и есть. Все треки без `original_id` являются каверами."
   ]
  },
  {
   "cell_type": "code",
   "execution_count": 17,
   "metadata": {
    "colab": {
     "base_uri": "https://localhost:8080/"
    },
    "id": "Wu8goob5U42P",
    "outputId": "9282e93c-29e8-425c-eced-82ed0d708cd9"
   },
   "outputs": [
    {
     "data": {
      "text/plain": [
       "0"
      ]
     },
     "execution_count": 17,
     "metadata": {},
     "output_type": "execute_result"
    }
   ],
   "source": [
    "df_covers.duplicated().sum()"
   ]
  },
  {
   "cell_type": "markdown",
   "metadata": {
    "id": "LusDViI-iwJD"
   },
   "source": [
    "При этом полные дубликаты в датасете тоже отсутствуют."
   ]
  },
  {
   "cell_type": "markdown",
   "metadata": {
    "id": "rDcZUoMYmbh2"
   },
   "source": [
    "### Lyrics"
   ]
  },
  {
   "cell_type": "code",
   "execution_count": 18,
   "metadata": {
    "colab": {
     "base_uri": "https://localhost:8080/",
     "height": 206
    },
    "id": "y6dHqIX6muzg",
    "outputId": "f957d84f-e2eb-4504-b848-b36ecee4d61b"
   },
   "outputs": [
    {
     "data": {
      "text/html": [
       "<div>\n",
       "<style scoped>\n",
       "    .dataframe tbody tr th:only-of-type {\n",
       "        vertical-align: middle;\n",
       "    }\n",
       "\n",
       "    .dataframe tbody tr th {\n",
       "        vertical-align: top;\n",
       "    }\n",
       "\n",
       "    .dataframe thead th {\n",
       "        text-align: right;\n",
       "    }\n",
       "</style>\n",
       "<table border=\"1\" class=\"dataframe\">\n",
       "  <thead>\n",
       "    <tr style=\"text-align: right;\">\n",
       "      <th></th>\n",
       "      <th>lyricId</th>\n",
       "      <th>text</th>\n",
       "      <th>track_id</th>\n",
       "    </tr>\n",
       "  </thead>\n",
       "  <tbody>\n",
       "    <tr>\n",
       "      <th>0</th>\n",
       "      <td>a951f9504e89759e9d23039b7b17ec14</td>\n",
       "      <td>Живу сейчас обломами, обломками не той любви\\n...</td>\n",
       "      <td>1c4b1230f937e4c548ff732523214dcd</td>\n",
       "    </tr>\n",
       "    <tr>\n",
       "      <th>1</th>\n",
       "      <td>0c749bc3f01eb8e6cf986fa14ccfc585</td>\n",
       "      <td>Tell me your fable\\nA fable\\nTell me your fabl...</td>\n",
       "      <td>0faea89b0d7d6235b5b74def72511bd8</td>\n",
       "    </tr>\n",
       "    <tr>\n",
       "      <th>2</th>\n",
       "      <td>e2c8830fbc86e5964478243099eec23a</td>\n",
       "      <td>You're ashamed about all your fears and doubts...</td>\n",
       "      <td>9c6dc41d5ccd9968d07f055da5d8f741</td>\n",
       "    </tr>\n",
       "    <tr>\n",
       "      <th>3</th>\n",
       "      <td>e2c8830fbc86e5964478243099eec23a</td>\n",
       "      <td>You're ashamed about all your fears and doubts...</td>\n",
       "      <td>bfd04a73e9cffdf0e282c92219a86ea1</td>\n",
       "    </tr>\n",
       "    <tr>\n",
       "      <th>4</th>\n",
       "      <td>7624653ca8522ba93470843c74961b7d</td>\n",
       "      <td>You showed him all the best of you,\\nBut I'm a...</td>\n",
       "      <td>8d70930d09cd239c948408d1317d8659</td>\n",
       "    </tr>\n",
       "  </tbody>\n",
       "</table>\n",
       "</div>"
      ],
      "text/plain": [
       "                            lyricId  \\\n",
       "0  a951f9504e89759e9d23039b7b17ec14   \n",
       "1  0c749bc3f01eb8e6cf986fa14ccfc585   \n",
       "2  e2c8830fbc86e5964478243099eec23a   \n",
       "3  e2c8830fbc86e5964478243099eec23a   \n",
       "4  7624653ca8522ba93470843c74961b7d   \n",
       "\n",
       "                                                text  \\\n",
       "0  Живу сейчас обломами, обломками не той любви\\n...   \n",
       "1  Tell me your fable\\nA fable\\nTell me your fabl...   \n",
       "2  You're ashamed about all your fears and doubts...   \n",
       "3  You're ashamed about all your fears and doubts...   \n",
       "4  You showed him all the best of you,\\nBut I'm a...   \n",
       "\n",
       "                           track_id  \n",
       "0  1c4b1230f937e4c548ff732523214dcd  \n",
       "1  0faea89b0d7d6235b5b74def72511bd8  \n",
       "2  9c6dc41d5ccd9968d07f055da5d8f741  \n",
       "3  bfd04a73e9cffdf0e282c92219a86ea1  \n",
       "4  8d70930d09cd239c948408d1317d8659  "
      ]
     },
     "execution_count": 18,
     "metadata": {},
     "output_type": "execute_result"
    }
   ],
   "source": [
    "df_lyrics.head()"
   ]
  },
  {
   "cell_type": "code",
   "execution_count": 19,
   "metadata": {
    "colab": {
     "base_uri": "https://localhost:8080/"
    },
    "id": "baVqbT2smzDN",
    "outputId": "39b46b9b-780b-4b67-ab5c-b79646879d40"
   },
   "outputs": [
    {
     "name": "stdout",
     "output_type": "stream",
     "text": [
      "<class 'pandas.core.frame.DataFrame'>\n",
      "RangeIndex: 11414 entries, 0 to 11413\n",
      "Data columns (total 3 columns):\n",
      " #   Column    Non-Null Count  Dtype \n",
      "---  ------    --------------  ----- \n",
      " 0   lyricId   11414 non-null  object\n",
      " 1   text      11414 non-null  object\n",
      " 2   track_id  11414 non-null  object\n",
      "dtypes: object(3)\n",
      "memory usage: 267.6+ KB\n"
     ]
    }
   ],
   "source": [
    "df_lyrics.info()"
   ]
  },
  {
   "cell_type": "code",
   "execution_count": 20,
   "metadata": {
    "colab": {
     "base_uri": "https://localhost:8080/",
     "height": 175
    },
    "id": "gI_vtnE2fcO_",
    "outputId": "ecc5302e-1cf2-4025-f670-7d6c414a56d6"
   },
   "outputs": [
    {
     "data": {
      "text/html": [
       "<div>\n",
       "<style scoped>\n",
       "    .dataframe tbody tr th:only-of-type {\n",
       "        vertical-align: middle;\n",
       "    }\n",
       "\n",
       "    .dataframe tbody tr th {\n",
       "        vertical-align: top;\n",
       "    }\n",
       "\n",
       "    .dataframe thead th {\n",
       "        text-align: right;\n",
       "    }\n",
       "</style>\n",
       "<table border=\"1\" class=\"dataframe\">\n",
       "  <thead>\n",
       "    <tr style=\"text-align: right;\">\n",
       "      <th></th>\n",
       "      <th>lyricId</th>\n",
       "      <th>text</th>\n",
       "      <th>track_id</th>\n",
       "    </tr>\n",
       "  </thead>\n",
       "  <tbody>\n",
       "    <tr>\n",
       "      <th>count</th>\n",
       "      <td>11414</td>\n",
       "      <td>11414</td>\n",
       "      <td>11414</td>\n",
       "    </tr>\n",
       "    <tr>\n",
       "      <th>unique</th>\n",
       "      <td>10915</td>\n",
       "      <td>10644</td>\n",
       "      <td>10277</td>\n",
       "    </tr>\n",
       "    <tr>\n",
       "      <th>top</th>\n",
       "      <td>6fe05ce48761f833737487cd7a499cd3</td>\n",
       "      <td>Twenty-five years and my life is still\\nI'm tr...</td>\n",
       "      <td>b891000882f4a612190142861b5c038b</td>\n",
       "    </tr>\n",
       "    <tr>\n",
       "      <th>freq</th>\n",
       "      <td>9</td>\n",
       "      <td>15</td>\n",
       "      <td>24</td>\n",
       "    </tr>\n",
       "  </tbody>\n",
       "</table>\n",
       "</div>"
      ],
      "text/plain": [
       "                                 lyricId  \\\n",
       "count                              11414   \n",
       "unique                             10915   \n",
       "top     6fe05ce48761f833737487cd7a499cd3   \n",
       "freq                                   9   \n",
       "\n",
       "                                                     text  \\\n",
       "count                                               11414   \n",
       "unique                                              10644   \n",
       "top     Twenty-five years and my life is still\\nI'm tr...   \n",
       "freq                                                   15   \n",
       "\n",
       "                                track_id  \n",
       "count                              11414  \n",
       "unique                             10277  \n",
       "top     b891000882f4a612190142861b5c038b  \n",
       "freq                                  24  "
      ]
     },
     "execution_count": 20,
     "metadata": {},
     "output_type": "execute_result"
    }
   ],
   "source": [
    "df_lyrics.describe()"
   ]
  },
  {
   "cell_type": "code",
   "execution_count": 21,
   "metadata": {
    "colab": {
     "base_uri": "https://localhost:8080/"
    },
    "id": "j8Lr7h89fW9a",
    "outputId": "fe252989-7c6c-4f85-d91c-679ea7652195"
   },
   "outputs": [
    {
     "data": {
      "text/plain": [
       "lyricId     0\n",
       "text        0\n",
       "track_id    0\n",
       "dtype: int64"
      ]
     },
     "execution_count": 21,
     "metadata": {},
     "output_type": "execute_result"
    }
   ],
   "source": [
    "df_lyrics.isna().sum()"
   ]
  },
  {
   "cell_type": "markdown",
   "metadata": {
    "id": "aFR-FSnLmlAC"
   },
   "source": [
    "Пропусков нет, все столбцы с правильным названием. Переименуем `lyricId` в `lyric_id`.\n",
    "\n",
    "Замечаем, что присутствуют дубликаты в стобце `track_id`, который должен быть уникальным. В результате анализа обнаружили, что это связано с тем, что некоторые тексты песен различаются лишь несколькими символами, хотя по сути являются одинаковыми. Избавимся от этих дубликатов."
   ]
  },
  {
   "cell_type": "code",
   "execution_count": 22,
   "metadata": {
    "id": "ncM8mOvprQO9"
   },
   "outputs": [],
   "source": [
    "df_lyrics.drop_duplicates(subset='track_id', keep='first', inplace=True)"
   ]
  },
  {
   "cell_type": "code",
   "execution_count": 23,
   "metadata": {
    "id": "1QzPQFrfsTqW"
   },
   "outputs": [],
   "source": [
    "df_lyrics.rename(columns={'lyricId': 'lyric_id'}, inplace=True)"
   ]
  },
  {
   "cell_type": "code",
   "execution_count": 24,
   "metadata": {
    "colab": {
     "base_uri": "https://localhost:8080/",
     "height": 175
    },
    "id": "fx_sIgggtPza",
    "outputId": "922a1abc-89d0-41a6-c1a3-d7b26795a553"
   },
   "outputs": [
    {
     "data": {
      "text/html": [
       "<div>\n",
       "<style scoped>\n",
       "    .dataframe tbody tr th:only-of-type {\n",
       "        vertical-align: middle;\n",
       "    }\n",
       "\n",
       "    .dataframe tbody tr th {\n",
       "        vertical-align: top;\n",
       "    }\n",
       "\n",
       "    .dataframe thead th {\n",
       "        text-align: right;\n",
       "    }\n",
       "</style>\n",
       "<table border=\"1\" class=\"dataframe\">\n",
       "  <thead>\n",
       "    <tr style=\"text-align: right;\">\n",
       "      <th></th>\n",
       "      <th>lyric_id</th>\n",
       "      <th>text</th>\n",
       "      <th>track_id</th>\n",
       "    </tr>\n",
       "  </thead>\n",
       "  <tbody>\n",
       "    <tr>\n",
       "      <th>count</th>\n",
       "      <td>10277</td>\n",
       "      <td>10277</td>\n",
       "      <td>10277</td>\n",
       "    </tr>\n",
       "    <tr>\n",
       "      <th>unique</th>\n",
       "      <td>9891</td>\n",
       "      <td>9852</td>\n",
       "      <td>10277</td>\n",
       "    </tr>\n",
       "    <tr>\n",
       "      <th>top</th>\n",
       "      <td>28fbafaf626c497d0d4d933b4f0d3f5b</td>\n",
       "      <td>I don't know just how it happened, I let down ...</td>\n",
       "      <td>7d98246460d93188a9cac6ba41c15138</td>\n",
       "    </tr>\n",
       "    <tr>\n",
       "      <th>freq</th>\n",
       "      <td>9</td>\n",
       "      <td>9</td>\n",
       "      <td>1</td>\n",
       "    </tr>\n",
       "  </tbody>\n",
       "</table>\n",
       "</div>"
      ],
      "text/plain": [
       "                                lyric_id  \\\n",
       "count                              10277   \n",
       "unique                              9891   \n",
       "top     28fbafaf626c497d0d4d933b4f0d3f5b   \n",
       "freq                                   9   \n",
       "\n",
       "                                                     text  \\\n",
       "count                                               10277   \n",
       "unique                                               9852   \n",
       "top     I don't know just how it happened, I let down ...   \n",
       "freq                                                    9   \n",
       "\n",
       "                                track_id  \n",
       "count                              10277  \n",
       "unique                             10277  \n",
       "top     7d98246460d93188a9cac6ba41c15138  \n",
       "freq                                   1  "
      ]
     },
     "execution_count": 24,
     "metadata": {},
     "output_type": "execute_result"
    }
   ],
   "source": [
    "df_lyrics.describe()"
   ]
  },
  {
   "cell_type": "markdown",
   "metadata": {
    "id": "TZB5JmKstifF"
   },
   "source": [
    "Готово"
   ]
  },
  {
   "cell_type": "markdown",
   "metadata": {
    "id": "cyPc_2i0mlKQ"
   },
   "source": [
    "### Meta"
   ]
  },
  {
   "cell_type": "code",
   "execution_count": 25,
   "metadata": {
    "colab": {
     "base_uri": "https://localhost:8080/",
     "height": 206
    },
    "id": "C0xSRo44vB8Y",
    "outputId": "f1e7d76f-babe-4bb2-b5be-ce31fd8d8f7a"
   },
   "outputs": [
    {
     "data": {
      "text/html": [
       "<div>\n",
       "<style scoped>\n",
       "    .dataframe tbody tr th:only-of-type {\n",
       "        vertical-align: middle;\n",
       "    }\n",
       "\n",
       "    .dataframe tbody tr th {\n",
       "        vertical-align: top;\n",
       "    }\n",
       "\n",
       "    .dataframe thead th {\n",
       "        text-align: right;\n",
       "    }\n",
       "</style>\n",
       "<table border=\"1\" class=\"dataframe\">\n",
       "  <thead>\n",
       "    <tr style=\"text-align: right;\">\n",
       "      <th></th>\n",
       "      <th>track_id</th>\n",
       "      <th>dttm</th>\n",
       "      <th>title</th>\n",
       "      <th>language</th>\n",
       "      <th>isrc</th>\n",
       "      <th>genres</th>\n",
       "      <th>duration</th>\n",
       "    </tr>\n",
       "  </thead>\n",
       "  <tbody>\n",
       "    <tr>\n",
       "      <th>0</th>\n",
       "      <td>c3b9d6a354ca008aa4518329aaa21380</td>\n",
       "      <td>1.639688e+12</td>\n",
       "      <td>Happy New Year</td>\n",
       "      <td>EN</td>\n",
       "      <td>RUB422103970</td>\n",
       "      <td>[DANCE]</td>\n",
       "      <td>161120.0</td>\n",
       "    </tr>\n",
       "    <tr>\n",
       "      <th>1</th>\n",
       "      <td>c57e3d13bbbf5322584a7e92e6f1f7ff</td>\n",
       "      <td>1.637762e+12</td>\n",
       "      <td>Bad Habits</td>\n",
       "      <td>EN</td>\n",
       "      <td>QZN882178276</td>\n",
       "      <td>[ELECTRONICS]</td>\n",
       "      <td>362260.0</td>\n",
       "    </tr>\n",
       "    <tr>\n",
       "      <th>2</th>\n",
       "      <td>955f2aafe8717908c140bf122ba4172d</td>\n",
       "      <td>1.637768e+12</td>\n",
       "      <td>Por Esa Loca Vanidad</td>\n",
       "      <td>None</td>\n",
       "      <td>QZNJZ2122549</td>\n",
       "      <td>[FOLK, LATINFOLK]</td>\n",
       "      <td>260000.0</td>\n",
       "    </tr>\n",
       "    <tr>\n",
       "      <th>3</th>\n",
       "      <td>fae5a077c9956045955dde02143bd8ff</td>\n",
       "      <td>1.637768e+12</td>\n",
       "      <td>Mil Lagrimas</td>\n",
       "      <td>None</td>\n",
       "      <td>QZNJZ2166033</td>\n",
       "      <td>[FOLK, LATINFOLK]</td>\n",
       "      <td>190000.0</td>\n",
       "    </tr>\n",
       "    <tr>\n",
       "      <th>4</th>\n",
       "      <td>6bede082154d34fc18d9a6744bc95bf5</td>\n",
       "      <td>1.637768e+12</td>\n",
       "      <td>Sexo Humo y Alcohol</td>\n",
       "      <td>None</td>\n",
       "      <td>QZNJZ2122551</td>\n",
       "      <td>[FOLK, LATINFOLK]</td>\n",
       "      <td>203000.0</td>\n",
       "    </tr>\n",
       "  </tbody>\n",
       "</table>\n",
       "</div>"
      ],
      "text/plain": [
       "                           track_id          dttm                 title  \\\n",
       "0  c3b9d6a354ca008aa4518329aaa21380  1.639688e+12        Happy New Year   \n",
       "1  c57e3d13bbbf5322584a7e92e6f1f7ff  1.637762e+12            Bad Habits   \n",
       "2  955f2aafe8717908c140bf122ba4172d  1.637768e+12  Por Esa Loca Vanidad   \n",
       "3  fae5a077c9956045955dde02143bd8ff  1.637768e+12          Mil Lagrimas   \n",
       "4  6bede082154d34fc18d9a6744bc95bf5  1.637768e+12   Sexo Humo y Alcohol   \n",
       "\n",
       "  language          isrc             genres  duration  \n",
       "0       EN  RUB422103970            [DANCE]  161120.0  \n",
       "1       EN  QZN882178276      [ELECTRONICS]  362260.0  \n",
       "2     None  QZNJZ2122549  [FOLK, LATINFOLK]  260000.0  \n",
       "3     None  QZNJZ2166033  [FOLK, LATINFOLK]  190000.0  \n",
       "4     None  QZNJZ2122551  [FOLK, LATINFOLK]  203000.0  "
      ]
     },
     "execution_count": 25,
     "metadata": {},
     "output_type": "execute_result"
    }
   ],
   "source": [
    "df_meta.head() "
   ]
  },
  {
   "cell_type": "code",
   "execution_count": 26,
   "metadata": {
    "colab": {
     "base_uri": "https://localhost:8080/"
    },
    "id": "md3hTvICgIBd",
    "outputId": "873e3e86-ceaa-49f1-ed2e-7f6845dd867c"
   },
   "outputs": [
    {
     "name": "stdout",
     "output_type": "stream",
     "text": [
      "<class 'pandas.core.frame.DataFrame'>\n",
      "RangeIndex: 71769 entries, 0 to 71768\n",
      "Data columns (total 7 columns):\n",
      " #   Column    Non-Null Count  Dtype  \n",
      "---  ------    --------------  -----  \n",
      " 0   track_id  71768 non-null  object \n",
      " 1   dttm      71768 non-null  float64\n",
      " 2   title     71768 non-null  object \n",
      " 3   language  21969 non-null  object \n",
      " 4   isrc      71455 non-null  object \n",
      " 5   genres    71768 non-null  object \n",
      " 6   duration  71768 non-null  float64\n",
      "dtypes: float64(2), object(5)\n",
      "memory usage: 3.8+ MB\n"
     ]
    }
   ],
   "source": [
    "df_meta.info()"
   ]
  },
  {
   "cell_type": "code",
   "execution_count": 27,
   "metadata": {
    "colab": {
     "base_uri": "https://localhost:8080/"
    },
    "id": "GpNtS6D0gTbZ",
    "outputId": "bb2be919-19ec-4b9b-f7ef-91419e78df18"
   },
   "outputs": [
    {
     "data": {
      "text/plain": [
       "track_id        1\n",
       "dttm            1\n",
       "title           1\n",
       "language    49800\n",
       "isrc          314\n",
       "genres          1\n",
       "duration        1\n",
       "dtype: int64"
      ]
     },
     "execution_count": 27,
     "metadata": {},
     "output_type": "execute_result"
    }
   ],
   "source": [
    "df_meta.isna().sum()"
   ]
  },
  {
   "cell_type": "code",
   "execution_count": 28,
   "metadata": {
    "colab": {
     "base_uri": "https://localhost:8080/",
     "height": 206
    },
    "id": "XQ9ISz8xw0QO",
    "outputId": "e0450f12-4d07-43f9-e5d7-8fa964793544"
   },
   "outputs": [
    {
     "data": {
      "text/html": [
       "<div>\n",
       "<style scoped>\n",
       "    .dataframe tbody tr th:only-of-type {\n",
       "        vertical-align: middle;\n",
       "    }\n",
       "\n",
       "    .dataframe tbody tr th {\n",
       "        vertical-align: top;\n",
       "    }\n",
       "\n",
       "    .dataframe thead th {\n",
       "        text-align: right;\n",
       "    }\n",
       "</style>\n",
       "<table border=\"1\" class=\"dataframe\">\n",
       "  <thead>\n",
       "    <tr style=\"text-align: right;\">\n",
       "      <th></th>\n",
       "      <th>track_id</th>\n",
       "      <th>dttm</th>\n",
       "      <th>title</th>\n",
       "      <th>language</th>\n",
       "      <th>isrc</th>\n",
       "      <th>genres</th>\n",
       "      <th>duration</th>\n",
       "    </tr>\n",
       "  </thead>\n",
       "  <tbody>\n",
       "    <tr>\n",
       "      <th>35829</th>\n",
       "      <td>fffc8f02feca70f7fad88fb987b76c4e</td>\n",
       "      <td>1.633135e+12</td>\n",
       "      <td>La Luz de la Cara Roja</td>\n",
       "      <td>None</td>\n",
       "      <td>ARAB82100052</td>\n",
       "      <td>[ROCK, ALLROCK]</td>\n",
       "      <td>200100.0</td>\n",
       "    </tr>\n",
       "    <tr>\n",
       "      <th>36591</th>\n",
       "      <td>fffefc046267a3f6263fc2c8d0f3f871</td>\n",
       "      <td>1.633989e+12</td>\n",
       "      <td>Uska Hi Banana</td>\n",
       "      <td>None</td>\n",
       "      <td>QZNJX2142230</td>\n",
       "      <td>[FOLK]</td>\n",
       "      <td>185880.0</td>\n",
       "    </tr>\n",
       "    <tr>\n",
       "      <th>71472</th>\n",
       "      <td>ffff8f1c01d78267ce067a2507fcc8f8</td>\n",
       "      <td>1.558112e+12</td>\n",
       "      <td>No Limit</td>\n",
       "      <td>None</td>\n",
       "      <td>PLS921752714</td>\n",
       "      <td>[]</td>\n",
       "      <td>175950.0</td>\n",
       "    </tr>\n",
       "    <tr>\n",
       "      <th>46002</th>\n",
       "      <td>ffff9a22aa441db772206280ffb8b52e</td>\n",
       "      <td>1.423084e+12</td>\n",
       "      <td>You're a Woman</td>\n",
       "      <td>None</td>\n",
       "      <td>None</td>\n",
       "      <td>[POP]</td>\n",
       "      <td>321820.0</td>\n",
       "    </tr>\n",
       "    <tr>\n",
       "      <th>44434</th>\n",
       "      <td>None</td>\n",
       "      <td>NaN</td>\n",
       "      <td>None</td>\n",
       "      <td>None</td>\n",
       "      <td>None</td>\n",
       "      <td>None</td>\n",
       "      <td>NaN</td>\n",
       "    </tr>\n",
       "  </tbody>\n",
       "</table>\n",
       "</div>"
      ],
      "text/plain": [
       "                               track_id          dttm                   title  \\\n",
       "35829  fffc8f02feca70f7fad88fb987b76c4e  1.633135e+12  La Luz de la Cara Roja   \n",
       "36591  fffefc046267a3f6263fc2c8d0f3f871  1.633989e+12          Uska Hi Banana   \n",
       "71472  ffff8f1c01d78267ce067a2507fcc8f8  1.558112e+12                No Limit   \n",
       "46002  ffff9a22aa441db772206280ffb8b52e  1.423084e+12          You're a Woman   \n",
       "44434                              None           NaN                    None   \n",
       "\n",
       "      language          isrc           genres  duration  \n",
       "35829     None  ARAB82100052  [ROCK, ALLROCK]  200100.0  \n",
       "36591     None  QZNJX2142230           [FOLK]  185880.0  \n",
       "71472     None  PLS921752714               []  175950.0  \n",
       "46002     None          None            [POP]  321820.0  \n",
       "44434     None          None             None       NaN  "
      ]
     },
     "execution_count": 28,
     "metadata": {},
     "output_type": "execute_result"
    }
   ],
   "source": [
    "df_meta.sort_values(by='track_id').tail()"
   ]
  },
  {
   "cell_type": "markdown",
   "metadata": {
    "id": "BnT6LpJjzPee"
   },
   "source": [
    "Названия правильные, дата не в неправильном формате, приведём к `datetime`.\n",
    "\n",
    "Присутсвуют пропуски в столбцах `language` (очень много) и `isrc`.\n",
    "\n",
    "Есть одна полностью пустая строка, удалим ее.\n",
    "\n",
    "Язык будем восстанавливать по названию трека.\n",
    "\n",
    "Пропуски в `isrc` никак не восстановить - удалим."
   ]
  },
  {
   "cell_type": "code",
   "execution_count": 29,
   "metadata": {
    "id": "M22NNZzO2yl1"
   },
   "outputs": [],
   "source": [
    "df_meta.dropna(how='all', inplace=True)"
   ]
  },
  {
   "cell_type": "code",
   "execution_count": 30,
   "metadata": {
    "id": "uwz4mkT9ZU1J"
   },
   "outputs": [],
   "source": [
    "df_meta['dttm'] = pd.to_datetime(df_meta['dttm'], unit='ms')"
   ]
  },
  {
   "cell_type": "markdown",
   "metadata": {
    "id": "NeKipCmRVQWY"
   },
   "source": [
    "Теперь создадим функцию исключение, чтобы `langdetector` не выдал ошибку. Применяем функцию, заполняем пропуски языка по названию треков"
   ]
  },
  {
   "cell_type": "code",
   "execution_count": 31,
   "metadata": {
    "colab": {
     "base_uri": "https://localhost:8080/"
    },
    "id": "tDfLq9L5QwPG",
    "outputId": "46c86093-29ce-4205-c49f-d64763a38b85"
   },
   "outputs": [
    {
     "name": "stdout",
     "output_type": "stream",
     "text": [
      "Wall time: 0 ns\n"
     ]
    }
   ],
   "source": [
    "%%time\n",
    "def detect_language(text):\n",
    "    try:\n",
    "        result = detect(text)\n",
    "        return result.upper()\n",
    "    except:\n",
    "        return None"
   ]
  },
  {
   "cell_type": "code",
   "execution_count": 32,
   "metadata": {},
   "outputs": [
    {
     "name": "stderr",
     "output_type": "stream",
     "text": [
      "100%|████████████████████████████████████████████████████████████████████████████| 71768/71768 [22:04<00:00, 54.18it/s]\n"
     ]
    }
   ],
   "source": [
    "df_meta['language'].fillna(\n",
    "    df_meta['title'].progress_apply(\n",
    "        lambda x: detect_language(str(x)) if pd.notna(x) and x.strip() else None\n",
    "    ),\n",
    "    inplace=True\n",
    ")"
   ]
  },
  {
   "cell_type": "code",
   "execution_count": 33,
   "metadata": {
    "colab": {
     "base_uri": "https://localhost:8080/"
    },
    "id": "2bXT85hC_ypf",
    "outputId": "ab69dc74-5d58-403c-fe0e-af564164cdbf"
   },
   "outputs": [
    {
     "data": {
      "text/plain": [
       "track_id      0\n",
       "dttm          0\n",
       "title         0\n",
       "language     69\n",
       "isrc        313\n",
       "genres        0\n",
       "duration      0\n",
       "dtype: int64"
      ]
     },
     "execution_count": 33,
     "metadata": {},
     "output_type": "execute_result"
    }
   ],
   "source": [
    "df_meta.isna().sum()"
   ]
  },
  {
   "cell_type": "markdown",
   "metadata": {
    "id": "CQdsn8K6VbFZ"
   },
   "source": [
    "Проверяем - готово, осталось всего 69 миссов! Отличный результат. Удаляем остатки"
   ]
  },
  {
   "cell_type": "code",
   "execution_count": 34,
   "metadata": {
    "id": "cilBCzIUVAR_"
   },
   "outputs": [],
   "source": [
    "df_meta.dropna(inplace=True)"
   ]
  },
  {
   "cell_type": "markdown",
   "metadata": {
    "id": "0OPUKErtVpKv"
   },
   "source": [
    "Проверим, корректно ли заполнился язык."
   ]
  },
  {
   "cell_type": "code",
   "execution_count": 35,
   "metadata": {
    "colab": {
     "base_uri": "https://localhost:8080/",
     "height": 990
    },
    "id": "JK6pv48S_6tT",
    "outputId": "ea651167-5ba5-425c-cef5-8937f5ac8480"
   },
   "outputs": [
    {
     "data": {
      "text/html": [
       "<div>\n",
       "<style scoped>\n",
       "    .dataframe tbody tr th:only-of-type {\n",
       "        vertical-align: middle;\n",
       "    }\n",
       "\n",
       "    .dataframe tbody tr th {\n",
       "        vertical-align: top;\n",
       "    }\n",
       "\n",
       "    .dataframe thead th {\n",
       "        text-align: right;\n",
       "    }\n",
       "</style>\n",
       "<table border=\"1\" class=\"dataframe\">\n",
       "  <thead>\n",
       "    <tr style=\"text-align: right;\">\n",
       "      <th></th>\n",
       "      <th>track_id</th>\n",
       "      <th>dttm</th>\n",
       "      <th>title</th>\n",
       "      <th>language</th>\n",
       "      <th>isrc</th>\n",
       "      <th>genres</th>\n",
       "      <th>duration</th>\n",
       "    </tr>\n",
       "  </thead>\n",
       "  <tbody>\n",
       "    <tr>\n",
       "      <th>0</th>\n",
       "      <td>c3b9d6a354ca008aa4518329aaa21380</td>\n",
       "      <td>2021-12-16 21:00:00</td>\n",
       "      <td>Happy New Year</td>\n",
       "      <td>EN</td>\n",
       "      <td>RUB422103970</td>\n",
       "      <td>[DANCE]</td>\n",
       "      <td>161120.0</td>\n",
       "    </tr>\n",
       "    <tr>\n",
       "      <th>1</th>\n",
       "      <td>c57e3d13bbbf5322584a7e92e6f1f7ff</td>\n",
       "      <td>2021-11-24 14:00:33</td>\n",
       "      <td>Bad Habits</td>\n",
       "      <td>EN</td>\n",
       "      <td>QZN882178276</td>\n",
       "      <td>[ELECTRONICS]</td>\n",
       "      <td>362260.0</td>\n",
       "    </tr>\n",
       "    <tr>\n",
       "      <th>2</th>\n",
       "      <td>955f2aafe8717908c140bf122ba4172d</td>\n",
       "      <td>2021-11-24 15:37:03</td>\n",
       "      <td>Por Esa Loca Vanidad</td>\n",
       "      <td>PT</td>\n",
       "      <td>QZNJZ2122549</td>\n",
       "      <td>[FOLK, LATINFOLK]</td>\n",
       "      <td>260000.0</td>\n",
       "    </tr>\n",
       "    <tr>\n",
       "      <th>3</th>\n",
       "      <td>fae5a077c9956045955dde02143bd8ff</td>\n",
       "      <td>2021-11-24 15:37:03</td>\n",
       "      <td>Mil Lagrimas</td>\n",
       "      <td>IT</td>\n",
       "      <td>QZNJZ2166033</td>\n",
       "      <td>[FOLK, LATINFOLK]</td>\n",
       "      <td>190000.0</td>\n",
       "    </tr>\n",
       "    <tr>\n",
       "      <th>4</th>\n",
       "      <td>6bede082154d34fc18d9a6744bc95bf5</td>\n",
       "      <td>2021-11-24 15:37:03</td>\n",
       "      <td>Sexo Humo y Alcohol</td>\n",
       "      <td>ES</td>\n",
       "      <td>QZNJZ2122551</td>\n",
       "      <td>[FOLK, LATINFOLK]</td>\n",
       "      <td>203000.0</td>\n",
       "    </tr>\n",
       "    <tr>\n",
       "      <th>5</th>\n",
       "      <td>551331ee1444de6658e71933eb7f57a2</td>\n",
       "      <td>2021-11-24 15:37:03</td>\n",
       "      <td>La Ultima Vez</td>\n",
       "      <td>IT</td>\n",
       "      <td>QZNJZ2166034</td>\n",
       "      <td>[FOLK, LATINFOLK]</td>\n",
       "      <td>173000.0</td>\n",
       "    </tr>\n",
       "    <tr>\n",
       "      <th>6</th>\n",
       "      <td>2be8bb01bb1aeef0908524dc11935a88</td>\n",
       "      <td>2021-11-24 15:37:03</td>\n",
       "      <td>Homenaje a Pastor de los Santos</td>\n",
       "      <td>ES</td>\n",
       "      <td>QZNJZ2122553</td>\n",
       "      <td>[FOLK, LATINFOLK]</td>\n",
       "      <td>192100.0</td>\n",
       "    </tr>\n",
       "    <tr>\n",
       "      <th>7</th>\n",
       "      <td>3883d1add3ff8b60e77548a64df7c892</td>\n",
       "      <td>2021-11-24 15:37:03</td>\n",
       "      <td>Los Marginales</td>\n",
       "      <td>ES</td>\n",
       "      <td>QZNJZ2122554</td>\n",
       "      <td>[FOLK, LATINFOLK]</td>\n",
       "      <td>311500.0</td>\n",
       "    </tr>\n",
       "    <tr>\n",
       "      <th>8</th>\n",
       "      <td>59aa886979699aa7e4e2a8aed43bfe03</td>\n",
       "      <td>2021-11-24 15:37:03</td>\n",
       "      <td>Cuenta Conmigo</td>\n",
       "      <td>ES</td>\n",
       "      <td>QZNJZ2122555</td>\n",
       "      <td>[FOLK, LATINFOLK]</td>\n",
       "      <td>250000.0</td>\n",
       "    </tr>\n",
       "    <tr>\n",
       "      <th>9</th>\n",
       "      <td>2a38992b7769963937246288ad89b44c</td>\n",
       "      <td>2021-11-24 15:37:03</td>\n",
       "      <td>Ahora Juego Yo</td>\n",
       "      <td>ES</td>\n",
       "      <td>QZNJZ2122556</td>\n",
       "      <td>[FOLK, LATINFOLK]</td>\n",
       "      <td>156000.0</td>\n",
       "    </tr>\n",
       "    <tr>\n",
       "      <th>10</th>\n",
       "      <td>530c73cb44a3b3abd7f2b299977fbb19</td>\n",
       "      <td>2021-11-24 15:37:03</td>\n",
       "      <td>Mariposa</td>\n",
       "      <td>ES</td>\n",
       "      <td>QZNJZ2166035</td>\n",
       "      <td>[FOLK, LATINFOLK]</td>\n",
       "      <td>249000.0</td>\n",
       "    </tr>\n",
       "    <tr>\n",
       "      <th>11</th>\n",
       "      <td>c11320ee81872399e23a2670749d393a</td>\n",
       "      <td>2021-11-24 15:37:03</td>\n",
       "      <td>Voy a Beber / Piensas en Mi /  Por el Momento ...</td>\n",
       "      <td>ES</td>\n",
       "      <td>QZNJZ2166036</td>\n",
       "      <td>[FOLK, LATINFOLK]</td>\n",
       "      <td>413000.0</td>\n",
       "    </tr>\n",
       "    <tr>\n",
       "      <th>12</th>\n",
       "      <td>5f95372a5ae6e6d0d7606ea11dce1ece</td>\n",
       "      <td>2021-11-24 15:37:03</td>\n",
       "      <td>Adicto a Tu Piel</td>\n",
       "      <td>EN</td>\n",
       "      <td>QZNJZ2166037</td>\n",
       "      <td>[FOLK, LATINFOLK]</td>\n",
       "      <td>193820.0</td>\n",
       "    </tr>\n",
       "    <tr>\n",
       "      <th>13</th>\n",
       "      <td>adfa176e2fb0b952569129a22d64de4d</td>\n",
       "      <td>2021-11-24 15:37:03</td>\n",
       "      <td>Mi Amor Imposible</td>\n",
       "      <td>CA</td>\n",
       "      <td>QZNJZ2166038</td>\n",
       "      <td>[FOLK, LATINFOLK]</td>\n",
       "      <td>207450.0</td>\n",
       "    </tr>\n",
       "    <tr>\n",
       "      <th>14</th>\n",
       "      <td>a7309d9c3374e12201f3226bc0fa7980</td>\n",
       "      <td>2021-11-24 15:37:21</td>\n",
       "      <td>Canto para Pedir Posada Cumbiamix</td>\n",
       "      <td>PT</td>\n",
       "      <td>QZNJZ2167682</td>\n",
       "      <td>[FOLK, LATINFOLK]</td>\n",
       "      <td>211200.0</td>\n",
       "    </tr>\n",
       "    <tr>\n",
       "      <th>15</th>\n",
       "      <td>1069db8b42f2f79b6a66ae57c6332670</td>\n",
       "      <td>2021-11-24 16:47:17</td>\n",
       "      <td>The Moment</td>\n",
       "      <td>EN</td>\n",
       "      <td>QZNJZ2173087</td>\n",
       "      <td>[JAZZ, CONJAZZ]</td>\n",
       "      <td>287700.0</td>\n",
       "    </tr>\n",
       "    <tr>\n",
       "      <th>16</th>\n",
       "      <td>f973c844c174b9eafca7fa87560c2df9</td>\n",
       "      <td>2021-11-24 16:47:18</td>\n",
       "      <td>Forever in Love</td>\n",
       "      <td>NO</td>\n",
       "      <td>QZNJZ2173055</td>\n",
       "      <td>[JAZZ, CONJAZZ]</td>\n",
       "      <td>310750.0</td>\n",
       "    </tr>\n",
       "    <tr>\n",
       "      <th>17</th>\n",
       "      <td>c996348ac49e0c243a4eb4cb0a9cfbbb</td>\n",
       "      <td>2021-11-24 16:57:06</td>\n",
       "      <td>Boa Noite Vizinhança</td>\n",
       "      <td>PT</td>\n",
       "      <td>QZNJZ2178383</td>\n",
       "      <td>[POP]</td>\n",
       "      <td>297330.0</td>\n",
       "    </tr>\n",
       "    <tr>\n",
       "      <th>18</th>\n",
       "      <td>55a4890cc667212a048ce81b4049d1ea</td>\n",
       "      <td>2021-11-24 16:59:05</td>\n",
       "      <td>Tacones Rojos</td>\n",
       "      <td>ES</td>\n",
       "      <td>GBKPL2174553</td>\n",
       "      <td>[POP, FOLK, LATINFOLK]</td>\n",
       "      <td>181230.0</td>\n",
       "    </tr>\n",
       "    <tr>\n",
       "      <th>19</th>\n",
       "      <td>f8de56ba1399dfab829176023352024d</td>\n",
       "      <td>2021-11-24 17:03:24</td>\n",
       "      <td>Parabéns pra Você</td>\n",
       "      <td>PT</td>\n",
       "      <td>QZNJZ2137727</td>\n",
       "      <td>[FOLK, LATINFOLK]</td>\n",
       "      <td>272370.0</td>\n",
       "    </tr>\n",
       "    <tr>\n",
       "      <th>20</th>\n",
       "      <td>c0d52a0b4713145bcd3b10b7e5315bfa</td>\n",
       "      <td>2021-11-24 17:03:24</td>\n",
       "      <td>Timidez</td>\n",
       "      <td>RO</td>\n",
       "      <td>QZNJZ2137728</td>\n",
       "      <td>[FOLK, LATINFOLK]</td>\n",
       "      <td>267490.0</td>\n",
       "    </tr>\n",
       "    <tr>\n",
       "      <th>21</th>\n",
       "      <td>0cd778cff703e232d0626ee47ec8c0ae</td>\n",
       "      <td>2021-11-24 17:03:24</td>\n",
       "      <td>Trovão</td>\n",
       "      <td>PT</td>\n",
       "      <td>QZNJZ2137729</td>\n",
       "      <td>[FOLK, LATINFOLK]</td>\n",
       "      <td>220730.0</td>\n",
       "    </tr>\n",
       "    <tr>\n",
       "      <th>22</th>\n",
       "      <td>0c0315f45a49a35901912d0084cdf03f</td>\n",
       "      <td>2021-11-24 17:03:24</td>\n",
       "      <td>Inigualável Paixão</td>\n",
       "      <td>PT</td>\n",
       "      <td>QZNJZ2137730</td>\n",
       "      <td>[FOLK, LATINFOLK]</td>\n",
       "      <td>230680.0</td>\n",
       "    </tr>\n",
       "    <tr>\n",
       "      <th>23</th>\n",
       "      <td>b07061f3d66aee20c96ed970a46c227b</td>\n",
       "      <td>2021-11-24 17:03:24</td>\n",
       "      <td>Pra Você Acreditar</td>\n",
       "      <td>RO</td>\n",
       "      <td>QZNJZ2137731</td>\n",
       "      <td>[FOLK, LATINFOLK]</td>\n",
       "      <td>195030.0</td>\n",
       "    </tr>\n",
       "    <tr>\n",
       "      <th>24</th>\n",
       "      <td>6baf269773c2bff0aa080991de62115d</td>\n",
       "      <td>2021-11-24 17:03:24</td>\n",
       "      <td>Pé na Areia</td>\n",
       "      <td>PT</td>\n",
       "      <td>QZNJZ2137732</td>\n",
       "      <td>[FOLK, LATINFOLK]</td>\n",
       "      <td>216160.0</td>\n",
       "    </tr>\n",
       "    <tr>\n",
       "      <th>25</th>\n",
       "      <td>94093810e71074bec5a6990c1c214165</td>\n",
       "      <td>2022-10-19 21:00:00</td>\n",
       "      <td>Humsafar</td>\n",
       "      <td>HI</td>\n",
       "      <td>GX3HH2123738</td>\n",
       "      <td>[FOLK]</td>\n",
       "      <td>153690.0</td>\n",
       "    </tr>\n",
       "    <tr>\n",
       "      <th>26</th>\n",
       "      <td>2b74d8dc05d365e51cf4ff2bcc9727f0</td>\n",
       "      <td>2021-12-09 21:00:00</td>\n",
       "      <td>Die Together</td>\n",
       "      <td>EN</td>\n",
       "      <td>QZS672179786</td>\n",
       "      <td>[DANCE]</td>\n",
       "      <td>177190.0</td>\n",
       "    </tr>\n",
       "    <tr>\n",
       "      <th>27</th>\n",
       "      <td>bdca41f86284a6284c8e48c440bcced0</td>\n",
       "      <td>2021-11-24 17:42:00</td>\n",
       "      <td>Jhuki Jhuki Si Nazar Teri Bekraar</td>\n",
       "      <td>ID</td>\n",
       "      <td>FRDKW2106471</td>\n",
       "      <td>[FOLK]</td>\n",
       "      <td>296100.0</td>\n",
       "    </tr>\n",
       "    <tr>\n",
       "      <th>28</th>\n",
       "      <td>988b3d43fc47fdf843b6c21de0fe3bb4</td>\n",
       "      <td>2021-11-24 17:59:32</td>\n",
       "      <td>Coração Cachorro</td>\n",
       "      <td>PT</td>\n",
       "      <td>QZNJZ2173527</td>\n",
       "      <td>[FOLK, LATINFOLK]</td>\n",
       "      <td>146670.0</td>\n",
       "    </tr>\n",
       "    <tr>\n",
       "      <th>29</th>\n",
       "      <td>b83e2289c343f6196c08c2b48a9c689f</td>\n",
       "      <td>2021-11-24 17:59:40</td>\n",
       "      <td>Volta Rapariga</td>\n",
       "      <td>IT</td>\n",
       "      <td>QZNJZ2173630</td>\n",
       "      <td>[FOLK, LATINFOLK]</td>\n",
       "      <td>225430.0</td>\n",
       "    </tr>\n",
       "  </tbody>\n",
       "</table>\n",
       "</div>"
      ],
      "text/plain": [
       "                            track_id                dttm  \\\n",
       "0   c3b9d6a354ca008aa4518329aaa21380 2021-12-16 21:00:00   \n",
       "1   c57e3d13bbbf5322584a7e92e6f1f7ff 2021-11-24 14:00:33   \n",
       "2   955f2aafe8717908c140bf122ba4172d 2021-11-24 15:37:03   \n",
       "3   fae5a077c9956045955dde02143bd8ff 2021-11-24 15:37:03   \n",
       "4   6bede082154d34fc18d9a6744bc95bf5 2021-11-24 15:37:03   \n",
       "5   551331ee1444de6658e71933eb7f57a2 2021-11-24 15:37:03   \n",
       "6   2be8bb01bb1aeef0908524dc11935a88 2021-11-24 15:37:03   \n",
       "7   3883d1add3ff8b60e77548a64df7c892 2021-11-24 15:37:03   \n",
       "8   59aa886979699aa7e4e2a8aed43bfe03 2021-11-24 15:37:03   \n",
       "9   2a38992b7769963937246288ad89b44c 2021-11-24 15:37:03   \n",
       "10  530c73cb44a3b3abd7f2b299977fbb19 2021-11-24 15:37:03   \n",
       "11  c11320ee81872399e23a2670749d393a 2021-11-24 15:37:03   \n",
       "12  5f95372a5ae6e6d0d7606ea11dce1ece 2021-11-24 15:37:03   \n",
       "13  adfa176e2fb0b952569129a22d64de4d 2021-11-24 15:37:03   \n",
       "14  a7309d9c3374e12201f3226bc0fa7980 2021-11-24 15:37:21   \n",
       "15  1069db8b42f2f79b6a66ae57c6332670 2021-11-24 16:47:17   \n",
       "16  f973c844c174b9eafca7fa87560c2df9 2021-11-24 16:47:18   \n",
       "17  c996348ac49e0c243a4eb4cb0a9cfbbb 2021-11-24 16:57:06   \n",
       "18  55a4890cc667212a048ce81b4049d1ea 2021-11-24 16:59:05   \n",
       "19  f8de56ba1399dfab829176023352024d 2021-11-24 17:03:24   \n",
       "20  c0d52a0b4713145bcd3b10b7e5315bfa 2021-11-24 17:03:24   \n",
       "21  0cd778cff703e232d0626ee47ec8c0ae 2021-11-24 17:03:24   \n",
       "22  0c0315f45a49a35901912d0084cdf03f 2021-11-24 17:03:24   \n",
       "23  b07061f3d66aee20c96ed970a46c227b 2021-11-24 17:03:24   \n",
       "24  6baf269773c2bff0aa080991de62115d 2021-11-24 17:03:24   \n",
       "25  94093810e71074bec5a6990c1c214165 2022-10-19 21:00:00   \n",
       "26  2b74d8dc05d365e51cf4ff2bcc9727f0 2021-12-09 21:00:00   \n",
       "27  bdca41f86284a6284c8e48c440bcced0 2021-11-24 17:42:00   \n",
       "28  988b3d43fc47fdf843b6c21de0fe3bb4 2021-11-24 17:59:32   \n",
       "29  b83e2289c343f6196c08c2b48a9c689f 2021-11-24 17:59:40   \n",
       "\n",
       "                                                title language          isrc  \\\n",
       "0                                      Happy New Year       EN  RUB422103970   \n",
       "1                                          Bad Habits       EN  QZN882178276   \n",
       "2                                Por Esa Loca Vanidad       PT  QZNJZ2122549   \n",
       "3                                        Mil Lagrimas       IT  QZNJZ2166033   \n",
       "4                                 Sexo Humo y Alcohol       ES  QZNJZ2122551   \n",
       "5                                       La Ultima Vez       IT  QZNJZ2166034   \n",
       "6                     Homenaje a Pastor de los Santos       ES  QZNJZ2122553   \n",
       "7                                      Los Marginales       ES  QZNJZ2122554   \n",
       "8                                      Cuenta Conmigo       ES  QZNJZ2122555   \n",
       "9                                      Ahora Juego Yo       ES  QZNJZ2122556   \n",
       "10                                           Mariposa       ES  QZNJZ2166035   \n",
       "11  Voy a Beber / Piensas en Mi /  Por el Momento ...       ES  QZNJZ2166036   \n",
       "12                                   Adicto a Tu Piel       EN  QZNJZ2166037   \n",
       "13                                  Mi Amor Imposible       CA  QZNJZ2166038   \n",
       "14                  Canto para Pedir Posada Cumbiamix       PT  QZNJZ2167682   \n",
       "15                                         The Moment       EN  QZNJZ2173087   \n",
       "16                                    Forever in Love       NO  QZNJZ2173055   \n",
       "17                               Boa Noite Vizinhança       PT  QZNJZ2178383   \n",
       "18                                      Tacones Rojos       ES  GBKPL2174553   \n",
       "19                                  Parabéns pra Você       PT  QZNJZ2137727   \n",
       "20                                            Timidez       RO  QZNJZ2137728   \n",
       "21                                             Trovão       PT  QZNJZ2137729   \n",
       "22                                 Inigualável Paixão       PT  QZNJZ2137730   \n",
       "23                                 Pra Você Acreditar       RO  QZNJZ2137731   \n",
       "24                                        Pé na Areia       PT  QZNJZ2137732   \n",
       "25                                           Humsafar       HI  GX3HH2123738   \n",
       "26                                       Die Together       EN  QZS672179786   \n",
       "27                  Jhuki Jhuki Si Nazar Teri Bekraar       ID  FRDKW2106471   \n",
       "28                                   Coração Cachorro       PT  QZNJZ2173527   \n",
       "29                                     Volta Rapariga       IT  QZNJZ2173630   \n",
       "\n",
       "                    genres  duration  \n",
       "0                  [DANCE]  161120.0  \n",
       "1            [ELECTRONICS]  362260.0  \n",
       "2        [FOLK, LATINFOLK]  260000.0  \n",
       "3        [FOLK, LATINFOLK]  190000.0  \n",
       "4        [FOLK, LATINFOLK]  203000.0  \n",
       "5        [FOLK, LATINFOLK]  173000.0  \n",
       "6        [FOLK, LATINFOLK]  192100.0  \n",
       "7        [FOLK, LATINFOLK]  311500.0  \n",
       "8        [FOLK, LATINFOLK]  250000.0  \n",
       "9        [FOLK, LATINFOLK]  156000.0  \n",
       "10       [FOLK, LATINFOLK]  249000.0  \n",
       "11       [FOLK, LATINFOLK]  413000.0  \n",
       "12       [FOLK, LATINFOLK]  193820.0  \n",
       "13       [FOLK, LATINFOLK]  207450.0  \n",
       "14       [FOLK, LATINFOLK]  211200.0  \n",
       "15         [JAZZ, CONJAZZ]  287700.0  \n",
       "16         [JAZZ, CONJAZZ]  310750.0  \n",
       "17                   [POP]  297330.0  \n",
       "18  [POP, FOLK, LATINFOLK]  181230.0  \n",
       "19       [FOLK, LATINFOLK]  272370.0  \n",
       "20       [FOLK, LATINFOLK]  267490.0  \n",
       "21       [FOLK, LATINFOLK]  220730.0  \n",
       "22       [FOLK, LATINFOLK]  230680.0  \n",
       "23       [FOLK, LATINFOLK]  195030.0  \n",
       "24       [FOLK, LATINFOLK]  216160.0  \n",
       "25                  [FOLK]  153690.0  \n",
       "26                 [DANCE]  177190.0  \n",
       "27                  [FOLK]  296100.0  \n",
       "28       [FOLK, LATINFOLK]  146670.0  \n",
       "29       [FOLK, LATINFOLK]  225430.0  "
      ]
     },
     "execution_count": 35,
     "metadata": {},
     "output_type": "execute_result"
    }
   ],
   "source": [
    "df_meta.head(30)"
   ]
  },
  {
   "cell_type": "markdown",
   "metadata": {
    "id": "dNaQGNVVVznN"
   },
   "source": [
    "Визуально всё в правильном формате, и почти всегда попадает в точку. Проверяем остатки пропусков."
   ]
  },
  {
   "cell_type": "code",
   "execution_count": 36,
   "metadata": {
    "colab": {
     "base_uri": "https://localhost:8080/"
    },
    "id": "V31CSU7HWCel",
    "outputId": "ab6de8cc-1cba-4bc4-e3f5-05ea31c5d159"
   },
   "outputs": [
    {
     "data": {
      "text/plain": [
       "track_id    0\n",
       "dttm        0\n",
       "title       0\n",
       "language    0\n",
       "isrc        0\n",
       "genres      0\n",
       "duration    0\n",
       "dtype: int64"
      ]
     },
     "execution_count": 36,
     "metadata": {},
     "output_type": "execute_result"
    }
   ],
   "source": [
    "df_meta.isna().sum()"
   ]
  },
  {
   "cell_type": "markdown",
   "metadata": {
    "id": "TQIRpWWZWFFA"
   },
   "source": [
    "Готово! теперь посмотрим дубликаты"
   ]
  },
  {
   "cell_type": "code",
   "execution_count": 37,
   "metadata": {
    "colab": {
     "base_uri": "https://localhost:8080/"
    },
    "id": "cydgRNq_WPKB",
    "outputId": "fe3d3c35-b551-4ef3-aad7-0611467b6a2b"
   },
   "outputs": [
    {
     "data": {
      "text/plain": [
       "0"
      ]
     },
     "execution_count": 37,
     "metadata": {},
     "output_type": "execute_result"
    }
   ],
   "source": [
    "df_meta.drop(columns=['genres'], axis=1, inplace=False).duplicated().sum()"
   ]
  },
  {
   "cell_type": "code",
   "execution_count": 38,
   "metadata": {
    "colab": {
     "base_uri": "https://localhost:8080/"
    },
    "id": "g71bOxr0kF_8",
    "outputId": "3faab9f5-e26d-453d-ebda-87696033bfe0"
   },
   "outputs": [
    {
     "data": {
      "text/plain": [
       "0"
      ]
     },
     "execution_count": 38,
     "metadata": {},
     "output_type": "execute_result"
    }
   ],
   "source": [
    "df_meta['track_id'].duplicated().sum()"
   ]
  },
  {
   "cell_type": "code",
   "execution_count": 39,
   "metadata": {
    "colab": {
     "base_uri": "https://localhost:8080/"
    },
    "id": "wB2y-gRQvPj_",
    "outputId": "d948758a-d8ba-4935-d5a0-66fae654aaf0"
   },
   "outputs": [
    {
     "data": {
      "text/plain": [
       "172"
      ]
     },
     "execution_count": 39,
     "metadata": {},
     "output_type": "execute_result"
    }
   ],
   "source": [
    "df_meta['isrc'].duplicated().sum()"
   ]
  },
  {
   "cell_type": "markdown",
   "metadata": {
    "id": "SaKcmk_EWqNb"
   },
   "source": [
    "Полные дубликаты отсутствуют, `track_id` все уникальные. Присутсвуют дубликаты в `isrc`, который по идее должен быть уникальным. Скорее всего это разные релизы одного и того же трека. Удалим их."
   ]
  },
  {
   "cell_type": "code",
   "execution_count": 40,
   "metadata": {
    "id": "0US6pMXEXiK9"
   },
   "outputs": [],
   "source": [
    "df_meta.drop_duplicates(subset='isrc', keep='first', inplace=True)"
   ]
  },
  {
   "cell_type": "code",
   "execution_count": 41,
   "metadata": {
    "colab": {
     "base_uri": "https://localhost:8080/"
    },
    "id": "XNu5a_OiXxDL",
    "outputId": "df43c9ba-fc6c-422a-c5d7-6be12a9f28f0"
   },
   "outputs": [
    {
     "data": {
      "text/plain": [
       "0"
      ]
     },
     "execution_count": 41,
     "metadata": {},
     "output_type": "execute_result"
    }
   ],
   "source": [
    "df_meta['isrc'].duplicated().sum() #проверяем"
   ]
  },
  {
   "cell_type": "markdown",
   "metadata": {
    "id": "BP0LyxNtX0_B"
   },
   "source": [
    "Готово! Начальный анализ проведён.\n",
    "\n",
    "**Вывод:** у нас есть три датасета, содержащих разную информацию. От пропусков избавились (кроме `original_track_id`), аномальные дубликаты удалены. Теперь можно сделать из них единый датафрейм. Уникальный `track_id` назначим индексом."
   ]
  },
  {
   "cell_type": "markdown",
   "metadata": {
    "id": "UvpRgVRBZ6lT"
   },
   "source": [
    "### Объединённый датафрейм"
   ]
  },
  {
   "cell_type": "code",
   "execution_count": 42,
   "metadata": {
    "id": "6BNOm_lTYYtR"
   },
   "outputs": [],
   "source": [
    "df = df_covers.merge(df_lyrics, on='track_id', how='outer').merge(df_meta, on='track_id', how='outer')\n",
    "\n",
    "df.set_index('track_id', inplace=True)"
   ]
  },
  {
   "cell_type": "code",
   "execution_count": 43,
   "metadata": {
    "colab": {
     "base_uri": "https://localhost:8080/",
     "height": 535
    },
    "id": "5aArJ4kRZ4n3",
    "outputId": "a7b9f9c7-0db6-41cb-b0b3-670752d0f0e8"
   },
   "outputs": [
    {
     "data": {
      "text/html": [
       "<div>\n",
       "<style scoped>\n",
       "    .dataframe tbody tr th:only-of-type {\n",
       "        vertical-align: middle;\n",
       "    }\n",
       "\n",
       "    .dataframe tbody tr th {\n",
       "        vertical-align: top;\n",
       "    }\n",
       "\n",
       "    .dataframe thead th {\n",
       "        text-align: right;\n",
       "    }\n",
       "</style>\n",
       "<table border=\"1\" class=\"dataframe\">\n",
       "  <thead>\n",
       "    <tr style=\"text-align: right;\">\n",
       "      <th></th>\n",
       "      <th>original_track_id</th>\n",
       "      <th>track_remake_type</th>\n",
       "      <th>lyric_id</th>\n",
       "      <th>text</th>\n",
       "      <th>dttm</th>\n",
       "      <th>title</th>\n",
       "      <th>language</th>\n",
       "      <th>isrc</th>\n",
       "      <th>genres</th>\n",
       "      <th>duration</th>\n",
       "    </tr>\n",
       "    <tr>\n",
       "      <th>track_id</th>\n",
       "      <th></th>\n",
       "      <th></th>\n",
       "      <th></th>\n",
       "      <th></th>\n",
       "      <th></th>\n",
       "      <th></th>\n",
       "      <th></th>\n",
       "      <th></th>\n",
       "      <th></th>\n",
       "      <th></th>\n",
       "    </tr>\n",
       "  </thead>\n",
       "  <tbody>\n",
       "    <tr>\n",
       "      <th>eeb69a3cb92300456b6a5f4162093851</th>\n",
       "      <td>eeb69a3cb92300456b6a5f4162093851</td>\n",
       "      <td>ORIGINAL</td>\n",
       "      <td>260f21d9f48e8de874a6e844159ddf28</td>\n",
       "      <td>Left a good job in the city\\nWorkin' for the m...</td>\n",
       "      <td>2009-11-11 21:00:00</td>\n",
       "      <td>Proud Mary</td>\n",
       "      <td>EN</td>\n",
       "      <td>USFI86900049</td>\n",
       "      <td>[ROCK, ALLROCK]</td>\n",
       "      <td>187220.0</td>\n",
       "    </tr>\n",
       "    <tr>\n",
       "      <th>fe7ee8fc1959cc7214fa21c4840dff0a</th>\n",
       "      <td>fe7ee8fc1959cc7214fa21c4840dff0a</td>\n",
       "      <td>ORIGINAL</td>\n",
       "      <td>2498827bd11eca5846270487e4960080</td>\n",
       "      <td>Some folks are born made to wave the flag\\nOoh...</td>\n",
       "      <td>2009-11-11 21:00:00</td>\n",
       "      <td>Fortunate Son</td>\n",
       "      <td>EN</td>\n",
       "      <td>USFI86900065</td>\n",
       "      <td>[ROCK, ALLROCK]</td>\n",
       "      <td>137780.0</td>\n",
       "    </tr>\n",
       "    <tr>\n",
       "      <th>cd89fef7ffdd490db800357f47722b20</th>\n",
       "      <td>cd89fef7ffdd490db800357f47722b20</td>\n",
       "      <td>ORIGINAL</td>\n",
       "      <td>5237001311d4062bf2b80de30652bf58</td>\n",
       "      <td>Uno por pobre y feo, hombre\\nPero antoja'o, ay...</td>\n",
       "      <td>2009-09-21 20:00:00</td>\n",
       "      <td>La Camisa Negra</td>\n",
       "      <td>ES</td>\n",
       "      <td>USUL10400965</td>\n",
       "      <td>[POP, FOLK, LATINFOLK]</td>\n",
       "      <td>216840.0</td>\n",
       "    </tr>\n",
       "    <tr>\n",
       "      <th>995665640dc319973d3173a74a03860c</th>\n",
       "      <td>995665640dc319973d3173a74a03860c</td>\n",
       "      <td>ORIGINAL</td>\n",
       "      <td>e5b1b57090b728e8d98d2b4d9b781bf4</td>\n",
       "      <td>Yeah!... yeah!... remember the time, baby... y...</td>\n",
       "      <td>2009-11-16 21:00:00</td>\n",
       "      <td>The Way I Are</td>\n",
       "      <td>EN</td>\n",
       "      <td>USUM70722806</td>\n",
       "      <td>[FOREIGNRAP, RAP]</td>\n",
       "      <td>179660.0</td>\n",
       "    </tr>\n",
       "    <tr>\n",
       "      <th>d6288499d0083cc34e60a077b7c4b3e1</th>\n",
       "      <td>None</td>\n",
       "      <td>COVER</td>\n",
       "      <td>NaN</td>\n",
       "      <td>NaN</td>\n",
       "      <td>2009-09-17 20:00:00</td>\n",
       "      <td>Extraball</td>\n",
       "      <td>EN</td>\n",
       "      <td>FR8Q10900116</td>\n",
       "      <td>[ELECTRONICS]</td>\n",
       "      <td>212620.0</td>\n",
       "    </tr>\n",
       "  </tbody>\n",
       "</table>\n",
       "</div>"
      ],
      "text/plain": [
       "                                                 original_track_id  \\\n",
       "track_id                                                             \n",
       "eeb69a3cb92300456b6a5f4162093851  eeb69a3cb92300456b6a5f4162093851   \n",
       "fe7ee8fc1959cc7214fa21c4840dff0a  fe7ee8fc1959cc7214fa21c4840dff0a   \n",
       "cd89fef7ffdd490db800357f47722b20  cd89fef7ffdd490db800357f47722b20   \n",
       "995665640dc319973d3173a74a03860c  995665640dc319973d3173a74a03860c   \n",
       "d6288499d0083cc34e60a077b7c4b3e1                              None   \n",
       "\n",
       "                                 track_remake_type  \\\n",
       "track_id                                             \n",
       "eeb69a3cb92300456b6a5f4162093851          ORIGINAL   \n",
       "fe7ee8fc1959cc7214fa21c4840dff0a          ORIGINAL   \n",
       "cd89fef7ffdd490db800357f47722b20          ORIGINAL   \n",
       "995665640dc319973d3173a74a03860c          ORIGINAL   \n",
       "d6288499d0083cc34e60a077b7c4b3e1             COVER   \n",
       "\n",
       "                                                          lyric_id  \\\n",
       "track_id                                                             \n",
       "eeb69a3cb92300456b6a5f4162093851  260f21d9f48e8de874a6e844159ddf28   \n",
       "fe7ee8fc1959cc7214fa21c4840dff0a  2498827bd11eca5846270487e4960080   \n",
       "cd89fef7ffdd490db800357f47722b20  5237001311d4062bf2b80de30652bf58   \n",
       "995665640dc319973d3173a74a03860c  e5b1b57090b728e8d98d2b4d9b781bf4   \n",
       "d6288499d0083cc34e60a077b7c4b3e1                               NaN   \n",
       "\n",
       "                                                                               text  \\\n",
       "track_id                                                                              \n",
       "eeb69a3cb92300456b6a5f4162093851  Left a good job in the city\\nWorkin' for the m...   \n",
       "fe7ee8fc1959cc7214fa21c4840dff0a  Some folks are born made to wave the flag\\nOoh...   \n",
       "cd89fef7ffdd490db800357f47722b20  Uno por pobre y feo, hombre\\nPero antoja'o, ay...   \n",
       "995665640dc319973d3173a74a03860c  Yeah!... yeah!... remember the time, baby... y...   \n",
       "d6288499d0083cc34e60a077b7c4b3e1                                                NaN   \n",
       "\n",
       "                                                dttm            title  \\\n",
       "track_id                                                                \n",
       "eeb69a3cb92300456b6a5f4162093851 2009-11-11 21:00:00       Proud Mary   \n",
       "fe7ee8fc1959cc7214fa21c4840dff0a 2009-11-11 21:00:00    Fortunate Son   \n",
       "cd89fef7ffdd490db800357f47722b20 2009-09-21 20:00:00  La Camisa Negra   \n",
       "995665640dc319973d3173a74a03860c 2009-11-16 21:00:00    The Way I Are   \n",
       "d6288499d0083cc34e60a077b7c4b3e1 2009-09-17 20:00:00        Extraball   \n",
       "\n",
       "                                 language          isrc  \\\n",
       "track_id                                                  \n",
       "eeb69a3cb92300456b6a5f4162093851       EN  USFI86900049   \n",
       "fe7ee8fc1959cc7214fa21c4840dff0a       EN  USFI86900065   \n",
       "cd89fef7ffdd490db800357f47722b20       ES  USUL10400965   \n",
       "995665640dc319973d3173a74a03860c       EN  USUM70722806   \n",
       "d6288499d0083cc34e60a077b7c4b3e1       EN  FR8Q10900116   \n",
       "\n",
       "                                                  genres  duration  \n",
       "track_id                                                            \n",
       "eeb69a3cb92300456b6a5f4162093851         [ROCK, ALLROCK]  187220.0  \n",
       "fe7ee8fc1959cc7214fa21c4840dff0a         [ROCK, ALLROCK]  137780.0  \n",
       "cd89fef7ffdd490db800357f47722b20  [POP, FOLK, LATINFOLK]  216840.0  \n",
       "995665640dc319973d3173a74a03860c       [FOREIGNRAP, RAP]  179660.0  \n",
       "d6288499d0083cc34e60a077b7c4b3e1           [ELECTRONICS]  212620.0  "
      ]
     },
     "execution_count": 43,
     "metadata": {},
     "output_type": "execute_result"
    }
   ],
   "source": [
    "df.head()"
   ]
  },
  {
   "cell_type": "code",
   "execution_count": 44,
   "metadata": {
    "colab": {
     "base_uri": "https://localhost:8080/"
    },
    "id": "3ndTwWLYaKbv",
    "outputId": "d1cd65a2-0d56-4ef4-b636-ff2b6dcb72dc"
   },
   "outputs": [
    {
     "name": "stdout",
     "output_type": "stream",
     "text": [
      "<class 'pandas.core.frame.DataFrame'>\n",
      "Index: 71767 entries, eeb69a3cb92300456b6a5f4162093851 to b0e056b8cdd428972b758e8ea8a0ce8c\n",
      "Data columns (total 10 columns):\n",
      " #   Column             Non-Null Count  Dtype         \n",
      "---  ------             --------------  -----         \n",
      " 0   original_track_id  4821 non-null   object        \n",
      " 1   track_remake_type  71597 non-null  object        \n",
      " 2   lyric_id           10277 non-null  object        \n",
      " 3   text               10277 non-null  object        \n",
      " 4   dttm               71215 non-null  datetime64[ns]\n",
      " 5   title              71215 non-null  object        \n",
      " 6   language           71215 non-null  object        \n",
      " 7   isrc               71215 non-null  object        \n",
      " 8   genres             71215 non-null  object        \n",
      " 9   duration           71215 non-null  float64       \n",
      "dtypes: datetime64[ns](1), float64(1), object(8)\n",
      "memory usage: 6.0+ MB\n"
     ]
    }
   ],
   "source": [
    "df.info()"
   ]
  },
  {
   "cell_type": "code",
   "execution_count": 45,
   "metadata": {
    "colab": {
     "base_uri": "https://localhost:8080/"
    },
    "id": "XzCc9BrawFMV",
    "outputId": "1ce83361-97a2-4b21-cabf-c3590262b92f"
   },
   "outputs": [
    {
     "data": {
      "text/plain": [
       "original_track_id    66946\n",
       "track_remake_type      170\n",
       "lyric_id             61490\n",
       "text                 61490\n",
       "dttm                   552\n",
       "title                  552\n",
       "language               552\n",
       "isrc                   552\n",
       "genres                 552\n",
       "duration               552\n",
       "dtype: int64"
      ]
     },
     "execution_count": 45,
     "metadata": {},
     "output_type": "execute_result"
    }
   ],
   "source": [
    "df.isna().sum()"
   ]
  },
  {
   "cell_type": "markdown",
   "metadata": {
    "id": "QISYDliewjqw"
   },
   "source": [
    "После объединения появились пропуски. Что касается `id` оригиналов и текста - ничего удивительного, а откуда в остальных колонках? Посмотрим. Выводим хвост датафрейма, отсортированного по названию (где точно не должно по идее быть пропусков)"
   ]
  },
  {
   "cell_type": "code",
   "execution_count": 46,
   "metadata": {
    "colab": {
     "base_uri": "https://localhost:8080/",
     "height": 1000
    },
    "id": "bGlYC1w9wjIg",
    "outputId": "5a27a951-ee8f-43f2-ccad-4041dab0d882"
   },
   "outputs": [
    {
     "data": {
      "text/html": [
       "<div>\n",
       "<style scoped>\n",
       "    .dataframe tbody tr th:only-of-type {\n",
       "        vertical-align: middle;\n",
       "    }\n",
       "\n",
       "    .dataframe tbody tr th {\n",
       "        vertical-align: top;\n",
       "    }\n",
       "\n",
       "    .dataframe thead th {\n",
       "        text-align: right;\n",
       "    }\n",
       "</style>\n",
       "<table border=\"1\" class=\"dataframe\">\n",
       "  <thead>\n",
       "    <tr style=\"text-align: right;\">\n",
       "      <th></th>\n",
       "      <th>original_track_id</th>\n",
       "      <th>track_remake_type</th>\n",
       "      <th>lyric_id</th>\n",
       "      <th>text</th>\n",
       "      <th>dttm</th>\n",
       "      <th>title</th>\n",
       "      <th>language</th>\n",
       "      <th>isrc</th>\n",
       "      <th>genres</th>\n",
       "      <th>duration</th>\n",
       "    </tr>\n",
       "    <tr>\n",
       "      <th>track_id</th>\n",
       "      <th></th>\n",
       "      <th></th>\n",
       "      <th></th>\n",
       "      <th></th>\n",
       "      <th></th>\n",
       "      <th></th>\n",
       "      <th></th>\n",
       "      <th></th>\n",
       "      <th></th>\n",
       "      <th></th>\n",
       "    </tr>\n",
       "  </thead>\n",
       "  <tbody>\n",
       "    <tr>\n",
       "      <th>e03f31f1286208dcb0cf1e5ee84aceff</th>\n",
       "      <td>e03f31f1286208dcb0cf1e5ee84aceff</td>\n",
       "      <td>ORIGINAL</td>\n",
       "      <td>NaN</td>\n",
       "      <td>NaN</td>\n",
       "      <td>NaT</td>\n",
       "      <td>NaN</td>\n",
       "      <td>NaN</td>\n",
       "      <td>NaN</td>\n",
       "      <td>NaN</td>\n",
       "      <td>NaN</td>\n",
       "    </tr>\n",
       "    <tr>\n",
       "      <th>c0308f925cc2c6d8b70aef91e7b8f338</th>\n",
       "      <td>None</td>\n",
       "      <td>COVER</td>\n",
       "      <td>NaN</td>\n",
       "      <td>NaN</td>\n",
       "      <td>NaT</td>\n",
       "      <td>NaN</td>\n",
       "      <td>NaN</td>\n",
       "      <td>NaN</td>\n",
       "      <td>NaN</td>\n",
       "      <td>NaN</td>\n",
       "    </tr>\n",
       "    <tr>\n",
       "      <th>23a6c682503e8a9829f70b5f8925c62b</th>\n",
       "      <td>None</td>\n",
       "      <td>COVER</td>\n",
       "      <td>NaN</td>\n",
       "      <td>NaN</td>\n",
       "      <td>NaT</td>\n",
       "      <td>NaN</td>\n",
       "      <td>NaN</td>\n",
       "      <td>NaN</td>\n",
       "      <td>NaN</td>\n",
       "      <td>NaN</td>\n",
       "    </tr>\n",
       "    <tr>\n",
       "      <th>8f9dd56bdeb9ada69cd291899f52d5a8</th>\n",
       "      <td>8f9dd56bdeb9ada69cd291899f52d5a8</td>\n",
       "      <td>ORIGINAL</td>\n",
       "      <td>NaN</td>\n",
       "      <td>NaN</td>\n",
       "      <td>NaT</td>\n",
       "      <td>NaN</td>\n",
       "      <td>NaN</td>\n",
       "      <td>NaN</td>\n",
       "      <td>NaN</td>\n",
       "      <td>NaN</td>\n",
       "    </tr>\n",
       "    <tr>\n",
       "      <th>571a376663b9e86159b2234841700cda</th>\n",
       "      <td>None</td>\n",
       "      <td>COVER</td>\n",
       "      <td>NaN</td>\n",
       "      <td>NaN</td>\n",
       "      <td>NaT</td>\n",
       "      <td>NaN</td>\n",
       "      <td>NaN</td>\n",
       "      <td>NaN</td>\n",
       "      <td>NaN</td>\n",
       "      <td>NaN</td>\n",
       "    </tr>\n",
       "    <tr>\n",
       "      <th>36dc45aa77dc758427f3aaab066d569b</th>\n",
       "      <td>None</td>\n",
       "      <td>COVER</td>\n",
       "      <td>NaN</td>\n",
       "      <td>NaN</td>\n",
       "      <td>NaT</td>\n",
       "      <td>NaN</td>\n",
       "      <td>NaN</td>\n",
       "      <td>NaN</td>\n",
       "      <td>NaN</td>\n",
       "      <td>NaN</td>\n",
       "    </tr>\n",
       "    <tr>\n",
       "      <th>753a6567816f1f1fd458caeaeb33ea6a</th>\n",
       "      <td>753a6567816f1f1fd458caeaeb33ea6a</td>\n",
       "      <td>ORIGINAL</td>\n",
       "      <td>8a05c998880f8ae66cbd708c0537ed1b</td>\n",
       "      <td>Отпускай! От-отпускай\\nОт-отпускай! От-отпуска...</td>\n",
       "      <td>NaT</td>\n",
       "      <td>NaN</td>\n",
       "      <td>NaN</td>\n",
       "      <td>NaN</td>\n",
       "      <td>NaN</td>\n",
       "      <td>NaN</td>\n",
       "    </tr>\n",
       "    <tr>\n",
       "      <th>eccece56e9409fbc59cfab0a5c0d1787</th>\n",
       "      <td>eccece56e9409fbc59cfab0a5c0d1787</td>\n",
       "      <td>ORIGINAL</td>\n",
       "      <td>NaN</td>\n",
       "      <td>NaN</td>\n",
       "      <td>NaT</td>\n",
       "      <td>NaN</td>\n",
       "      <td>NaN</td>\n",
       "      <td>NaN</td>\n",
       "      <td>NaN</td>\n",
       "      <td>NaN</td>\n",
       "    </tr>\n",
       "    <tr>\n",
       "      <th>137f3f182530fb4ba015ef2ce69eedfc</th>\n",
       "      <td>137f3f182530fb4ba015ef2ce69eedfc</td>\n",
       "      <td>ORIGINAL</td>\n",
       "      <td>NaN</td>\n",
       "      <td>NaN</td>\n",
       "      <td>NaT</td>\n",
       "      <td>NaN</td>\n",
       "      <td>NaN</td>\n",
       "      <td>NaN</td>\n",
       "      <td>NaN</td>\n",
       "      <td>NaN</td>\n",
       "    </tr>\n",
       "    <tr>\n",
       "      <th>ac71c0295c370a352f170431e1156b0f</th>\n",
       "      <td>ac71c0295c370a352f170431e1156b0f</td>\n",
       "      <td>ORIGINAL</td>\n",
       "      <td>NaN</td>\n",
       "      <td>NaN</td>\n",
       "      <td>NaT</td>\n",
       "      <td>NaN</td>\n",
       "      <td>NaN</td>\n",
       "      <td>NaN</td>\n",
       "      <td>NaN</td>\n",
       "      <td>NaN</td>\n",
       "    </tr>\n",
       "    <tr>\n",
       "      <th>c63d43ce874ea17a1e98aa4ae526af73</th>\n",
       "      <td>c63d43ce874ea17a1e98aa4ae526af73</td>\n",
       "      <td>ORIGINAL</td>\n",
       "      <td>NaN</td>\n",
       "      <td>NaN</td>\n",
       "      <td>NaT</td>\n",
       "      <td>NaN</td>\n",
       "      <td>NaN</td>\n",
       "      <td>NaN</td>\n",
       "      <td>NaN</td>\n",
       "      <td>NaN</td>\n",
       "    </tr>\n",
       "    <tr>\n",
       "      <th>7ee22bc05263ac26e24e5f895e1dbc72</th>\n",
       "      <td>None</td>\n",
       "      <td>COVER</td>\n",
       "      <td>NaN</td>\n",
       "      <td>NaN</td>\n",
       "      <td>NaT</td>\n",
       "      <td>NaN</td>\n",
       "      <td>NaN</td>\n",
       "      <td>NaN</td>\n",
       "      <td>NaN</td>\n",
       "      <td>NaN</td>\n",
       "    </tr>\n",
       "    <tr>\n",
       "      <th>e710cc10abdd5b16107c71d231a52df1</th>\n",
       "      <td>e710cc10abdd5b16107c71d231a52df1</td>\n",
       "      <td>ORIGINAL</td>\n",
       "      <td>cd57f5fb44ec0887dc1b30cf44b0b8e9</td>\n",
       "      <td>Город красиво горит\\nЯрким светом залит\\nИ мы ...</td>\n",
       "      <td>NaT</td>\n",
       "      <td>NaN</td>\n",
       "      <td>NaN</td>\n",
       "      <td>NaN</td>\n",
       "      <td>NaN</td>\n",
       "      <td>NaN</td>\n",
       "    </tr>\n",
       "    <tr>\n",
       "      <th>197694c04d7d6b2426cdebad6f06b57a</th>\n",
       "      <td>197694c04d7d6b2426cdebad6f06b57a</td>\n",
       "      <td>ORIGINAL</td>\n",
       "      <td>f431426dcfeec5f2dee9516ff3e85755</td>\n",
       "      <td>Bang (bang), bang (ba-ba-ba-bang)\\nSkere (гр-р...</td>\n",
       "      <td>NaT</td>\n",
       "      <td>NaN</td>\n",
       "      <td>NaN</td>\n",
       "      <td>NaN</td>\n",
       "      <td>NaN</td>\n",
       "      <td>NaN</td>\n",
       "    </tr>\n",
       "    <tr>\n",
       "      <th>341c141769af816e128d3906fd5b90f8</th>\n",
       "      <td>341c141769af816e128d3906fd5b90f8</td>\n",
       "      <td>ORIGINAL</td>\n",
       "      <td>NaN</td>\n",
       "      <td>NaN</td>\n",
       "      <td>NaT</td>\n",
       "      <td>NaN</td>\n",
       "      <td>NaN</td>\n",
       "      <td>NaN</td>\n",
       "      <td>NaN</td>\n",
       "      <td>NaN</td>\n",
       "    </tr>\n",
       "    <tr>\n",
       "      <th>3d4b4c7adc6b80270711517280ad22e3</th>\n",
       "      <td>None</td>\n",
       "      <td>COVER</td>\n",
       "      <td>NaN</td>\n",
       "      <td>NaN</td>\n",
       "      <td>NaT</td>\n",
       "      <td>NaN</td>\n",
       "      <td>NaN</td>\n",
       "      <td>NaN</td>\n",
       "      <td>NaN</td>\n",
       "      <td>NaN</td>\n",
       "    </tr>\n",
       "    <tr>\n",
       "      <th>176a983bf850334e5c36d965b726a6e0</th>\n",
       "      <td>None</td>\n",
       "      <td>COVER</td>\n",
       "      <td>NaN</td>\n",
       "      <td>NaN</td>\n",
       "      <td>NaT</td>\n",
       "      <td>NaN</td>\n",
       "      <td>NaN</td>\n",
       "      <td>NaN</td>\n",
       "      <td>NaN</td>\n",
       "      <td>NaN</td>\n",
       "    </tr>\n",
       "    <tr>\n",
       "      <th>953ef412c3fd8e6698219e7e486af561</th>\n",
       "      <td>None</td>\n",
       "      <td>COVER</td>\n",
       "      <td>NaN</td>\n",
       "      <td>NaN</td>\n",
       "      <td>NaT</td>\n",
       "      <td>NaN</td>\n",
       "      <td>NaN</td>\n",
       "      <td>NaN</td>\n",
       "      <td>NaN</td>\n",
       "      <td>NaN</td>\n",
       "    </tr>\n",
       "    <tr>\n",
       "      <th>872140dcd8a61120041ef75f53188e76</th>\n",
       "      <td>NaN</td>\n",
       "      <td>NaN</td>\n",
       "      <td>791bb6484538752566f562d482e5c0dc</td>\n",
       "      <td>My love has got no money\\nHe's got his strong ...</td>\n",
       "      <td>NaT</td>\n",
       "      <td>NaN</td>\n",
       "      <td>NaN</td>\n",
       "      <td>NaN</td>\n",
       "      <td>NaN</td>\n",
       "      <td>NaN</td>\n",
       "    </tr>\n",
       "    <tr>\n",
       "      <th>f994d35681afefa37e8448c5e90a28e9</th>\n",
       "      <td>NaN</td>\n",
       "      <td>NaN</td>\n",
       "      <td>c1548104087e0b8be6085b8a6265681d</td>\n",
       "      <td>The light is fading now\\nMy soul is running on...</td>\n",
       "      <td>NaT</td>\n",
       "      <td>NaN</td>\n",
       "      <td>NaN</td>\n",
       "      <td>NaN</td>\n",
       "      <td>NaN</td>\n",
       "      <td>NaN</td>\n",
       "    </tr>\n",
       "  </tbody>\n",
       "</table>\n",
       "</div>"
      ],
      "text/plain": [
       "                                                 original_track_id  \\\n",
       "track_id                                                             \n",
       "e03f31f1286208dcb0cf1e5ee84aceff  e03f31f1286208dcb0cf1e5ee84aceff   \n",
       "c0308f925cc2c6d8b70aef91e7b8f338                              None   \n",
       "23a6c682503e8a9829f70b5f8925c62b                              None   \n",
       "8f9dd56bdeb9ada69cd291899f52d5a8  8f9dd56bdeb9ada69cd291899f52d5a8   \n",
       "571a376663b9e86159b2234841700cda                              None   \n",
       "36dc45aa77dc758427f3aaab066d569b                              None   \n",
       "753a6567816f1f1fd458caeaeb33ea6a  753a6567816f1f1fd458caeaeb33ea6a   \n",
       "eccece56e9409fbc59cfab0a5c0d1787  eccece56e9409fbc59cfab0a5c0d1787   \n",
       "137f3f182530fb4ba015ef2ce69eedfc  137f3f182530fb4ba015ef2ce69eedfc   \n",
       "ac71c0295c370a352f170431e1156b0f  ac71c0295c370a352f170431e1156b0f   \n",
       "c63d43ce874ea17a1e98aa4ae526af73  c63d43ce874ea17a1e98aa4ae526af73   \n",
       "7ee22bc05263ac26e24e5f895e1dbc72                              None   \n",
       "e710cc10abdd5b16107c71d231a52df1  e710cc10abdd5b16107c71d231a52df1   \n",
       "197694c04d7d6b2426cdebad6f06b57a  197694c04d7d6b2426cdebad6f06b57a   \n",
       "341c141769af816e128d3906fd5b90f8  341c141769af816e128d3906fd5b90f8   \n",
       "3d4b4c7adc6b80270711517280ad22e3                              None   \n",
       "176a983bf850334e5c36d965b726a6e0                              None   \n",
       "953ef412c3fd8e6698219e7e486af561                              None   \n",
       "872140dcd8a61120041ef75f53188e76                               NaN   \n",
       "f994d35681afefa37e8448c5e90a28e9                               NaN   \n",
       "\n",
       "                                 track_remake_type  \\\n",
       "track_id                                             \n",
       "e03f31f1286208dcb0cf1e5ee84aceff          ORIGINAL   \n",
       "c0308f925cc2c6d8b70aef91e7b8f338             COVER   \n",
       "23a6c682503e8a9829f70b5f8925c62b             COVER   \n",
       "8f9dd56bdeb9ada69cd291899f52d5a8          ORIGINAL   \n",
       "571a376663b9e86159b2234841700cda             COVER   \n",
       "36dc45aa77dc758427f3aaab066d569b             COVER   \n",
       "753a6567816f1f1fd458caeaeb33ea6a          ORIGINAL   \n",
       "eccece56e9409fbc59cfab0a5c0d1787          ORIGINAL   \n",
       "137f3f182530fb4ba015ef2ce69eedfc          ORIGINAL   \n",
       "ac71c0295c370a352f170431e1156b0f          ORIGINAL   \n",
       "c63d43ce874ea17a1e98aa4ae526af73          ORIGINAL   \n",
       "7ee22bc05263ac26e24e5f895e1dbc72             COVER   \n",
       "e710cc10abdd5b16107c71d231a52df1          ORIGINAL   \n",
       "197694c04d7d6b2426cdebad6f06b57a          ORIGINAL   \n",
       "341c141769af816e128d3906fd5b90f8          ORIGINAL   \n",
       "3d4b4c7adc6b80270711517280ad22e3             COVER   \n",
       "176a983bf850334e5c36d965b726a6e0             COVER   \n",
       "953ef412c3fd8e6698219e7e486af561             COVER   \n",
       "872140dcd8a61120041ef75f53188e76               NaN   \n",
       "f994d35681afefa37e8448c5e90a28e9               NaN   \n",
       "\n",
       "                                                          lyric_id  \\\n",
       "track_id                                                             \n",
       "e03f31f1286208dcb0cf1e5ee84aceff                               NaN   \n",
       "c0308f925cc2c6d8b70aef91e7b8f338                               NaN   \n",
       "23a6c682503e8a9829f70b5f8925c62b                               NaN   \n",
       "8f9dd56bdeb9ada69cd291899f52d5a8                               NaN   \n",
       "571a376663b9e86159b2234841700cda                               NaN   \n",
       "36dc45aa77dc758427f3aaab066d569b                               NaN   \n",
       "753a6567816f1f1fd458caeaeb33ea6a  8a05c998880f8ae66cbd708c0537ed1b   \n",
       "eccece56e9409fbc59cfab0a5c0d1787                               NaN   \n",
       "137f3f182530fb4ba015ef2ce69eedfc                               NaN   \n",
       "ac71c0295c370a352f170431e1156b0f                               NaN   \n",
       "c63d43ce874ea17a1e98aa4ae526af73                               NaN   \n",
       "7ee22bc05263ac26e24e5f895e1dbc72                               NaN   \n",
       "e710cc10abdd5b16107c71d231a52df1  cd57f5fb44ec0887dc1b30cf44b0b8e9   \n",
       "197694c04d7d6b2426cdebad6f06b57a  f431426dcfeec5f2dee9516ff3e85755   \n",
       "341c141769af816e128d3906fd5b90f8                               NaN   \n",
       "3d4b4c7adc6b80270711517280ad22e3                               NaN   \n",
       "176a983bf850334e5c36d965b726a6e0                               NaN   \n",
       "953ef412c3fd8e6698219e7e486af561                               NaN   \n",
       "872140dcd8a61120041ef75f53188e76  791bb6484538752566f562d482e5c0dc   \n",
       "f994d35681afefa37e8448c5e90a28e9  c1548104087e0b8be6085b8a6265681d   \n",
       "\n",
       "                                                                               text  \\\n",
       "track_id                                                                              \n",
       "e03f31f1286208dcb0cf1e5ee84aceff                                                NaN   \n",
       "c0308f925cc2c6d8b70aef91e7b8f338                                                NaN   \n",
       "23a6c682503e8a9829f70b5f8925c62b                                                NaN   \n",
       "8f9dd56bdeb9ada69cd291899f52d5a8                                                NaN   \n",
       "571a376663b9e86159b2234841700cda                                                NaN   \n",
       "36dc45aa77dc758427f3aaab066d569b                                                NaN   \n",
       "753a6567816f1f1fd458caeaeb33ea6a  Отпускай! От-отпускай\\nОт-отпускай! От-отпуска...   \n",
       "eccece56e9409fbc59cfab0a5c0d1787                                                NaN   \n",
       "137f3f182530fb4ba015ef2ce69eedfc                                                NaN   \n",
       "ac71c0295c370a352f170431e1156b0f                                                NaN   \n",
       "c63d43ce874ea17a1e98aa4ae526af73                                                NaN   \n",
       "7ee22bc05263ac26e24e5f895e1dbc72                                                NaN   \n",
       "e710cc10abdd5b16107c71d231a52df1  Город красиво горит\\nЯрким светом залит\\nИ мы ...   \n",
       "197694c04d7d6b2426cdebad6f06b57a  Bang (bang), bang (ba-ba-ba-bang)\\nSkere (гр-р...   \n",
       "341c141769af816e128d3906fd5b90f8                                                NaN   \n",
       "3d4b4c7adc6b80270711517280ad22e3                                                NaN   \n",
       "176a983bf850334e5c36d965b726a6e0                                                NaN   \n",
       "953ef412c3fd8e6698219e7e486af561                                                NaN   \n",
       "872140dcd8a61120041ef75f53188e76  My love has got no money\\nHe's got his strong ...   \n",
       "f994d35681afefa37e8448c5e90a28e9  The light is fading now\\nMy soul is running on...   \n",
       "\n",
       "                                 dttm title language isrc genres  duration  \n",
       "track_id                                                                    \n",
       "e03f31f1286208dcb0cf1e5ee84aceff  NaT   NaN      NaN  NaN    NaN       NaN  \n",
       "c0308f925cc2c6d8b70aef91e7b8f338  NaT   NaN      NaN  NaN    NaN       NaN  \n",
       "23a6c682503e8a9829f70b5f8925c62b  NaT   NaN      NaN  NaN    NaN       NaN  \n",
       "8f9dd56bdeb9ada69cd291899f52d5a8  NaT   NaN      NaN  NaN    NaN       NaN  \n",
       "571a376663b9e86159b2234841700cda  NaT   NaN      NaN  NaN    NaN       NaN  \n",
       "36dc45aa77dc758427f3aaab066d569b  NaT   NaN      NaN  NaN    NaN       NaN  \n",
       "753a6567816f1f1fd458caeaeb33ea6a  NaT   NaN      NaN  NaN    NaN       NaN  \n",
       "eccece56e9409fbc59cfab0a5c0d1787  NaT   NaN      NaN  NaN    NaN       NaN  \n",
       "137f3f182530fb4ba015ef2ce69eedfc  NaT   NaN      NaN  NaN    NaN       NaN  \n",
       "ac71c0295c370a352f170431e1156b0f  NaT   NaN      NaN  NaN    NaN       NaN  \n",
       "c63d43ce874ea17a1e98aa4ae526af73  NaT   NaN      NaN  NaN    NaN       NaN  \n",
       "7ee22bc05263ac26e24e5f895e1dbc72  NaT   NaN      NaN  NaN    NaN       NaN  \n",
       "e710cc10abdd5b16107c71d231a52df1  NaT   NaN      NaN  NaN    NaN       NaN  \n",
       "197694c04d7d6b2426cdebad6f06b57a  NaT   NaN      NaN  NaN    NaN       NaN  \n",
       "341c141769af816e128d3906fd5b90f8  NaT   NaN      NaN  NaN    NaN       NaN  \n",
       "3d4b4c7adc6b80270711517280ad22e3  NaT   NaN      NaN  NaN    NaN       NaN  \n",
       "176a983bf850334e5c36d965b726a6e0  NaT   NaN      NaN  NaN    NaN       NaN  \n",
       "953ef412c3fd8e6698219e7e486af561  NaT   NaN      NaN  NaN    NaN       NaN  \n",
       "872140dcd8a61120041ef75f53188e76  NaT   NaN      NaN  NaN    NaN       NaN  \n",
       "f994d35681afefa37e8448c5e90a28e9  NaT   NaN      NaN  NaN    NaN       NaN  "
      ]
     },
     "execution_count": 46,
     "metadata": {},
     "output_type": "execute_result"
    }
   ],
   "source": [
    "df.sort_values(by='title').tail(20)"
   ]
  },
  {
   "cell_type": "markdown",
   "metadata": {
    "id": "cA7bgxWayFWW"
   },
   "source": [
    "Видим, что в датафрейме присутствуют строки, про которые нет никакой информации, кроме `id` трека и метки оригинал\\кавер. Можно было бы заполнить эту информацию по `id` оригинального трека, но он есть только у треков с меткой `ORIGINAL`, и скорее всего такой информации просто нет в датасете. К тому же, здесь присутствуют строки вовсе без `id` оригинала, только с меткой `COVER`. Придётся удалить эти строки из датасета. Теперь посмотрим как выглядят строки с пропусками по метке кавер\\оригинал."
   ]
  },
  {
   "cell_type": "code",
   "execution_count": 47,
   "metadata": {
    "colab": {
     "base_uri": "https://localhost:8080/",
     "height": 1000
    },
    "id": "FZ7v6zKLyyo6",
    "outputId": "e0f40ca2-36e1-4036-eb26-4c90405738fc"
   },
   "outputs": [
    {
     "data": {
      "text/html": [
       "<div>\n",
       "<style scoped>\n",
       "    .dataframe tbody tr th:only-of-type {\n",
       "        vertical-align: middle;\n",
       "    }\n",
       "\n",
       "    .dataframe tbody tr th {\n",
       "        vertical-align: top;\n",
       "    }\n",
       "\n",
       "    .dataframe thead th {\n",
       "        text-align: right;\n",
       "    }\n",
       "</style>\n",
       "<table border=\"1\" class=\"dataframe\">\n",
       "  <thead>\n",
       "    <tr style=\"text-align: right;\">\n",
       "      <th></th>\n",
       "      <th>original_track_id</th>\n",
       "      <th>track_remake_type</th>\n",
       "      <th>lyric_id</th>\n",
       "      <th>text</th>\n",
       "      <th>dttm</th>\n",
       "      <th>title</th>\n",
       "      <th>language</th>\n",
       "      <th>isrc</th>\n",
       "      <th>genres</th>\n",
       "      <th>duration</th>\n",
       "    </tr>\n",
       "    <tr>\n",
       "      <th>track_id</th>\n",
       "      <th></th>\n",
       "      <th></th>\n",
       "      <th></th>\n",
       "      <th></th>\n",
       "      <th></th>\n",
       "      <th></th>\n",
       "      <th></th>\n",
       "      <th></th>\n",
       "      <th></th>\n",
       "      <th></th>\n",
       "    </tr>\n",
       "  </thead>\n",
       "  <tbody>\n",
       "    <tr>\n",
       "      <th>1e8ca836c962598551882e689265c1c5</th>\n",
       "      <td>NaN</td>\n",
       "      <td>NaN</td>\n",
       "      <td>bccf43f213b3abecaa0bdcdc17f5fff7</td>\n",
       "      <td>Off with your head\\nDance til you're dead\\nHea...</td>\n",
       "      <td>2009-09-17 20:00:00</td>\n",
       "      <td>Heads Will Roll</td>\n",
       "      <td>EN</td>\n",
       "      <td>GBUM70900924</td>\n",
       "      <td>[ALTERNATIVE]</td>\n",
       "      <td>221000.0</td>\n",
       "    </tr>\n",
       "    <tr>\n",
       "      <th>1296f487d135fa2808e18accebb6554f</th>\n",
       "      <td>NaN</td>\n",
       "      <td>NaN</td>\n",
       "      <td>144248a3cb888ffc4f28c4b3df9f45c1</td>\n",
       "      <td>Your body, your soul\\nFeel the rhythm\\nTake co...</td>\n",
       "      <td>2012-08-20 20:16:40</td>\n",
       "      <td>Keep on moving</td>\n",
       "      <td>EN</td>\n",
       "      <td>FR6V80514183</td>\n",
       "      <td>[ELECTRONICS]</td>\n",
       "      <td>187980.0</td>\n",
       "    </tr>\n",
       "    <tr>\n",
       "      <th>5a1fce1ebb19da07487f3132b261b78e</th>\n",
       "      <td>NaN</td>\n",
       "      <td>NaN</td>\n",
       "      <td>6a3fdd4107a56ad1d9d622246b6ba327</td>\n",
       "      <td>Last night, all I think about is you\\nDon't st...</td>\n",
       "      <td>2020-06-28 21:00:00</td>\n",
       "      <td>Heat Waves</td>\n",
       "      <td>EN</td>\n",
       "      <td>GBUM72000433</td>\n",
       "      <td>[INDIE]</td>\n",
       "      <td>238800.0</td>\n",
       "    </tr>\n",
       "    <tr>\n",
       "      <th>a33e4b17ce2c355fb3e65ee042509803</th>\n",
       "      <td>NaN</td>\n",
       "      <td>NaN</td>\n",
       "      <td>bc9d77c8771c3d81aa848adc339f1fb5</td>\n",
       "      <td>Нас не догонят\\nНас не догонят, нас не догонят...</td>\n",
       "      <td>2009-09-17 20:00:00</td>\n",
       "      <td>Нас не догонят</td>\n",
       "      <td>EN</td>\n",
       "      <td>RUA110100045</td>\n",
       "      <td>[POP, RUSPOP]</td>\n",
       "      <td>261330.0</td>\n",
       "    </tr>\n",
       "    <tr>\n",
       "      <th>0e2b32a929c0e09569fdd0c831e2b459</th>\n",
       "      <td>NaN</td>\n",
       "      <td>NaN</td>\n",
       "      <td>NaN</td>\n",
       "      <td>NaN</td>\n",
       "      <td>2019-09-26 21:00:00</td>\n",
       "      <td>Know You</td>\n",
       "      <td>EN</td>\n",
       "      <td>DELJ81949383</td>\n",
       "      <td>[ELECTRONICS]</td>\n",
       "      <td>158310.0</td>\n",
       "    </tr>\n",
       "    <tr>\n",
       "      <th>a6bea0f1418b5e768b689604e11d111d</th>\n",
       "      <td>NaN</td>\n",
       "      <td>NaN</td>\n",
       "      <td>NaN</td>\n",
       "      <td>NaN</td>\n",
       "      <td>2021-05-24 14:02:01</td>\n",
       "      <td>Ну давай...</td>\n",
       "      <td>BG</td>\n",
       "      <td>AEA0Q2136377</td>\n",
       "      <td>[RUSRAP, RAP]</td>\n",
       "      <td>156210.0</td>\n",
       "    </tr>\n",
       "    <tr>\n",
       "      <th>fb68073731d1fb23269c9778df343711</th>\n",
       "      <td>NaN</td>\n",
       "      <td>NaN</td>\n",
       "      <td>NaN</td>\n",
       "      <td>NaN</td>\n",
       "      <td>2022-05-26 21:00:00</td>\n",
       "      <td>Несколько минут</td>\n",
       "      <td>RU</td>\n",
       "      <td>UKU932117387</td>\n",
       "      <td>[ELECTRONICS, HOUSE]</td>\n",
       "      <td>243000.0</td>\n",
       "    </tr>\n",
       "    <tr>\n",
       "      <th>96437a3517f1f408381363bc8d539718</th>\n",
       "      <td>NaN</td>\n",
       "      <td>NaN</td>\n",
       "      <td>NaN</td>\n",
       "      <td>NaN</td>\n",
       "      <td>2023-04-26 21:00:00</td>\n",
       "      <td>Не вини</td>\n",
       "      <td>RU</td>\n",
       "      <td>QMDA62133693</td>\n",
       "      <td>[LOCAL-INDIE, INDIE]</td>\n",
       "      <td>244000.0</td>\n",
       "    </tr>\n",
       "    <tr>\n",
       "      <th>694ddd9c20051cd893222f00497b58a7</th>\n",
       "      <td>NaN</td>\n",
       "      <td>NaN</td>\n",
       "      <td>NaN</td>\n",
       "      <td>NaN</td>\n",
       "      <td>2013-07-23 11:22:03</td>\n",
       "      <td>April Breeze</td>\n",
       "      <td>RO</td>\n",
       "      <td>USHM20507914</td>\n",
       "      <td>[RELAX]</td>\n",
       "      <td>197660.0</td>\n",
       "    </tr>\n",
       "    <tr>\n",
       "      <th>ac8c3425ac530ce79214dd0704a08e30</th>\n",
       "      <td>NaN</td>\n",
       "      <td>NaN</td>\n",
       "      <td>NaN</td>\n",
       "      <td>NaN</td>\n",
       "      <td>2020-11-12 21:00:00</td>\n",
       "      <td>Cornfield Chase</td>\n",
       "      <td>EN</td>\n",
       "      <td>USNLR1400774</td>\n",
       "      <td>[SOUNDTRACK]</td>\n",
       "      <td>127000.0</td>\n",
       "    </tr>\n",
       "    <tr>\n",
       "      <th>0f74b97c7afdd09412b1147e812aad76</th>\n",
       "      <td>NaN</td>\n",
       "      <td>NaN</td>\n",
       "      <td>NaN</td>\n",
       "      <td>NaN</td>\n",
       "      <td>2018-10-04 21:00:00</td>\n",
       "      <td>Any Other Name</td>\n",
       "      <td>EN</td>\n",
       "      <td>USDW19921012</td>\n",
       "      <td>[SOUNDTRACK]</td>\n",
       "      <td>246620.0</td>\n",
       "    </tr>\n",
       "    <tr>\n",
       "      <th>7684d25699831e0e09c923ec709f602c</th>\n",
       "      <td>NaN</td>\n",
       "      <td>NaN</td>\n",
       "      <td>NaN</td>\n",
       "      <td>NaN</td>\n",
       "      <td>2013-04-06 03:49:02</td>\n",
       "      <td>Breakfast at Tiffany's</td>\n",
       "      <td>EN</td>\n",
       "      <td>NLG620514513</td>\n",
       "      <td>[JAZZ, TRADJAZZ]</td>\n",
       "      <td>168730.0</td>\n",
       "    </tr>\n",
       "    <tr>\n",
       "      <th>39282a5bda389deac70c6c33ebd05fe7</th>\n",
       "      <td>NaN</td>\n",
       "      <td>NaN</td>\n",
       "      <td>NaN</td>\n",
       "      <td>NaN</td>\n",
       "      <td>2013-04-24 18:07:46</td>\n",
       "      <td>Can't Help Falling in Love with You</td>\n",
       "      <td>EN</td>\n",
       "      <td>USKYW1332545</td>\n",
       "      <td>[ALLROCK, RNR]</td>\n",
       "      <td>183950.0</td>\n",
       "    </tr>\n",
       "    <tr>\n",
       "      <th>105e505f39a1ce3a9e277e81783a8ffc</th>\n",
       "      <td>NaN</td>\n",
       "      <td>NaN</td>\n",
       "      <td>NaN</td>\n",
       "      <td>NaN</td>\n",
       "      <td>2021-02-18 21:00:00</td>\n",
       "      <td>Epilogue</td>\n",
       "      <td>CA</td>\n",
       "      <td>GBBBC2100036</td>\n",
       "      <td>[CLASSICALMUSIC, MODERN]</td>\n",
       "      <td>249080.0</td>\n",
       "    </tr>\n",
       "    <tr>\n",
       "      <th>43bcd59d680a05b9ff28993e6375cb64</th>\n",
       "      <td>NaN</td>\n",
       "      <td>NaN</td>\n",
       "      <td>NaN</td>\n",
       "      <td>NaN</td>\n",
       "      <td>2021-03-11 21:00:00</td>\n",
       "      <td>Eyes Low</td>\n",
       "      <td>EN</td>\n",
       "      <td>QZP7F2110743</td>\n",
       "      <td>[ELECTRONICS]</td>\n",
       "      <td>184430.0</td>\n",
       "    </tr>\n",
       "    <tr>\n",
       "      <th>fa1b6f8b3ba1609dfaf6bda5b180ef25</th>\n",
       "      <td>NaN</td>\n",
       "      <td>NaN</td>\n",
       "      <td>NaN</td>\n",
       "      <td>NaN</td>\n",
       "      <td>2018-03-23 05:28:00</td>\n",
       "      <td>I Made U Do</td>\n",
       "      <td>PT</td>\n",
       "      <td>QZ5FN1808950</td>\n",
       "      <td>[ELECTRONICS]</td>\n",
       "      <td>161820.0</td>\n",
       "    </tr>\n",
       "    <tr>\n",
       "      <th>5e16b48a01483936ae404c3b30286a02</th>\n",
       "      <td>NaN</td>\n",
       "      <td>NaN</td>\n",
       "      <td>NaN</td>\n",
       "      <td>NaN</td>\n",
       "      <td>2018-05-27 21:00:00</td>\n",
       "      <td>Time to Shine</td>\n",
       "      <td>EN</td>\n",
       "      <td>FR2X41870803</td>\n",
       "      <td>[DANCE]</td>\n",
       "      <td>177600.0</td>\n",
       "    </tr>\n",
       "    <tr>\n",
       "      <th>b8d4dc8f7abdd59df56eb39787b35c8f</th>\n",
       "      <td>NaN</td>\n",
       "      <td>NaN</td>\n",
       "      <td>NaN</td>\n",
       "      <td>NaN</td>\n",
       "      <td>2019-10-20 21:00:00</td>\n",
       "      <td>The Ones</td>\n",
       "      <td>EN</td>\n",
       "      <td>SEWEE1801402</td>\n",
       "      <td>[POP]</td>\n",
       "      <td>230400.0</td>\n",
       "    </tr>\n",
       "    <tr>\n",
       "      <th>b9233cb60674ca1ebb868e1cfe8d7b5c</th>\n",
       "      <td>NaN</td>\n",
       "      <td>NaN</td>\n",
       "      <td>NaN</td>\n",
       "      <td>NaN</td>\n",
       "      <td>2018-12-07 06:50:16</td>\n",
       "      <td>Mahalageasca</td>\n",
       "      <td>SO</td>\n",
       "      <td>BE6F50403000</td>\n",
       "      <td>[FOLK]</td>\n",
       "      <td>246640.0</td>\n",
       "    </tr>\n",
       "    <tr>\n",
       "      <th>b0e056b8cdd428972b758e8ea8a0ce8c</th>\n",
       "      <td>NaN</td>\n",
       "      <td>NaN</td>\n",
       "      <td>NaN</td>\n",
       "      <td>NaN</td>\n",
       "      <td>2018-12-08 11:52:47</td>\n",
       "      <td>Close Cover</td>\n",
       "      <td>EN</td>\n",
       "      <td>BEW030113016</td>\n",
       "      <td>[CLASSICAL, CLASSICALMUSIC]</td>\n",
       "      <td>253950.0</td>\n",
       "    </tr>\n",
       "  </tbody>\n",
       "</table>\n",
       "</div>"
      ],
      "text/plain": [
       "                                 original_track_id track_remake_type  \\\n",
       "track_id                                                               \n",
       "1e8ca836c962598551882e689265c1c5               NaN               NaN   \n",
       "1296f487d135fa2808e18accebb6554f               NaN               NaN   \n",
       "5a1fce1ebb19da07487f3132b261b78e               NaN               NaN   \n",
       "a33e4b17ce2c355fb3e65ee042509803               NaN               NaN   \n",
       "0e2b32a929c0e09569fdd0c831e2b459               NaN               NaN   \n",
       "a6bea0f1418b5e768b689604e11d111d               NaN               NaN   \n",
       "fb68073731d1fb23269c9778df343711               NaN               NaN   \n",
       "96437a3517f1f408381363bc8d539718               NaN               NaN   \n",
       "694ddd9c20051cd893222f00497b58a7               NaN               NaN   \n",
       "ac8c3425ac530ce79214dd0704a08e30               NaN               NaN   \n",
       "0f74b97c7afdd09412b1147e812aad76               NaN               NaN   \n",
       "7684d25699831e0e09c923ec709f602c               NaN               NaN   \n",
       "39282a5bda389deac70c6c33ebd05fe7               NaN               NaN   \n",
       "105e505f39a1ce3a9e277e81783a8ffc               NaN               NaN   \n",
       "43bcd59d680a05b9ff28993e6375cb64               NaN               NaN   \n",
       "fa1b6f8b3ba1609dfaf6bda5b180ef25               NaN               NaN   \n",
       "5e16b48a01483936ae404c3b30286a02               NaN               NaN   \n",
       "b8d4dc8f7abdd59df56eb39787b35c8f               NaN               NaN   \n",
       "b9233cb60674ca1ebb868e1cfe8d7b5c               NaN               NaN   \n",
       "b0e056b8cdd428972b758e8ea8a0ce8c               NaN               NaN   \n",
       "\n",
       "                                                          lyric_id  \\\n",
       "track_id                                                             \n",
       "1e8ca836c962598551882e689265c1c5  bccf43f213b3abecaa0bdcdc17f5fff7   \n",
       "1296f487d135fa2808e18accebb6554f  144248a3cb888ffc4f28c4b3df9f45c1   \n",
       "5a1fce1ebb19da07487f3132b261b78e  6a3fdd4107a56ad1d9d622246b6ba327   \n",
       "a33e4b17ce2c355fb3e65ee042509803  bc9d77c8771c3d81aa848adc339f1fb5   \n",
       "0e2b32a929c0e09569fdd0c831e2b459                               NaN   \n",
       "a6bea0f1418b5e768b689604e11d111d                               NaN   \n",
       "fb68073731d1fb23269c9778df343711                               NaN   \n",
       "96437a3517f1f408381363bc8d539718                               NaN   \n",
       "694ddd9c20051cd893222f00497b58a7                               NaN   \n",
       "ac8c3425ac530ce79214dd0704a08e30                               NaN   \n",
       "0f74b97c7afdd09412b1147e812aad76                               NaN   \n",
       "7684d25699831e0e09c923ec709f602c                               NaN   \n",
       "39282a5bda389deac70c6c33ebd05fe7                               NaN   \n",
       "105e505f39a1ce3a9e277e81783a8ffc                               NaN   \n",
       "43bcd59d680a05b9ff28993e6375cb64                               NaN   \n",
       "fa1b6f8b3ba1609dfaf6bda5b180ef25                               NaN   \n",
       "5e16b48a01483936ae404c3b30286a02                               NaN   \n",
       "b8d4dc8f7abdd59df56eb39787b35c8f                               NaN   \n",
       "b9233cb60674ca1ebb868e1cfe8d7b5c                               NaN   \n",
       "b0e056b8cdd428972b758e8ea8a0ce8c                               NaN   \n",
       "\n",
       "                                                                               text  \\\n",
       "track_id                                                                              \n",
       "1e8ca836c962598551882e689265c1c5  Off with your head\\nDance til you're dead\\nHea...   \n",
       "1296f487d135fa2808e18accebb6554f  Your body, your soul\\nFeel the rhythm\\nTake co...   \n",
       "5a1fce1ebb19da07487f3132b261b78e  Last night, all I think about is you\\nDon't st...   \n",
       "a33e4b17ce2c355fb3e65ee042509803  Нас не догонят\\nНас не догонят, нас не догонят...   \n",
       "0e2b32a929c0e09569fdd0c831e2b459                                                NaN   \n",
       "a6bea0f1418b5e768b689604e11d111d                                                NaN   \n",
       "fb68073731d1fb23269c9778df343711                                                NaN   \n",
       "96437a3517f1f408381363bc8d539718                                                NaN   \n",
       "694ddd9c20051cd893222f00497b58a7                                                NaN   \n",
       "ac8c3425ac530ce79214dd0704a08e30                                                NaN   \n",
       "0f74b97c7afdd09412b1147e812aad76                                                NaN   \n",
       "7684d25699831e0e09c923ec709f602c                                                NaN   \n",
       "39282a5bda389deac70c6c33ebd05fe7                                                NaN   \n",
       "105e505f39a1ce3a9e277e81783a8ffc                                                NaN   \n",
       "43bcd59d680a05b9ff28993e6375cb64                                                NaN   \n",
       "fa1b6f8b3ba1609dfaf6bda5b180ef25                                                NaN   \n",
       "5e16b48a01483936ae404c3b30286a02                                                NaN   \n",
       "b8d4dc8f7abdd59df56eb39787b35c8f                                                NaN   \n",
       "b9233cb60674ca1ebb868e1cfe8d7b5c                                                NaN   \n",
       "b0e056b8cdd428972b758e8ea8a0ce8c                                                NaN   \n",
       "\n",
       "                                                dttm  \\\n",
       "track_id                                               \n",
       "1e8ca836c962598551882e689265c1c5 2009-09-17 20:00:00   \n",
       "1296f487d135fa2808e18accebb6554f 2012-08-20 20:16:40   \n",
       "5a1fce1ebb19da07487f3132b261b78e 2020-06-28 21:00:00   \n",
       "a33e4b17ce2c355fb3e65ee042509803 2009-09-17 20:00:00   \n",
       "0e2b32a929c0e09569fdd0c831e2b459 2019-09-26 21:00:00   \n",
       "a6bea0f1418b5e768b689604e11d111d 2021-05-24 14:02:01   \n",
       "fb68073731d1fb23269c9778df343711 2022-05-26 21:00:00   \n",
       "96437a3517f1f408381363bc8d539718 2023-04-26 21:00:00   \n",
       "694ddd9c20051cd893222f00497b58a7 2013-07-23 11:22:03   \n",
       "ac8c3425ac530ce79214dd0704a08e30 2020-11-12 21:00:00   \n",
       "0f74b97c7afdd09412b1147e812aad76 2018-10-04 21:00:00   \n",
       "7684d25699831e0e09c923ec709f602c 2013-04-06 03:49:02   \n",
       "39282a5bda389deac70c6c33ebd05fe7 2013-04-24 18:07:46   \n",
       "105e505f39a1ce3a9e277e81783a8ffc 2021-02-18 21:00:00   \n",
       "43bcd59d680a05b9ff28993e6375cb64 2021-03-11 21:00:00   \n",
       "fa1b6f8b3ba1609dfaf6bda5b180ef25 2018-03-23 05:28:00   \n",
       "5e16b48a01483936ae404c3b30286a02 2018-05-27 21:00:00   \n",
       "b8d4dc8f7abdd59df56eb39787b35c8f 2019-10-20 21:00:00   \n",
       "b9233cb60674ca1ebb868e1cfe8d7b5c 2018-12-07 06:50:16   \n",
       "b0e056b8cdd428972b758e8ea8a0ce8c 2018-12-08 11:52:47   \n",
       "\n",
       "                                                                title  \\\n",
       "track_id                                                                \n",
       "1e8ca836c962598551882e689265c1c5                      Heads Will Roll   \n",
       "1296f487d135fa2808e18accebb6554f                       Keep on moving   \n",
       "5a1fce1ebb19da07487f3132b261b78e                           Heat Waves   \n",
       "a33e4b17ce2c355fb3e65ee042509803                       Нас не догонят   \n",
       "0e2b32a929c0e09569fdd0c831e2b459                             Know You   \n",
       "a6bea0f1418b5e768b689604e11d111d                          Ну давай...   \n",
       "fb68073731d1fb23269c9778df343711                      Несколько минут   \n",
       "96437a3517f1f408381363bc8d539718                              Не вини   \n",
       "694ddd9c20051cd893222f00497b58a7                         April Breeze   \n",
       "ac8c3425ac530ce79214dd0704a08e30                      Cornfield Chase   \n",
       "0f74b97c7afdd09412b1147e812aad76                       Any Other Name   \n",
       "7684d25699831e0e09c923ec709f602c               Breakfast at Tiffany's   \n",
       "39282a5bda389deac70c6c33ebd05fe7  Can't Help Falling in Love with You   \n",
       "105e505f39a1ce3a9e277e81783a8ffc                             Epilogue   \n",
       "43bcd59d680a05b9ff28993e6375cb64                             Eyes Low   \n",
       "fa1b6f8b3ba1609dfaf6bda5b180ef25                          I Made U Do   \n",
       "5e16b48a01483936ae404c3b30286a02                        Time to Shine   \n",
       "b8d4dc8f7abdd59df56eb39787b35c8f                             The Ones   \n",
       "b9233cb60674ca1ebb868e1cfe8d7b5c                         Mahalageasca   \n",
       "b0e056b8cdd428972b758e8ea8a0ce8c                          Close Cover   \n",
       "\n",
       "                                 language          isrc  \\\n",
       "track_id                                                  \n",
       "1e8ca836c962598551882e689265c1c5       EN  GBUM70900924   \n",
       "1296f487d135fa2808e18accebb6554f       EN  FR6V80514183   \n",
       "5a1fce1ebb19da07487f3132b261b78e       EN  GBUM72000433   \n",
       "a33e4b17ce2c355fb3e65ee042509803       EN  RUA110100045   \n",
       "0e2b32a929c0e09569fdd0c831e2b459       EN  DELJ81949383   \n",
       "a6bea0f1418b5e768b689604e11d111d       BG  AEA0Q2136377   \n",
       "fb68073731d1fb23269c9778df343711       RU  UKU932117387   \n",
       "96437a3517f1f408381363bc8d539718       RU  QMDA62133693   \n",
       "694ddd9c20051cd893222f00497b58a7       RO  USHM20507914   \n",
       "ac8c3425ac530ce79214dd0704a08e30       EN  USNLR1400774   \n",
       "0f74b97c7afdd09412b1147e812aad76       EN  USDW19921012   \n",
       "7684d25699831e0e09c923ec709f602c       EN  NLG620514513   \n",
       "39282a5bda389deac70c6c33ebd05fe7       EN  USKYW1332545   \n",
       "105e505f39a1ce3a9e277e81783a8ffc       CA  GBBBC2100036   \n",
       "43bcd59d680a05b9ff28993e6375cb64       EN  QZP7F2110743   \n",
       "fa1b6f8b3ba1609dfaf6bda5b180ef25       PT  QZ5FN1808950   \n",
       "5e16b48a01483936ae404c3b30286a02       EN  FR2X41870803   \n",
       "b8d4dc8f7abdd59df56eb39787b35c8f       EN  SEWEE1801402   \n",
       "b9233cb60674ca1ebb868e1cfe8d7b5c       SO  BE6F50403000   \n",
       "b0e056b8cdd428972b758e8ea8a0ce8c       EN  BEW030113016   \n",
       "\n",
       "                                                       genres  duration  \n",
       "track_id                                                                 \n",
       "1e8ca836c962598551882e689265c1c5                [ALTERNATIVE]  221000.0  \n",
       "1296f487d135fa2808e18accebb6554f                [ELECTRONICS]  187980.0  \n",
       "5a1fce1ebb19da07487f3132b261b78e                      [INDIE]  238800.0  \n",
       "a33e4b17ce2c355fb3e65ee042509803                [POP, RUSPOP]  261330.0  \n",
       "0e2b32a929c0e09569fdd0c831e2b459                [ELECTRONICS]  158310.0  \n",
       "a6bea0f1418b5e768b689604e11d111d                [RUSRAP, RAP]  156210.0  \n",
       "fb68073731d1fb23269c9778df343711         [ELECTRONICS, HOUSE]  243000.0  \n",
       "96437a3517f1f408381363bc8d539718         [LOCAL-INDIE, INDIE]  244000.0  \n",
       "694ddd9c20051cd893222f00497b58a7                      [RELAX]  197660.0  \n",
       "ac8c3425ac530ce79214dd0704a08e30                 [SOUNDTRACK]  127000.0  \n",
       "0f74b97c7afdd09412b1147e812aad76                 [SOUNDTRACK]  246620.0  \n",
       "7684d25699831e0e09c923ec709f602c             [JAZZ, TRADJAZZ]  168730.0  \n",
       "39282a5bda389deac70c6c33ebd05fe7               [ALLROCK, RNR]  183950.0  \n",
       "105e505f39a1ce3a9e277e81783a8ffc     [CLASSICALMUSIC, MODERN]  249080.0  \n",
       "43bcd59d680a05b9ff28993e6375cb64                [ELECTRONICS]  184430.0  \n",
       "fa1b6f8b3ba1609dfaf6bda5b180ef25                [ELECTRONICS]  161820.0  \n",
       "5e16b48a01483936ae404c3b30286a02                      [DANCE]  177600.0  \n",
       "b8d4dc8f7abdd59df56eb39787b35c8f                        [POP]  230400.0  \n",
       "b9233cb60674ca1ebb868e1cfe8d7b5c                       [FOLK]  246640.0  \n",
       "b0e056b8cdd428972b758e8ea8a0ce8c  [CLASSICAL, CLASSICALMUSIC]  253950.0  "
      ]
     },
     "execution_count": 47,
     "metadata": {},
     "output_type": "execute_result"
    }
   ],
   "source": [
    "df.sort_values(by='track_remake_type').tail(20)"
   ]
  },
  {
   "cell_type": "markdown",
   "metadata": {
    "id": "-FbNGUKBzjzf"
   },
   "source": [
    "Уже лучше. Для всех треков без метки есть какая-то информация, навание, текст, жанры и тд. Но для всех выведенных строк также пропущено и значения оригинального трека. А так как ранее мы выяснили, что все треки без оригинального `id` являются каверами, можно заполнить пропуски в этом столбце значением `COVER`."
   ]
  },
  {
   "cell_type": "code",
   "execution_count": 48,
   "metadata": {
    "id": "LhhGlZ3x3fXk"
   },
   "outputs": [],
   "source": [
    "df['track_remake_type'].fillna('COVER', inplace=True)"
   ]
  },
  {
   "cell_type": "code",
   "execution_count": 49,
   "metadata": {
    "id": "3M3FW9O97Reg"
   },
   "outputs": [],
   "source": [
    "df.dropna(subset=['title'], inplace=True) #Удаляем строки с пропущенной информацией о треках"
   ]
  },
  {
   "cell_type": "code",
   "execution_count": 50,
   "metadata": {
    "colab": {
     "base_uri": "https://localhost:8080/"
    },
    "id": "sdHRqA3l5bqZ",
    "outputId": "04cb4e4f-ba89-48bc-c1ff-0fd87b965f23"
   },
   "outputs": [
    {
     "data": {
      "text/plain": [
       "original_track_id    66504\n",
       "track_remake_type        0\n",
       "lyric_id             61098\n",
       "text                 61098\n",
       "dttm                     0\n",
       "title                    0\n",
       "language                 0\n",
       "isrc                     0\n",
       "genres                   0\n",
       "duration                 0\n",
       "dtype: int64"
      ]
     },
     "execution_count": 50,
     "metadata": {},
     "output_type": "execute_result"
    }
   ],
   "source": [
    "df.isna().sum() #проверяем"
   ]
  },
  {
   "cell_type": "markdown",
   "metadata": {
    "id": "WqQx6YIP7wuR"
   },
   "source": [
    "В одном из выводов замечаем, что столбец `genres` содержит пустые списки. Это не пропуски, поэтому они могли ускользнуть от внимания и впоследствии создать проблемы при обучении моделей. Посмотрим, сколько всего таких значений в датасете."
   ]
  },
  {
   "cell_type": "code",
   "execution_count": 51,
   "metadata": {
    "colab": {
     "base_uri": "https://localhost:8080/"
    },
    "id": "L2-BZawa9VQN",
    "outputId": "1a615fa3-30e5-4862-f4f1-923ebf73e5ae"
   },
   "outputs": [
    {
     "data": {
      "text/plain": [
       "2315"
      ]
     },
     "execution_count": 51,
     "metadata": {},
     "output_type": "execute_result"
    }
   ],
   "source": [
    "len(df[df['genres'].apply(lambda x: len(x) == 0)])"
   ]
  },
  {
   "cell_type": "markdown",
   "metadata": {
    "id": "pyeBYkiW_igS"
   },
   "source": [
    "Довольно много, удалять нельзя. Преобразуем списки в строки, и заменим их заглушкой `Unknown`"
   ]
  },
  {
   "cell_type": "code",
   "execution_count": 52,
   "metadata": {
    "id": "RZSdtVG9_rbh"
   },
   "outputs": [],
   "source": [
    "df = df.explode('genres')"
   ]
  },
  {
   "cell_type": "code",
   "execution_count": 53,
   "metadata": {
    "id": "DPE6l7pz_525"
   },
   "outputs": [],
   "source": [
    "df['genres'].replace('', 'Unknown', inplace=True)"
   ]
  },
  {
   "cell_type": "code",
   "execution_count": 54,
   "metadata": {
    "colab": {
     "base_uri": "https://localhost:8080/",
     "height": 112
    },
    "id": "RYgwmIfDAZx5",
    "outputId": "d0bbcd0a-ddc7-4d9d-ebd9-1329e03ef996"
   },
   "outputs": [
    {
     "data": {
      "text/html": [
       "<div>\n",
       "<style scoped>\n",
       "    .dataframe tbody tr th:only-of-type {\n",
       "        vertical-align: middle;\n",
       "    }\n",
       "\n",
       "    .dataframe tbody tr th {\n",
       "        vertical-align: top;\n",
       "    }\n",
       "\n",
       "    .dataframe thead th {\n",
       "        text-align: right;\n",
       "    }\n",
       "</style>\n",
       "<table border=\"1\" class=\"dataframe\">\n",
       "  <thead>\n",
       "    <tr style=\"text-align: right;\">\n",
       "      <th></th>\n",
       "      <th>original_track_id</th>\n",
       "      <th>track_remake_type</th>\n",
       "      <th>lyric_id</th>\n",
       "      <th>text</th>\n",
       "      <th>dttm</th>\n",
       "      <th>title</th>\n",
       "      <th>language</th>\n",
       "      <th>isrc</th>\n",
       "      <th>genres</th>\n",
       "      <th>duration</th>\n",
       "    </tr>\n",
       "    <tr>\n",
       "      <th>track_id</th>\n",
       "      <th></th>\n",
       "      <th></th>\n",
       "      <th></th>\n",
       "      <th></th>\n",
       "      <th></th>\n",
       "      <th></th>\n",
       "      <th></th>\n",
       "      <th></th>\n",
       "      <th></th>\n",
       "      <th></th>\n",
       "    </tr>\n",
       "  </thead>\n",
       "  <tbody>\n",
       "    <tr>\n",
       "      <th>ffff8f1c01d78267ce067a2507fcc8f8</th>\n",
       "      <td>None</td>\n",
       "      <td>COVER</td>\n",
       "      <td>NaN</td>\n",
       "      <td>NaN</td>\n",
       "      <td>2019-05-17 16:50:33</td>\n",
       "      <td>No Limit</td>\n",
       "      <td>SQ</td>\n",
       "      <td>PLS921752714</td>\n",
       "      <td>NaN</td>\n",
       "      <td>175950.0</td>\n",
       "    </tr>\n",
       "  </tbody>\n",
       "</table>\n",
       "</div>"
      ],
      "text/plain": [
       "                                 original_track_id track_remake_type lyric_id  \\\n",
       "track_id                                                                        \n",
       "ffff8f1c01d78267ce067a2507fcc8f8              None             COVER      NaN   \n",
       "\n",
       "                                 text                dttm     title language  \\\n",
       "track_id                                                                       \n",
       "ffff8f1c01d78267ce067a2507fcc8f8  NaN 2019-05-17 16:50:33  No Limit       SQ   \n",
       "\n",
       "                                          isrc genres  duration  \n",
       "track_id                                                         \n",
       "ffff8f1c01d78267ce067a2507fcc8f8  PLS921752714    NaN  175950.0  "
      ]
     },
     "execution_count": 54,
     "metadata": {},
     "output_type": "execute_result"
    }
   ],
   "source": [
    "df1 = df.query(\"isrc == 'PLS921752714'\") #Проверяем, как заполнились пустые списки\n",
    "df1"
   ]
  },
  {
   "cell_type": "code",
   "execution_count": 55,
   "metadata": {
    "id": "M0FelZkXdqbH"
   },
   "outputs": [],
   "source": [
    "df['text'].fillna('', inplace=True)"
   ]
  },
  {
   "cell_type": "markdown",
   "metadata": {
    "id": "HvgjXeqELbUj"
   },
   "source": [
    "Исследуем баланс классов целевого признака"
   ]
  },
  {
   "cell_type": "code",
   "execution_count": 56,
   "metadata": {
    "colab": {
     "base_uri": "https://localhost:8080/"
    },
    "id": "DZ23phscNGak",
    "outputId": "2aca3a17-47b6-4584-c0cb-1f2ed675a3d0"
   },
   "outputs": [
    {
     "data": {
      "text/plain": [
       "COVER       99758\n",
       "ORIGINAL     6649\n",
       "Name: track_remake_type, dtype: int64"
      ]
     },
     "execution_count": 56,
     "metadata": {},
     "output_type": "execute_result"
    }
   ],
   "source": [
    "df['track_remake_type'].value_counts()"
   ]
  },
  {
   "cell_type": "markdown",
   "metadata": {
    "id": "m18Dn1PURRur"
   },
   "source": [
    "Видим дисбаланс 16 к одному, что закономерно, так как к одному треку может быть много каверов. Но для модели это может создать проблемы, при обучении нужно будет определить сбалансированные веса."
   ]
  },
  {
   "cell_type": "markdown",
   "metadata": {
    "id": "8Ws2JWzgSUnL"
   },
   "source": [
    "## Предобработка данных"
   ]
  },
  {
   "cell_type": "markdown",
   "metadata": {},
   "source": [
    "Для начала разобъем выборку на тренировочную и тестовую, чтобы избежать утечки данных."
   ]
  },
  {
   "cell_type": "code",
   "execution_count": 57,
   "metadata": {},
   "outputs": [],
   "source": [
    "df_train, df_test = train_test_split(df, test_size=0.25, random_state=RANDOM_STATE)"
   ]
  },
  {
   "cell_type": "markdown",
   "metadata": {
    "id": "6zWAD6Myp2ji"
   },
   "source": [
    "Создадим новые фичи на основе векторизации текста."
   ]
  },
  {
   "cell_type": "code",
   "execution_count": 58,
   "metadata": {},
   "outputs": [],
   "source": [
    "def vectorizer_text(df):\n",
    "    # Параметры векторизации\n",
    "    max_features = 200\n",
    "    max_df = 0.80\n",
    "    min_df = 3\n",
    "\n",
    "    # Векторизация текста\n",
    "    vectorizer = TfidfVectorizer(lowercase=True, max_features=max_features, max_df=max_df, min_df=min_df)\n",
    "    matrix = vectorizer.fit_transform(df['text'])\n",
    "    sparse_matrix = csr_matrix(matrix)\n",
    "\n",
    "    # Создание позиций слов\n",
    "    Positions = {}\n",
    "    for j, word in enumerate(vectorizer.get_feature_names_out()):\n",
    "        Positions[word] = j\n",
    "\n",
    "    # Количество слов\n",
    "    amountWords = len(vectorizer.get_feature_names_out())\n",
    "\n",
    "    # Создание DataFrame из TF-IDF матрицы\n",
    "    Tf_idf = pd.DataFrame.sparse.from_spmatrix(sparse_matrix, columns=vectorizer.get_feature_names_out())\n",
    "\n",
    "    # Применение PCA для уменьшения размерности\n",
    "    n_components = 30\n",
    "    pca = PCA(n_components=n_components)\n",
    "    matrix_pca = pca.fit_transform(sparse_matrix.toarray())\n",
    "    \n",
    "    \n",
    "    pca_df = pd.DataFrame(matrix_pca, columns=[f'PCA_{i}' for i in range(matrix_pca.shape[1])])\n",
    "    pca_df.index = df.index\n",
    "    df = pd.concat([df, pca_df], axis=1)\n",
    "    \n",
    "    return df"
   ]
  },
  {
   "cell_type": "code",
   "execution_count": 59,
   "metadata": {},
   "outputs": [],
   "source": [
    "df_train = vectorizer_text(df_train)\n",
    "df_test = vectorizer_text(df_test)"
   ]
  },
  {
   "cell_type": "code",
   "execution_count": 60,
   "metadata": {},
   "outputs": [
    {
     "data": {
      "text/html": [
       "<div>\n",
       "<style scoped>\n",
       "    .dataframe tbody tr th:only-of-type {\n",
       "        vertical-align: middle;\n",
       "    }\n",
       "\n",
       "    .dataframe tbody tr th {\n",
       "        vertical-align: top;\n",
       "    }\n",
       "\n",
       "    .dataframe thead th {\n",
       "        text-align: right;\n",
       "    }\n",
       "</style>\n",
       "<table border=\"1\" class=\"dataframe\">\n",
       "  <thead>\n",
       "    <tr style=\"text-align: right;\">\n",
       "      <th></th>\n",
       "      <th>original_track_id</th>\n",
       "      <th>track_remake_type</th>\n",
       "      <th>lyric_id</th>\n",
       "      <th>text</th>\n",
       "      <th>dttm</th>\n",
       "      <th>title</th>\n",
       "      <th>language</th>\n",
       "      <th>isrc</th>\n",
       "      <th>genres</th>\n",
       "      <th>duration</th>\n",
       "      <th>...</th>\n",
       "      <th>PCA_20</th>\n",
       "      <th>PCA_21</th>\n",
       "      <th>PCA_22</th>\n",
       "      <th>PCA_23</th>\n",
       "      <th>PCA_24</th>\n",
       "      <th>PCA_25</th>\n",
       "      <th>PCA_26</th>\n",
       "      <th>PCA_27</th>\n",
       "      <th>PCA_28</th>\n",
       "      <th>PCA_29</th>\n",
       "    </tr>\n",
       "    <tr>\n",
       "      <th>track_id</th>\n",
       "      <th></th>\n",
       "      <th></th>\n",
       "      <th></th>\n",
       "      <th></th>\n",
       "      <th></th>\n",
       "      <th></th>\n",
       "      <th></th>\n",
       "      <th></th>\n",
       "      <th></th>\n",
       "      <th></th>\n",
       "      <th></th>\n",
       "      <th></th>\n",
       "      <th></th>\n",
       "      <th></th>\n",
       "      <th></th>\n",
       "      <th></th>\n",
       "      <th></th>\n",
       "      <th></th>\n",
       "      <th></th>\n",
       "      <th></th>\n",
       "      <th></th>\n",
       "    </tr>\n",
       "  </thead>\n",
       "  <tbody>\n",
       "    <tr>\n",
       "      <th>458ce539d6ab93504964dfde4b9368dd</th>\n",
       "      <td>None</td>\n",
       "      <td>COVER</td>\n",
       "      <td>4fcc0b872f5c1fc8fbe7f8ec985f1c94</td>\n",
       "      <td>Llévame donde los hombres\\nNecesiten tus palab...</td>\n",
       "      <td>2020-12-06 00:24:30</td>\n",
       "      <td>Alma Misionera</td>\n",
       "      <td>IT</td>\n",
       "      <td>QZNJX2053857</td>\n",
       "      <td>SPIRITUAL</td>\n",
       "      <td>132590.0</td>\n",
       "      <td>...</td>\n",
       "      <td>0.123539</td>\n",
       "      <td>0.101109</td>\n",
       "      <td>-0.018017</td>\n",
       "      <td>0.017332</td>\n",
       "      <td>0.020766</td>\n",
       "      <td>0.010944</td>\n",
       "      <td>-0.118673</td>\n",
       "      <td>0.024424</td>\n",
       "      <td>0.008445</td>\n",
       "      <td>0.020194</td>\n",
       "    </tr>\n",
       "    <tr>\n",
       "      <th>a374d6de89e64007a1540d4f894a22a4</th>\n",
       "      <td>None</td>\n",
       "      <td>COVER</td>\n",
       "      <td>NaN</td>\n",
       "      <td></td>\n",
       "      <td>2021-08-19 13:19:29</td>\n",
       "      <td>Slaughtered</td>\n",
       "      <td>EN</td>\n",
       "      <td>FRX282195888</td>\n",
       "      <td>ROCK</td>\n",
       "      <td>239200.0</td>\n",
       "      <td>...</td>\n",
       "      <td>0.000138</td>\n",
       "      <td>-0.000394</td>\n",
       "      <td>-0.000048</td>\n",
       "      <td>0.000101</td>\n",
       "      <td>0.000307</td>\n",
       "      <td>0.000150</td>\n",
       "      <td>-0.000701</td>\n",
       "      <td>0.000094</td>\n",
       "      <td>0.000337</td>\n",
       "      <td>-0.000018</td>\n",
       "    </tr>\n",
       "    <tr>\n",
       "      <th>15ae2f556bfacc3afaf77e6cf0eedb47</th>\n",
       "      <td>None</td>\n",
       "      <td>COVER</td>\n",
       "      <td>NaN</td>\n",
       "      <td></td>\n",
       "      <td>2012-02-29 20:00:00</td>\n",
       "      <td>Getting Better</td>\n",
       "      <td>EN</td>\n",
       "      <td>DEU240900606</td>\n",
       "      <td>ROCK</td>\n",
       "      <td>170000.0</td>\n",
       "      <td>...</td>\n",
       "      <td>0.000138</td>\n",
       "      <td>-0.000394</td>\n",
       "      <td>-0.000048</td>\n",
       "      <td>0.000101</td>\n",
       "      <td>0.000307</td>\n",
       "      <td>0.000150</td>\n",
       "      <td>-0.000701</td>\n",
       "      <td>0.000094</td>\n",
       "      <td>0.000337</td>\n",
       "      <td>-0.000018</td>\n",
       "    </tr>\n",
       "    <tr>\n",
       "      <th>c8ae5081580a4ca4699457ec0ceece28</th>\n",
       "      <td>None</td>\n",
       "      <td>COVER</td>\n",
       "      <td>NaN</td>\n",
       "      <td></td>\n",
       "      <td>2021-03-30 13:30:10</td>\n",
       "      <td>911</td>\n",
       "      <td>ES</td>\n",
       "      <td>FR59R2135715</td>\n",
       "      <td>LATINFOLK</td>\n",
       "      <td>237020.0</td>\n",
       "      <td>...</td>\n",
       "      <td>0.000138</td>\n",
       "      <td>-0.000394</td>\n",
       "      <td>-0.000048</td>\n",
       "      <td>0.000101</td>\n",
       "      <td>0.000307</td>\n",
       "      <td>0.000150</td>\n",
       "      <td>-0.000701</td>\n",
       "      <td>0.000094</td>\n",
       "      <td>0.000337</td>\n",
       "      <td>-0.000018</td>\n",
       "    </tr>\n",
       "    <tr>\n",
       "      <th>df375b046a3596832c71247ddfa6bc2a</th>\n",
       "      <td>None</td>\n",
       "      <td>COVER</td>\n",
       "      <td>NaN</td>\n",
       "      <td></td>\n",
       "      <td>2014-06-11 02:37:25</td>\n",
       "      <td>Days in the West</td>\n",
       "      <td>EN</td>\n",
       "      <td>FR6V82539507</td>\n",
       "      <td>FOREIGNRAP</td>\n",
       "      <td>298540.0</td>\n",
       "      <td>...</td>\n",
       "      <td>0.000138</td>\n",
       "      <td>-0.000394</td>\n",
       "      <td>-0.000048</td>\n",
       "      <td>0.000101</td>\n",
       "      <td>0.000307</td>\n",
       "      <td>0.000150</td>\n",
       "      <td>-0.000701</td>\n",
       "      <td>0.000094</td>\n",
       "      <td>0.000337</td>\n",
       "      <td>-0.000018</td>\n",
       "    </tr>\n",
       "    <tr>\n",
       "      <th>...</th>\n",
       "      <td>...</td>\n",
       "      <td>...</td>\n",
       "      <td>...</td>\n",
       "      <td>...</td>\n",
       "      <td>...</td>\n",
       "      <td>...</td>\n",
       "      <td>...</td>\n",
       "      <td>...</td>\n",
       "      <td>...</td>\n",
       "      <td>...</td>\n",
       "      <td>...</td>\n",
       "      <td>...</td>\n",
       "      <td>...</td>\n",
       "      <td>...</td>\n",
       "      <td>...</td>\n",
       "      <td>...</td>\n",
       "      <td>...</td>\n",
       "      <td>...</td>\n",
       "      <td>...</td>\n",
       "      <td>...</td>\n",
       "      <td>...</td>\n",
       "    </tr>\n",
       "    <tr>\n",
       "      <th>51c4bc89bc21e9c06fa83af73cbd3512</th>\n",
       "      <td>None</td>\n",
       "      <td>COVER</td>\n",
       "      <td>NaN</td>\n",
       "      <td></td>\n",
       "      <td>2021-08-30 21:00:00</td>\n",
       "      <td>Pareja del Año</td>\n",
       "      <td>ES</td>\n",
       "      <td>USLZJ2191890</td>\n",
       "      <td>LATINFOLK</td>\n",
       "      <td>178460.0</td>\n",
       "      <td>...</td>\n",
       "      <td>0.000138</td>\n",
       "      <td>-0.000394</td>\n",
       "      <td>-0.000048</td>\n",
       "      <td>0.000101</td>\n",
       "      <td>0.000307</td>\n",
       "      <td>0.000150</td>\n",
       "      <td>-0.000701</td>\n",
       "      <td>0.000094</td>\n",
       "      <td>0.000337</td>\n",
       "      <td>-0.000018</td>\n",
       "    </tr>\n",
       "    <tr>\n",
       "      <th>f9b887685587f0d2e220ddb88876e366</th>\n",
       "      <td>None</td>\n",
       "      <td>COVER</td>\n",
       "      <td>NaN</td>\n",
       "      <td></td>\n",
       "      <td>2021-10-28 04:21:26</td>\n",
       "      <td>Like a Stone</td>\n",
       "      <td>EN</td>\n",
       "      <td>QZ5AB2118606</td>\n",
       "      <td>ALLROCK</td>\n",
       "      <td>258000.0</td>\n",
       "      <td>...</td>\n",
       "      <td>0.000138</td>\n",
       "      <td>-0.000394</td>\n",
       "      <td>-0.000048</td>\n",
       "      <td>0.000101</td>\n",
       "      <td>0.000307</td>\n",
       "      <td>0.000150</td>\n",
       "      <td>-0.000701</td>\n",
       "      <td>0.000094</td>\n",
       "      <td>0.000337</td>\n",
       "      <td>-0.000018</td>\n",
       "    </tr>\n",
       "    <tr>\n",
       "      <th>2f4ec94bf2ff1ff9fbc6112ff6640a22</th>\n",
       "      <td>None</td>\n",
       "      <td>COVER</td>\n",
       "      <td>NaN</td>\n",
       "      <td></td>\n",
       "      <td>2022-09-15 21:00:00</td>\n",
       "      <td>Bad Habits</td>\n",
       "      <td>SO</td>\n",
       "      <td>RUB422202211</td>\n",
       "      <td>DANCE</td>\n",
       "      <td>210760.0</td>\n",
       "      <td>...</td>\n",
       "      <td>0.000138</td>\n",
       "      <td>-0.000394</td>\n",
       "      <td>-0.000048</td>\n",
       "      <td>0.000101</td>\n",
       "      <td>0.000307</td>\n",
       "      <td>0.000150</td>\n",
       "      <td>-0.000701</td>\n",
       "      <td>0.000094</td>\n",
       "      <td>0.000337</td>\n",
       "      <td>-0.000018</td>\n",
       "    </tr>\n",
       "    <tr>\n",
       "      <th>60d2451205f75a41f1de12ed156b0273</th>\n",
       "      <td>None</td>\n",
       "      <td>COVER</td>\n",
       "      <td>cb7c84bd5e0e50ad6d8f2cbbd9d4c8ea</td>\n",
       "      <td>We've already said goodbye\\nSince you gotta go...</td>\n",
       "      <td>2014-09-20 20:00:00</td>\n",
       "      <td>Go Now</td>\n",
       "      <td>PL</td>\n",
       "      <td>USSM10505066</td>\n",
       "      <td>CLASSICMETAL</td>\n",
       "      <td>222280.0</td>\n",
       "      <td>...</td>\n",
       "      <td>-0.002360</td>\n",
       "      <td>-0.002586</td>\n",
       "      <td>0.006014</td>\n",
       "      <td>-0.012430</td>\n",
       "      <td>-0.022725</td>\n",
       "      <td>-0.028391</td>\n",
       "      <td>0.003125</td>\n",
       "      <td>0.007227</td>\n",
       "      <td>0.017858</td>\n",
       "      <td>0.038015</td>\n",
       "    </tr>\n",
       "    <tr>\n",
       "      <th>e59b698a6eca92186929890be10837e7</th>\n",
       "      <td>None</td>\n",
       "      <td>COVER</td>\n",
       "      <td>NaN</td>\n",
       "      <td></td>\n",
       "      <td>2018-02-24 17:07:45</td>\n",
       "      <td>Heartbeats</td>\n",
       "      <td>EN</td>\n",
       "      <td>CH6540822616</td>\n",
       "      <td>INDUSTRIAL</td>\n",
       "      <td>215110.0</td>\n",
       "      <td>...</td>\n",
       "      <td>0.000138</td>\n",
       "      <td>-0.000394</td>\n",
       "      <td>-0.000048</td>\n",
       "      <td>0.000101</td>\n",
       "      <td>0.000307</td>\n",
       "      <td>0.000150</td>\n",
       "      <td>-0.000701</td>\n",
       "      <td>0.000094</td>\n",
       "      <td>0.000337</td>\n",
       "      <td>-0.000018</td>\n",
       "    </tr>\n",
       "  </tbody>\n",
       "</table>\n",
       "<p>79805 rows × 40 columns</p>\n",
       "</div>"
      ],
      "text/plain": [
       "                                 original_track_id track_remake_type  \\\n",
       "track_id                                                               \n",
       "458ce539d6ab93504964dfde4b9368dd              None             COVER   \n",
       "a374d6de89e64007a1540d4f894a22a4              None             COVER   \n",
       "15ae2f556bfacc3afaf77e6cf0eedb47              None             COVER   \n",
       "c8ae5081580a4ca4699457ec0ceece28              None             COVER   \n",
       "df375b046a3596832c71247ddfa6bc2a              None             COVER   \n",
       "...                                            ...               ...   \n",
       "51c4bc89bc21e9c06fa83af73cbd3512              None             COVER   \n",
       "f9b887685587f0d2e220ddb88876e366              None             COVER   \n",
       "2f4ec94bf2ff1ff9fbc6112ff6640a22              None             COVER   \n",
       "60d2451205f75a41f1de12ed156b0273              None             COVER   \n",
       "e59b698a6eca92186929890be10837e7              None             COVER   \n",
       "\n",
       "                                                          lyric_id  \\\n",
       "track_id                                                             \n",
       "458ce539d6ab93504964dfde4b9368dd  4fcc0b872f5c1fc8fbe7f8ec985f1c94   \n",
       "a374d6de89e64007a1540d4f894a22a4                               NaN   \n",
       "15ae2f556bfacc3afaf77e6cf0eedb47                               NaN   \n",
       "c8ae5081580a4ca4699457ec0ceece28                               NaN   \n",
       "df375b046a3596832c71247ddfa6bc2a                               NaN   \n",
       "...                                                            ...   \n",
       "51c4bc89bc21e9c06fa83af73cbd3512                               NaN   \n",
       "f9b887685587f0d2e220ddb88876e366                               NaN   \n",
       "2f4ec94bf2ff1ff9fbc6112ff6640a22                               NaN   \n",
       "60d2451205f75a41f1de12ed156b0273  cb7c84bd5e0e50ad6d8f2cbbd9d4c8ea   \n",
       "e59b698a6eca92186929890be10837e7                               NaN   \n",
       "\n",
       "                                                                               text  \\\n",
       "track_id                                                                              \n",
       "458ce539d6ab93504964dfde4b9368dd  Llévame donde los hombres\\nNecesiten tus palab...   \n",
       "a374d6de89e64007a1540d4f894a22a4                                                      \n",
       "15ae2f556bfacc3afaf77e6cf0eedb47                                                      \n",
       "c8ae5081580a4ca4699457ec0ceece28                                                      \n",
       "df375b046a3596832c71247ddfa6bc2a                                                      \n",
       "...                                                                             ...   \n",
       "51c4bc89bc21e9c06fa83af73cbd3512                                                      \n",
       "f9b887685587f0d2e220ddb88876e366                                                      \n",
       "2f4ec94bf2ff1ff9fbc6112ff6640a22                                                      \n",
       "60d2451205f75a41f1de12ed156b0273  We've already said goodbye\\nSince you gotta go...   \n",
       "e59b698a6eca92186929890be10837e7                                                      \n",
       "\n",
       "                                                dttm             title  \\\n",
       "track_id                                                                 \n",
       "458ce539d6ab93504964dfde4b9368dd 2020-12-06 00:24:30    Alma Misionera   \n",
       "a374d6de89e64007a1540d4f894a22a4 2021-08-19 13:19:29       Slaughtered   \n",
       "15ae2f556bfacc3afaf77e6cf0eedb47 2012-02-29 20:00:00    Getting Better   \n",
       "c8ae5081580a4ca4699457ec0ceece28 2021-03-30 13:30:10               911   \n",
       "df375b046a3596832c71247ddfa6bc2a 2014-06-11 02:37:25  Days in the West   \n",
       "...                                              ...               ...   \n",
       "51c4bc89bc21e9c06fa83af73cbd3512 2021-08-30 21:00:00    Pareja del Año   \n",
       "f9b887685587f0d2e220ddb88876e366 2021-10-28 04:21:26      Like a Stone   \n",
       "2f4ec94bf2ff1ff9fbc6112ff6640a22 2022-09-15 21:00:00        Bad Habits   \n",
       "60d2451205f75a41f1de12ed156b0273 2014-09-20 20:00:00            Go Now   \n",
       "e59b698a6eca92186929890be10837e7 2018-02-24 17:07:45        Heartbeats   \n",
       "\n",
       "                                 language          isrc        genres  \\\n",
       "track_id                                                                \n",
       "458ce539d6ab93504964dfde4b9368dd       IT  QZNJX2053857     SPIRITUAL   \n",
       "a374d6de89e64007a1540d4f894a22a4       EN  FRX282195888          ROCK   \n",
       "15ae2f556bfacc3afaf77e6cf0eedb47       EN  DEU240900606          ROCK   \n",
       "c8ae5081580a4ca4699457ec0ceece28       ES  FR59R2135715     LATINFOLK   \n",
       "df375b046a3596832c71247ddfa6bc2a       EN  FR6V82539507    FOREIGNRAP   \n",
       "...                                   ...           ...           ...   \n",
       "51c4bc89bc21e9c06fa83af73cbd3512       ES  USLZJ2191890     LATINFOLK   \n",
       "f9b887685587f0d2e220ddb88876e366       EN  QZ5AB2118606       ALLROCK   \n",
       "2f4ec94bf2ff1ff9fbc6112ff6640a22       SO  RUB422202211         DANCE   \n",
       "60d2451205f75a41f1de12ed156b0273       PL  USSM10505066  CLASSICMETAL   \n",
       "e59b698a6eca92186929890be10837e7       EN  CH6540822616    INDUSTRIAL   \n",
       "\n",
       "                                  duration  ...    PCA_20    PCA_21    PCA_22  \\\n",
       "track_id                                    ...                                 \n",
       "458ce539d6ab93504964dfde4b9368dd  132590.0  ...  0.123539  0.101109 -0.018017   \n",
       "a374d6de89e64007a1540d4f894a22a4  239200.0  ...  0.000138 -0.000394 -0.000048   \n",
       "15ae2f556bfacc3afaf77e6cf0eedb47  170000.0  ...  0.000138 -0.000394 -0.000048   \n",
       "c8ae5081580a4ca4699457ec0ceece28  237020.0  ...  0.000138 -0.000394 -0.000048   \n",
       "df375b046a3596832c71247ddfa6bc2a  298540.0  ...  0.000138 -0.000394 -0.000048   \n",
       "...                                    ...  ...       ...       ...       ...   \n",
       "51c4bc89bc21e9c06fa83af73cbd3512  178460.0  ...  0.000138 -0.000394 -0.000048   \n",
       "f9b887685587f0d2e220ddb88876e366  258000.0  ...  0.000138 -0.000394 -0.000048   \n",
       "2f4ec94bf2ff1ff9fbc6112ff6640a22  210760.0  ...  0.000138 -0.000394 -0.000048   \n",
       "60d2451205f75a41f1de12ed156b0273  222280.0  ... -0.002360 -0.002586  0.006014   \n",
       "e59b698a6eca92186929890be10837e7  215110.0  ...  0.000138 -0.000394 -0.000048   \n",
       "\n",
       "                                    PCA_23    PCA_24    PCA_25    PCA_26  \\\n",
       "track_id                                                                   \n",
       "458ce539d6ab93504964dfde4b9368dd  0.017332  0.020766  0.010944 -0.118673   \n",
       "a374d6de89e64007a1540d4f894a22a4  0.000101  0.000307  0.000150 -0.000701   \n",
       "15ae2f556bfacc3afaf77e6cf0eedb47  0.000101  0.000307  0.000150 -0.000701   \n",
       "c8ae5081580a4ca4699457ec0ceece28  0.000101  0.000307  0.000150 -0.000701   \n",
       "df375b046a3596832c71247ddfa6bc2a  0.000101  0.000307  0.000150 -0.000701   \n",
       "...                                    ...       ...       ...       ...   \n",
       "51c4bc89bc21e9c06fa83af73cbd3512  0.000101  0.000307  0.000150 -0.000701   \n",
       "f9b887685587f0d2e220ddb88876e366  0.000101  0.000307  0.000150 -0.000701   \n",
       "2f4ec94bf2ff1ff9fbc6112ff6640a22  0.000101  0.000307  0.000150 -0.000701   \n",
       "60d2451205f75a41f1de12ed156b0273 -0.012430 -0.022725 -0.028391  0.003125   \n",
       "e59b698a6eca92186929890be10837e7  0.000101  0.000307  0.000150 -0.000701   \n",
       "\n",
       "                                    PCA_27    PCA_28    PCA_29  \n",
       "track_id                                                        \n",
       "458ce539d6ab93504964dfde4b9368dd  0.024424  0.008445  0.020194  \n",
       "a374d6de89e64007a1540d4f894a22a4  0.000094  0.000337 -0.000018  \n",
       "15ae2f556bfacc3afaf77e6cf0eedb47  0.000094  0.000337 -0.000018  \n",
       "c8ae5081580a4ca4699457ec0ceece28  0.000094  0.000337 -0.000018  \n",
       "df375b046a3596832c71247ddfa6bc2a  0.000094  0.000337 -0.000018  \n",
       "...                                    ...       ...       ...  \n",
       "51c4bc89bc21e9c06fa83af73cbd3512  0.000094  0.000337 -0.000018  \n",
       "f9b887685587f0d2e220ddb88876e366  0.000094  0.000337 -0.000018  \n",
       "2f4ec94bf2ff1ff9fbc6112ff6640a22  0.000094  0.000337 -0.000018  \n",
       "60d2451205f75a41f1de12ed156b0273  0.007227  0.017858  0.038015  \n",
       "e59b698a6eca92186929890be10837e7  0.000094  0.000337 -0.000018  \n",
       "\n",
       "[79805 rows x 40 columns]"
      ]
     },
     "execution_count": 60,
     "metadata": {},
     "output_type": "execute_result"
    }
   ],
   "source": [
    "df_train"
   ]
  },
  {
   "cell_type": "code",
   "execution_count": 61,
   "metadata": {},
   "outputs": [
    {
     "data": {
      "text/html": [
       "<div>\n",
       "<style scoped>\n",
       "    .dataframe tbody tr th:only-of-type {\n",
       "        vertical-align: middle;\n",
       "    }\n",
       "\n",
       "    .dataframe tbody tr th {\n",
       "        vertical-align: top;\n",
       "    }\n",
       "\n",
       "    .dataframe thead th {\n",
       "        text-align: right;\n",
       "    }\n",
       "</style>\n",
       "<table border=\"1\" class=\"dataframe\">\n",
       "  <thead>\n",
       "    <tr style=\"text-align: right;\">\n",
       "      <th></th>\n",
       "      <th>original_track_id</th>\n",
       "      <th>track_remake_type</th>\n",
       "      <th>lyric_id</th>\n",
       "      <th>text</th>\n",
       "      <th>dttm</th>\n",
       "      <th>title</th>\n",
       "      <th>language</th>\n",
       "      <th>isrc</th>\n",
       "      <th>genres</th>\n",
       "      <th>duration</th>\n",
       "      <th>...</th>\n",
       "      <th>PCA_20</th>\n",
       "      <th>PCA_21</th>\n",
       "      <th>PCA_22</th>\n",
       "      <th>PCA_23</th>\n",
       "      <th>PCA_24</th>\n",
       "      <th>PCA_25</th>\n",
       "      <th>PCA_26</th>\n",
       "      <th>PCA_27</th>\n",
       "      <th>PCA_28</th>\n",
       "      <th>PCA_29</th>\n",
       "    </tr>\n",
       "    <tr>\n",
       "      <th>track_id</th>\n",
       "      <th></th>\n",
       "      <th></th>\n",
       "      <th></th>\n",
       "      <th></th>\n",
       "      <th></th>\n",
       "      <th></th>\n",
       "      <th></th>\n",
       "      <th></th>\n",
       "      <th></th>\n",
       "      <th></th>\n",
       "      <th></th>\n",
       "      <th></th>\n",
       "      <th></th>\n",
       "      <th></th>\n",
       "      <th></th>\n",
       "      <th></th>\n",
       "      <th></th>\n",
       "      <th></th>\n",
       "      <th></th>\n",
       "      <th></th>\n",
       "      <th></th>\n",
       "    </tr>\n",
       "  </thead>\n",
       "  <tbody>\n",
       "    <tr>\n",
       "      <th>89803636c59346850bfb6de14370b303</th>\n",
       "      <td>89803636c59346850bfb6de14370b303</td>\n",
       "      <td>ORIGINAL</td>\n",
       "      <td>fed4f1741f5feebb79dd250921dcd02f</td>\n",
       "      <td>Нам что покрепче, нас лечат бесконечные встреч...</td>\n",
       "      <td>2022-06-23 21:00:00</td>\n",
       "      <td>Счастье</td>\n",
       "      <td>RU</td>\n",
       "      <td>RUA1D2249299</td>\n",
       "      <td>RUSPOP</td>\n",
       "      <td>140990.0</td>\n",
       "      <td>...</td>\n",
       "      <td>0.098017</td>\n",
       "      <td>-0.069664</td>\n",
       "      <td>0.048106</td>\n",
       "      <td>0.037887</td>\n",
       "      <td>-0.012761</td>\n",
       "      <td>0.035715</td>\n",
       "      <td>0.029012</td>\n",
       "      <td>0.036190</td>\n",
       "      <td>-0.072929</td>\n",
       "      <td>0.249378</td>\n",
       "    </tr>\n",
       "    <tr>\n",
       "      <th>224cb225a2e612f5489b24992a20cbf3</th>\n",
       "      <td>None</td>\n",
       "      <td>COVER</td>\n",
       "      <td>NaN</td>\n",
       "      <td></td>\n",
       "      <td>2021-03-23 05:15:10</td>\n",
       "      <td>Hackearam-Me</td>\n",
       "      <td>SV</td>\n",
       "      <td>QZGLS2109075</td>\n",
       "      <td>FOLK</td>\n",
       "      <td>192310.0</td>\n",
       "      <td>...</td>\n",
       "      <td>-0.000431</td>\n",
       "      <td>-0.000121</td>\n",
       "      <td>-0.000004</td>\n",
       "      <td>0.000150</td>\n",
       "      <td>-0.000425</td>\n",
       "      <td>-0.000342</td>\n",
       "      <td>-0.000085</td>\n",
       "      <td>-0.000118</td>\n",
       "      <td>-0.000459</td>\n",
       "      <td>-0.000199</td>\n",
       "    </tr>\n",
       "    <tr>\n",
       "      <th>12f22354aa53f7a47bac64322f8a8779</th>\n",
       "      <td>None</td>\n",
       "      <td>COVER</td>\n",
       "      <td>NaN</td>\n",
       "      <td></td>\n",
       "      <td>2020-06-28 18:38:26</td>\n",
       "      <td>Daredevil - Main Theme</td>\n",
       "      <td>EN</td>\n",
       "      <td>CB2CY0950928</td>\n",
       "      <td>FILMS</td>\n",
       "      <td>64730.0</td>\n",
       "      <td>...</td>\n",
       "      <td>-0.000431</td>\n",
       "      <td>-0.000121</td>\n",
       "      <td>-0.000004</td>\n",
       "      <td>0.000150</td>\n",
       "      <td>-0.000425</td>\n",
       "      <td>-0.000342</td>\n",
       "      <td>-0.000085</td>\n",
       "      <td>-0.000118</td>\n",
       "      <td>-0.000459</td>\n",
       "      <td>-0.000199</td>\n",
       "    </tr>\n",
       "    <tr>\n",
       "      <th>0f61b0f76abab917e60b82b7fb58c6d6</th>\n",
       "      <td>None</td>\n",
       "      <td>COVER</td>\n",
       "      <td>NaN</td>\n",
       "      <td></td>\n",
       "      <td>2022-01-24 18:14:02</td>\n",
       "      <td>Praia da Biquinha</td>\n",
       "      <td>PT</td>\n",
       "      <td>QZ5AB2210145</td>\n",
       "      <td>LATINFOLK</td>\n",
       "      <td>138190.0</td>\n",
       "      <td>...</td>\n",
       "      <td>-0.000431</td>\n",
       "      <td>-0.000121</td>\n",
       "      <td>-0.000004</td>\n",
       "      <td>0.000150</td>\n",
       "      <td>-0.000425</td>\n",
       "      <td>-0.000342</td>\n",
       "      <td>-0.000085</td>\n",
       "      <td>-0.000118</td>\n",
       "      <td>-0.000459</td>\n",
       "      <td>-0.000199</td>\n",
       "    </tr>\n",
       "    <tr>\n",
       "      <th>c996348ac49e0c243a4eb4cb0a9cfbbb</th>\n",
       "      <td>None</td>\n",
       "      <td>COVER</td>\n",
       "      <td>NaN</td>\n",
       "      <td></td>\n",
       "      <td>2021-11-24 16:57:06</td>\n",
       "      <td>Boa Noite Vizinhança</td>\n",
       "      <td>PT</td>\n",
       "      <td>QZNJZ2178383</td>\n",
       "      <td>POP</td>\n",
       "      <td>297330.0</td>\n",
       "      <td>...</td>\n",
       "      <td>-0.000431</td>\n",
       "      <td>-0.000121</td>\n",
       "      <td>-0.000004</td>\n",
       "      <td>0.000150</td>\n",
       "      <td>-0.000425</td>\n",
       "      <td>-0.000342</td>\n",
       "      <td>-0.000085</td>\n",
       "      <td>-0.000118</td>\n",
       "      <td>-0.000459</td>\n",
       "      <td>-0.000199</td>\n",
       "    </tr>\n",
       "    <tr>\n",
       "      <th>...</th>\n",
       "      <td>...</td>\n",
       "      <td>...</td>\n",
       "      <td>...</td>\n",
       "      <td>...</td>\n",
       "      <td>...</td>\n",
       "      <td>...</td>\n",
       "      <td>...</td>\n",
       "      <td>...</td>\n",
       "      <td>...</td>\n",
       "      <td>...</td>\n",
       "      <td>...</td>\n",
       "      <td>...</td>\n",
       "      <td>...</td>\n",
       "      <td>...</td>\n",
       "      <td>...</td>\n",
       "      <td>...</td>\n",
       "      <td>...</td>\n",
       "      <td>...</td>\n",
       "      <td>...</td>\n",
       "      <td>...</td>\n",
       "      <td>...</td>\n",
       "    </tr>\n",
       "    <tr>\n",
       "      <th>5cb4a290db5564e663072da94d23ad17</th>\n",
       "      <td>None</td>\n",
       "      <td>COVER</td>\n",
       "      <td>NaN</td>\n",
       "      <td></td>\n",
       "      <td>2022-06-11 02:07:56</td>\n",
       "      <td>El Gato de Chihuahua</td>\n",
       "      <td>ES</td>\n",
       "      <td>QZMZ92273536</td>\n",
       "      <td>LATINFOLK</td>\n",
       "      <td>190950.0</td>\n",
       "      <td>...</td>\n",
       "      <td>-0.000431</td>\n",
       "      <td>-0.000121</td>\n",
       "      <td>-0.000004</td>\n",
       "      <td>0.000150</td>\n",
       "      <td>-0.000425</td>\n",
       "      <td>-0.000342</td>\n",
       "      <td>-0.000085</td>\n",
       "      <td>-0.000118</td>\n",
       "      <td>-0.000459</td>\n",
       "      <td>-0.000199</td>\n",
       "    </tr>\n",
       "    <tr>\n",
       "      <th>73c65bc6ae2e2f09a02317c7bd25654d</th>\n",
       "      <td>None</td>\n",
       "      <td>COVER</td>\n",
       "      <td>NaN</td>\n",
       "      <td></td>\n",
       "      <td>2015-08-29 21:32:06</td>\n",
       "      <td>Infinity 2008</td>\n",
       "      <td>EN</td>\n",
       "      <td>UK7771413708</td>\n",
       "      <td>POP</td>\n",
       "      <td>199680.0</td>\n",
       "      <td>...</td>\n",
       "      <td>-0.000431</td>\n",
       "      <td>-0.000121</td>\n",
       "      <td>-0.000004</td>\n",
       "      <td>0.000150</td>\n",
       "      <td>-0.000425</td>\n",
       "      <td>-0.000342</td>\n",
       "      <td>-0.000085</td>\n",
       "      <td>-0.000118</td>\n",
       "      <td>-0.000459</td>\n",
       "      <td>-0.000199</td>\n",
       "    </tr>\n",
       "    <tr>\n",
       "      <th>19525276e1be80fd62e804864bcfe3cc</th>\n",
       "      <td>None</td>\n",
       "      <td>COVER</td>\n",
       "      <td>NaN</td>\n",
       "      <td></td>\n",
       "      <td>2012-12-05 04:31:57</td>\n",
       "      <td>Higher Window</td>\n",
       "      <td>EN</td>\n",
       "      <td>USA2P1217404</td>\n",
       "      <td>BARD</td>\n",
       "      <td>236950.0</td>\n",
       "      <td>...</td>\n",
       "      <td>-0.000431</td>\n",
       "      <td>-0.000121</td>\n",
       "      <td>-0.000004</td>\n",
       "      <td>0.000150</td>\n",
       "      <td>-0.000425</td>\n",
       "      <td>-0.000342</td>\n",
       "      <td>-0.000085</td>\n",
       "      <td>-0.000118</td>\n",
       "      <td>-0.000459</td>\n",
       "      <td>-0.000199</td>\n",
       "    </tr>\n",
       "    <tr>\n",
       "      <th>304eb9d73bd89118a0b598ed42194260</th>\n",
       "      <td>None</td>\n",
       "      <td>COVER</td>\n",
       "      <td>NaN</td>\n",
       "      <td></td>\n",
       "      <td>2022-03-22 12:35:45</td>\n",
       "      <td>So Quero um Xodo</td>\n",
       "      <td>PT</td>\n",
       "      <td>QZHZ32244172</td>\n",
       "      <td>FOLK</td>\n",
       "      <td>160700.0</td>\n",
       "      <td>...</td>\n",
       "      <td>-0.000431</td>\n",
       "      <td>-0.000121</td>\n",
       "      <td>-0.000004</td>\n",
       "      <td>0.000150</td>\n",
       "      <td>-0.000425</td>\n",
       "      <td>-0.000342</td>\n",
       "      <td>-0.000085</td>\n",
       "      <td>-0.000118</td>\n",
       "      <td>-0.000459</td>\n",
       "      <td>-0.000199</td>\n",
       "    </tr>\n",
       "    <tr>\n",
       "      <th>dbfd0061ef91d9267174288ad3044cca</th>\n",
       "      <td>None</td>\n",
       "      <td>COVER</td>\n",
       "      <td>NaN</td>\n",
       "      <td></td>\n",
       "      <td>2019-05-17 21:46:20</td>\n",
       "      <td>Te Bote</td>\n",
       "      <td>EN</td>\n",
       "      <td>FR2X41979072</td>\n",
       "      <td>LATINFOLK</td>\n",
       "      <td>189380.0</td>\n",
       "      <td>...</td>\n",
       "      <td>-0.000431</td>\n",
       "      <td>-0.000121</td>\n",
       "      <td>-0.000004</td>\n",
       "      <td>0.000150</td>\n",
       "      <td>-0.000425</td>\n",
       "      <td>-0.000342</td>\n",
       "      <td>-0.000085</td>\n",
       "      <td>-0.000118</td>\n",
       "      <td>-0.000459</td>\n",
       "      <td>-0.000199</td>\n",
       "    </tr>\n",
       "  </tbody>\n",
       "</table>\n",
       "<p>26602 rows × 40 columns</p>\n",
       "</div>"
      ],
      "text/plain": [
       "                                                 original_track_id  \\\n",
       "track_id                                                             \n",
       "89803636c59346850bfb6de14370b303  89803636c59346850bfb6de14370b303   \n",
       "224cb225a2e612f5489b24992a20cbf3                              None   \n",
       "12f22354aa53f7a47bac64322f8a8779                              None   \n",
       "0f61b0f76abab917e60b82b7fb58c6d6                              None   \n",
       "c996348ac49e0c243a4eb4cb0a9cfbbb                              None   \n",
       "...                                                            ...   \n",
       "5cb4a290db5564e663072da94d23ad17                              None   \n",
       "73c65bc6ae2e2f09a02317c7bd25654d                              None   \n",
       "19525276e1be80fd62e804864bcfe3cc                              None   \n",
       "304eb9d73bd89118a0b598ed42194260                              None   \n",
       "dbfd0061ef91d9267174288ad3044cca                              None   \n",
       "\n",
       "                                 track_remake_type  \\\n",
       "track_id                                             \n",
       "89803636c59346850bfb6de14370b303          ORIGINAL   \n",
       "224cb225a2e612f5489b24992a20cbf3             COVER   \n",
       "12f22354aa53f7a47bac64322f8a8779             COVER   \n",
       "0f61b0f76abab917e60b82b7fb58c6d6             COVER   \n",
       "c996348ac49e0c243a4eb4cb0a9cfbbb             COVER   \n",
       "...                                            ...   \n",
       "5cb4a290db5564e663072da94d23ad17             COVER   \n",
       "73c65bc6ae2e2f09a02317c7bd25654d             COVER   \n",
       "19525276e1be80fd62e804864bcfe3cc             COVER   \n",
       "304eb9d73bd89118a0b598ed42194260             COVER   \n",
       "dbfd0061ef91d9267174288ad3044cca             COVER   \n",
       "\n",
       "                                                          lyric_id  \\\n",
       "track_id                                                             \n",
       "89803636c59346850bfb6de14370b303  fed4f1741f5feebb79dd250921dcd02f   \n",
       "224cb225a2e612f5489b24992a20cbf3                               NaN   \n",
       "12f22354aa53f7a47bac64322f8a8779                               NaN   \n",
       "0f61b0f76abab917e60b82b7fb58c6d6                               NaN   \n",
       "c996348ac49e0c243a4eb4cb0a9cfbbb                               NaN   \n",
       "...                                                            ...   \n",
       "5cb4a290db5564e663072da94d23ad17                               NaN   \n",
       "73c65bc6ae2e2f09a02317c7bd25654d                               NaN   \n",
       "19525276e1be80fd62e804864bcfe3cc                               NaN   \n",
       "304eb9d73bd89118a0b598ed42194260                               NaN   \n",
       "dbfd0061ef91d9267174288ad3044cca                               NaN   \n",
       "\n",
       "                                                                               text  \\\n",
       "track_id                                                                              \n",
       "89803636c59346850bfb6de14370b303  Нам что покрепче, нас лечат бесконечные встреч...   \n",
       "224cb225a2e612f5489b24992a20cbf3                                                      \n",
       "12f22354aa53f7a47bac64322f8a8779                                                      \n",
       "0f61b0f76abab917e60b82b7fb58c6d6                                                      \n",
       "c996348ac49e0c243a4eb4cb0a9cfbbb                                                      \n",
       "...                                                                             ...   \n",
       "5cb4a290db5564e663072da94d23ad17                                                      \n",
       "73c65bc6ae2e2f09a02317c7bd25654d                                                      \n",
       "19525276e1be80fd62e804864bcfe3cc                                                      \n",
       "304eb9d73bd89118a0b598ed42194260                                                      \n",
       "dbfd0061ef91d9267174288ad3044cca                                                      \n",
       "\n",
       "                                                dttm                   title  \\\n",
       "track_id                                                                       \n",
       "89803636c59346850bfb6de14370b303 2022-06-23 21:00:00                 Счастье   \n",
       "224cb225a2e612f5489b24992a20cbf3 2021-03-23 05:15:10            Hackearam-Me   \n",
       "12f22354aa53f7a47bac64322f8a8779 2020-06-28 18:38:26  Daredevil - Main Theme   \n",
       "0f61b0f76abab917e60b82b7fb58c6d6 2022-01-24 18:14:02       Praia da Biquinha   \n",
       "c996348ac49e0c243a4eb4cb0a9cfbbb 2021-11-24 16:57:06    Boa Noite Vizinhança   \n",
       "...                                              ...                     ...   \n",
       "5cb4a290db5564e663072da94d23ad17 2022-06-11 02:07:56    El Gato de Chihuahua   \n",
       "73c65bc6ae2e2f09a02317c7bd25654d 2015-08-29 21:32:06           Infinity 2008   \n",
       "19525276e1be80fd62e804864bcfe3cc 2012-12-05 04:31:57           Higher Window   \n",
       "304eb9d73bd89118a0b598ed42194260 2022-03-22 12:35:45        So Quero um Xodo   \n",
       "dbfd0061ef91d9267174288ad3044cca 2019-05-17 21:46:20                 Te Bote   \n",
       "\n",
       "                                 language          isrc     genres  duration  \\\n",
       "track_id                                                                       \n",
       "89803636c59346850bfb6de14370b303       RU  RUA1D2249299     RUSPOP  140990.0   \n",
       "224cb225a2e612f5489b24992a20cbf3       SV  QZGLS2109075       FOLK  192310.0   \n",
       "12f22354aa53f7a47bac64322f8a8779       EN  CB2CY0950928      FILMS   64730.0   \n",
       "0f61b0f76abab917e60b82b7fb58c6d6       PT  QZ5AB2210145  LATINFOLK  138190.0   \n",
       "c996348ac49e0c243a4eb4cb0a9cfbbb       PT  QZNJZ2178383        POP  297330.0   \n",
       "...                                   ...           ...        ...       ...   \n",
       "5cb4a290db5564e663072da94d23ad17       ES  QZMZ92273536  LATINFOLK  190950.0   \n",
       "73c65bc6ae2e2f09a02317c7bd25654d       EN  UK7771413708        POP  199680.0   \n",
       "19525276e1be80fd62e804864bcfe3cc       EN  USA2P1217404       BARD  236950.0   \n",
       "304eb9d73bd89118a0b598ed42194260       PT  QZHZ32244172       FOLK  160700.0   \n",
       "dbfd0061ef91d9267174288ad3044cca       EN  FR2X41979072  LATINFOLK  189380.0   \n",
       "\n",
       "                                  ...    PCA_20    PCA_21    PCA_22    PCA_23  \\\n",
       "track_id                          ...                                           \n",
       "89803636c59346850bfb6de14370b303  ...  0.098017 -0.069664  0.048106  0.037887   \n",
       "224cb225a2e612f5489b24992a20cbf3  ... -0.000431 -0.000121 -0.000004  0.000150   \n",
       "12f22354aa53f7a47bac64322f8a8779  ... -0.000431 -0.000121 -0.000004  0.000150   \n",
       "0f61b0f76abab917e60b82b7fb58c6d6  ... -0.000431 -0.000121 -0.000004  0.000150   \n",
       "c996348ac49e0c243a4eb4cb0a9cfbbb  ... -0.000431 -0.000121 -0.000004  0.000150   \n",
       "...                               ...       ...       ...       ...       ...   \n",
       "5cb4a290db5564e663072da94d23ad17  ... -0.000431 -0.000121 -0.000004  0.000150   \n",
       "73c65bc6ae2e2f09a02317c7bd25654d  ... -0.000431 -0.000121 -0.000004  0.000150   \n",
       "19525276e1be80fd62e804864bcfe3cc  ... -0.000431 -0.000121 -0.000004  0.000150   \n",
       "304eb9d73bd89118a0b598ed42194260  ... -0.000431 -0.000121 -0.000004  0.000150   \n",
       "dbfd0061ef91d9267174288ad3044cca  ... -0.000431 -0.000121 -0.000004  0.000150   \n",
       "\n",
       "                                    PCA_24    PCA_25    PCA_26    PCA_27  \\\n",
       "track_id                                                                   \n",
       "89803636c59346850bfb6de14370b303 -0.012761  0.035715  0.029012  0.036190   \n",
       "224cb225a2e612f5489b24992a20cbf3 -0.000425 -0.000342 -0.000085 -0.000118   \n",
       "12f22354aa53f7a47bac64322f8a8779 -0.000425 -0.000342 -0.000085 -0.000118   \n",
       "0f61b0f76abab917e60b82b7fb58c6d6 -0.000425 -0.000342 -0.000085 -0.000118   \n",
       "c996348ac49e0c243a4eb4cb0a9cfbbb -0.000425 -0.000342 -0.000085 -0.000118   \n",
       "...                                    ...       ...       ...       ...   \n",
       "5cb4a290db5564e663072da94d23ad17 -0.000425 -0.000342 -0.000085 -0.000118   \n",
       "73c65bc6ae2e2f09a02317c7bd25654d -0.000425 -0.000342 -0.000085 -0.000118   \n",
       "19525276e1be80fd62e804864bcfe3cc -0.000425 -0.000342 -0.000085 -0.000118   \n",
       "304eb9d73bd89118a0b598ed42194260 -0.000425 -0.000342 -0.000085 -0.000118   \n",
       "dbfd0061ef91d9267174288ad3044cca -0.000425 -0.000342 -0.000085 -0.000118   \n",
       "\n",
       "                                    PCA_28    PCA_29  \n",
       "track_id                                              \n",
       "89803636c59346850bfb6de14370b303 -0.072929  0.249378  \n",
       "224cb225a2e612f5489b24992a20cbf3 -0.000459 -0.000199  \n",
       "12f22354aa53f7a47bac64322f8a8779 -0.000459 -0.000199  \n",
       "0f61b0f76abab917e60b82b7fb58c6d6 -0.000459 -0.000199  \n",
       "c996348ac49e0c243a4eb4cb0a9cfbbb -0.000459 -0.000199  \n",
       "...                                    ...       ...  \n",
       "5cb4a290db5564e663072da94d23ad17 -0.000459 -0.000199  \n",
       "73c65bc6ae2e2f09a02317c7bd25654d -0.000459 -0.000199  \n",
       "19525276e1be80fd62e804864bcfe3cc -0.000459 -0.000199  \n",
       "304eb9d73bd89118a0b598ed42194260 -0.000459 -0.000199  \n",
       "dbfd0061ef91d9267174288ad3044cca -0.000459 -0.000199  \n",
       "\n",
       "[26602 rows x 40 columns]"
      ]
     },
     "execution_count": 61,
     "metadata": {},
     "output_type": "execute_result"
    }
   ],
   "source": [
    "df_test"
   ]
  },
  {
   "cell_type": "code",
   "execution_count": 63,
   "metadata": {
    "colab": {
     "base_uri": "https://localhost:8080/"
    },
    "id": "4F5_RRykTi4k",
    "outputId": "135e9c39-dfc5-4392-9c4e-ac246bc9436d"
   },
   "outputs": [
    {
     "data": {
      "text/plain": [
       "track_id                 0\n",
       "original_track_id    74283\n",
       "track_remake_type        0\n",
       "lyric_id             68090\n",
       "text                     0\n",
       "dttm                     0\n",
       "title                    0\n",
       "language                 0\n",
       "isrc                     0\n",
       "genres                1743\n",
       "duration                 0\n",
       "PCA_0                    0\n",
       "PCA_1                    0\n",
       "PCA_2                    0\n",
       "PCA_3                    0\n",
       "PCA_4                    0\n",
       "PCA_5                    0\n",
       "PCA_6                    0\n",
       "PCA_7                    0\n",
       "PCA_8                    0\n",
       "PCA_9                    0\n",
       "PCA_10                   0\n",
       "PCA_11                   0\n",
       "PCA_12                   0\n",
       "PCA_13                   0\n",
       "PCA_14                   0\n",
       "PCA_15                   0\n",
       "PCA_16                   0\n",
       "PCA_17                   0\n",
       "PCA_18                   0\n",
       "PCA_19                   0\n",
       "PCA_20                   0\n",
       "PCA_21                   0\n",
       "PCA_22                   0\n",
       "PCA_23                   0\n",
       "PCA_24                   0\n",
       "PCA_25                   0\n",
       "PCA_26                   0\n",
       "PCA_27                   0\n",
       "PCA_28                   0\n",
       "PCA_29                   0\n",
       "dtype: int64"
      ]
     },
     "execution_count": 63,
     "metadata": {},
     "output_type": "execute_result"
    }
   ],
   "source": [
    "df_train.isna().sum()"
   ]
  },
  {
   "cell_type": "code",
   "execution_count": 64,
   "metadata": {},
   "outputs": [
    {
     "data": {
      "text/plain": [
       "track_id                 0\n",
       "original_track_id    24783\n",
       "track_remake_type        0\n",
       "lyric_id             22760\n",
       "text                     0\n",
       "dttm                     0\n",
       "title                    0\n",
       "language                 0\n",
       "isrc                     0\n",
       "genres                 572\n",
       "duration                 0\n",
       "PCA_0                    0\n",
       "PCA_1                    0\n",
       "PCA_2                    0\n",
       "PCA_3                    0\n",
       "PCA_4                    0\n",
       "PCA_5                    0\n",
       "PCA_6                    0\n",
       "PCA_7                    0\n",
       "PCA_8                    0\n",
       "PCA_9                    0\n",
       "PCA_10                   0\n",
       "PCA_11                   0\n",
       "PCA_12                   0\n",
       "PCA_13                   0\n",
       "PCA_14                   0\n",
       "PCA_15                   0\n",
       "PCA_16                   0\n",
       "PCA_17                   0\n",
       "PCA_18                   0\n",
       "PCA_19                   0\n",
       "PCA_20                   0\n",
       "PCA_21                   0\n",
       "PCA_22                   0\n",
       "PCA_23                   0\n",
       "PCA_24                   0\n",
       "PCA_25                   0\n",
       "PCA_26                   0\n",
       "PCA_27                   0\n",
       "PCA_28                   0\n",
       "PCA_29                   0\n",
       "dtype: int64"
      ]
     },
     "execution_count": 64,
     "metadata": {},
     "output_type": "execute_result"
    }
   ],
   "source": [
    "df_test.isna().sum()"
   ]
  },
  {
   "cell_type": "markdown",
   "metadata": {
    "id": "T-_QMicFlACC"
   },
   "source": [
    "Удаляем лишние признаки"
   ]
  },
  {
   "cell_type": "code",
   "execution_count": 65,
   "metadata": {
    "id": "K5tty0s_SWkR"
   },
   "outputs": [],
   "source": [
    "df_train = df_train.drop(['original_track_id', 'lyric_id', 'isrc'], axis=1)\n",
    "df_test = df_test.drop(['original_track_id', 'lyric_id', 'isrc'], axis=1)"
   ]
  },
  {
   "cell_type": "markdown",
   "metadata": {
    "id": "tE_QlGxmlACC"
   },
   "source": [
    "Создадим новый признак на основе даты (количество дней с момента релиза)"
   ]
  },
  {
   "cell_type": "code",
   "execution_count": 66,
   "metadata": {
    "id": "PC30HrX5VWW7"
   },
   "outputs": [],
   "source": [
    "today = pd.to_datetime('2023-10-31')\n",
    "df_train['days_since_release'] = (today - df_train['dttm']).dt.days\n",
    "df_test['days_since_release'] = (today - df_test['dttm']).dt.days"
   ]
  },
  {
   "cell_type": "markdown",
   "metadata": {
    "id": "OOwzf3yOlACD"
   },
   "source": [
    "Создадим новый признак на основе названия (количество символов в названии)"
   ]
  },
  {
   "cell_type": "code",
   "execution_count": 67,
   "metadata": {
    "id": "ktFkTngIdpTf"
   },
   "outputs": [],
   "source": [
    "df_train['title'] = df_train['title'].str.len()\n",
    "df_test['title'] = df_test['title'].str.len()"
   ]
  },
  {
   "cell_type": "markdown",
   "metadata": {
    "id": "zhFvYwy2lACD"
   },
   "source": [
    "Создадим новый признак на основе текста (количество слов в тексте)"
   ]
  },
  {
   "cell_type": "code",
   "execution_count": 68,
   "metadata": {
    "id": "5G_eErKgd63h"
   },
   "outputs": [],
   "source": [
    "df_train['text'] = df_train['text'].str.split().str.len()\n",
    "df_test['text'] = df_test['text'].str.split().str.len()"
   ]
  },
  {
   "cell_type": "code",
   "execution_count": 69,
   "metadata": {
    "id": "6JEyNTccbHyA"
   },
   "outputs": [],
   "source": [
    "df_train = df_train.drop(['dttm'], axis=1)\n",
    "df_test = df_test.drop(['dttm'], axis=1)"
   ]
  },
  {
   "cell_type": "code",
   "execution_count": 70,
   "metadata": {
    "colab": {
     "base_uri": "https://localhost:8080/"
    },
    "id": "I0kH2zcOZLiZ",
    "outputId": "14b873b4-bc7e-485a-9a72-53b159be6905"
   },
   "outputs": [
    {
     "name": "stdout",
     "output_type": "stream",
     "text": [
      "<class 'pandas.core.frame.DataFrame'>\n",
      "RangeIndex: 79805 entries, 0 to 79804\n",
      "Data columns (total 38 columns):\n",
      " #   Column              Non-Null Count  Dtype  \n",
      "---  ------              --------------  -----  \n",
      " 0   track_id            79805 non-null  object \n",
      " 1   track_remake_type   79805 non-null  object \n",
      " 2   text                79805 non-null  int64  \n",
      " 3   title               79805 non-null  int64  \n",
      " 4   language            79805 non-null  object \n",
      " 5   genres              78062 non-null  object \n",
      " 6   duration            79805 non-null  float64\n",
      " 7   PCA_0               79805 non-null  float64\n",
      " 8   PCA_1               79805 non-null  float64\n",
      " 9   PCA_2               79805 non-null  float64\n",
      " 10  PCA_3               79805 non-null  float64\n",
      " 11  PCA_4               79805 non-null  float64\n",
      " 12  PCA_5               79805 non-null  float64\n",
      " 13  PCA_6               79805 non-null  float64\n",
      " 14  PCA_7               79805 non-null  float64\n",
      " 15  PCA_8               79805 non-null  float64\n",
      " 16  PCA_9               79805 non-null  float64\n",
      " 17  PCA_10              79805 non-null  float64\n",
      " 18  PCA_11              79805 non-null  float64\n",
      " 19  PCA_12              79805 non-null  float64\n",
      " 20  PCA_13              79805 non-null  float64\n",
      " 21  PCA_14              79805 non-null  float64\n",
      " 22  PCA_15              79805 non-null  float64\n",
      " 23  PCA_16              79805 non-null  float64\n",
      " 24  PCA_17              79805 non-null  float64\n",
      " 25  PCA_18              79805 non-null  float64\n",
      " 26  PCA_19              79805 non-null  float64\n",
      " 27  PCA_20              79805 non-null  float64\n",
      " 28  PCA_21              79805 non-null  float64\n",
      " 29  PCA_22              79805 non-null  float64\n",
      " 30  PCA_23              79805 non-null  float64\n",
      " 31  PCA_24              79805 non-null  float64\n",
      " 32  PCA_25              79805 non-null  float64\n",
      " 33  PCA_26              79805 non-null  float64\n",
      " 34  PCA_27              79805 non-null  float64\n",
      " 35  PCA_28              79805 non-null  float64\n",
      " 36  PCA_29              79805 non-null  float64\n",
      " 37  days_since_release  79805 non-null  int64  \n",
      "dtypes: float64(31), int64(3), object(4)\n",
      "memory usage: 23.1+ MB\n",
      "<class 'pandas.core.frame.DataFrame'>\n",
      "RangeIndex: 26602 entries, 0 to 26601\n",
      "Data columns (total 38 columns):\n",
      " #   Column              Non-Null Count  Dtype  \n",
      "---  ------              --------------  -----  \n",
      " 0   track_id            26602 non-null  object \n",
      " 1   track_remake_type   26602 non-null  object \n",
      " 2   text                26602 non-null  int64  \n",
      " 3   title               26602 non-null  int64  \n",
      " 4   language            26602 non-null  object \n",
      " 5   genres              26030 non-null  object \n",
      " 6   duration            26602 non-null  float64\n",
      " 7   PCA_0               26602 non-null  float64\n",
      " 8   PCA_1               26602 non-null  float64\n",
      " 9   PCA_2               26602 non-null  float64\n",
      " 10  PCA_3               26602 non-null  float64\n",
      " 11  PCA_4               26602 non-null  float64\n",
      " 12  PCA_5               26602 non-null  float64\n",
      " 13  PCA_6               26602 non-null  float64\n",
      " 14  PCA_7               26602 non-null  float64\n",
      " 15  PCA_8               26602 non-null  float64\n",
      " 16  PCA_9               26602 non-null  float64\n",
      " 17  PCA_10              26602 non-null  float64\n",
      " 18  PCA_11              26602 non-null  float64\n",
      " 19  PCA_12              26602 non-null  float64\n",
      " 20  PCA_13              26602 non-null  float64\n",
      " 21  PCA_14              26602 non-null  float64\n",
      " 22  PCA_15              26602 non-null  float64\n",
      " 23  PCA_16              26602 non-null  float64\n",
      " 24  PCA_17              26602 non-null  float64\n",
      " 25  PCA_18              26602 non-null  float64\n",
      " 26  PCA_19              26602 non-null  float64\n",
      " 27  PCA_20              26602 non-null  float64\n",
      " 28  PCA_21              26602 non-null  float64\n",
      " 29  PCA_22              26602 non-null  float64\n",
      " 30  PCA_23              26602 non-null  float64\n",
      " 31  PCA_24              26602 non-null  float64\n",
      " 32  PCA_25              26602 non-null  float64\n",
      " 33  PCA_26              26602 non-null  float64\n",
      " 34  PCA_27              26602 non-null  float64\n",
      " 35  PCA_28              26602 non-null  float64\n",
      " 36  PCA_29              26602 non-null  float64\n",
      " 37  days_since_release  26602 non-null  int64  \n",
      "dtypes: float64(31), int64(3), object(4)\n",
      "memory usage: 7.7+ MB\n"
     ]
    }
   ],
   "source": [
    "df_train.info()\n",
    "df_test.info()"
   ]
  },
  {
   "cell_type": "code",
   "execution_count": 71,
   "metadata": {
    "colab": {
     "base_uri": "https://localhost:8080/",
     "height": 255
    },
    "id": "U5WQ8pP3nUju",
    "outputId": "ba349171-e28d-4ccb-a242-4c4751a2240a"
   },
   "outputs": [
    {
     "data": {
      "text/html": [
       "<div>\n",
       "<style scoped>\n",
       "    .dataframe tbody tr th:only-of-type {\n",
       "        vertical-align: middle;\n",
       "    }\n",
       "\n",
       "    .dataframe tbody tr th {\n",
       "        vertical-align: top;\n",
       "    }\n",
       "\n",
       "    .dataframe thead th {\n",
       "        text-align: right;\n",
       "    }\n",
       "</style>\n",
       "<table border=\"1\" class=\"dataframe\">\n",
       "  <thead>\n",
       "    <tr style=\"text-align: right;\">\n",
       "      <th></th>\n",
       "      <th>track_id</th>\n",
       "      <th>track_remake_type</th>\n",
       "      <th>text</th>\n",
       "      <th>title</th>\n",
       "      <th>language</th>\n",
       "      <th>genres</th>\n",
       "      <th>duration</th>\n",
       "      <th>PCA_0</th>\n",
       "      <th>PCA_1</th>\n",
       "      <th>PCA_2</th>\n",
       "      <th>...</th>\n",
       "      <th>PCA_21</th>\n",
       "      <th>PCA_22</th>\n",
       "      <th>PCA_23</th>\n",
       "      <th>PCA_24</th>\n",
       "      <th>PCA_25</th>\n",
       "      <th>PCA_26</th>\n",
       "      <th>PCA_27</th>\n",
       "      <th>PCA_28</th>\n",
       "      <th>PCA_29</th>\n",
       "      <th>days_since_release</th>\n",
       "    </tr>\n",
       "  </thead>\n",
       "  <tbody>\n",
       "    <tr>\n",
       "      <th>0</th>\n",
       "      <td>458ce539d6ab93504964dfde4b9368dd</td>\n",
       "      <td>COVER</td>\n",
       "      <td>157</td>\n",
       "      <td>14</td>\n",
       "      <td>IT</td>\n",
       "      <td>SPIRITUAL</td>\n",
       "      <td>132590.0</td>\n",
       "      <td>-0.016487</td>\n",
       "      <td>-0.070519</td>\n",
       "      <td>0.747060</td>\n",
       "      <td>...</td>\n",
       "      <td>0.101109</td>\n",
       "      <td>-0.018017</td>\n",
       "      <td>0.017332</td>\n",
       "      <td>0.020766</td>\n",
       "      <td>0.010944</td>\n",
       "      <td>-0.118673</td>\n",
       "      <td>0.024424</td>\n",
       "      <td>0.008445</td>\n",
       "      <td>0.020194</td>\n",
       "      <td>1058</td>\n",
       "    </tr>\n",
       "    <tr>\n",
       "      <th>1</th>\n",
       "      <td>a374d6de89e64007a1540d4f894a22a4</td>\n",
       "      <td>COVER</td>\n",
       "      <td>0</td>\n",
       "      <td>11</td>\n",
       "      <td>EN</td>\n",
       "      <td>ROCK</td>\n",
       "      <td>239200.0</td>\n",
       "      <td>-0.044436</td>\n",
       "      <td>-0.024889</td>\n",
       "      <td>-0.015285</td>\n",
       "      <td>...</td>\n",
       "      <td>-0.000394</td>\n",
       "      <td>-0.000048</td>\n",
       "      <td>0.000101</td>\n",
       "      <td>0.000307</td>\n",
       "      <td>0.000150</td>\n",
       "      <td>-0.000701</td>\n",
       "      <td>0.000094</td>\n",
       "      <td>0.000337</td>\n",
       "      <td>-0.000018</td>\n",
       "      <td>802</td>\n",
       "    </tr>\n",
       "    <tr>\n",
       "      <th>2</th>\n",
       "      <td>15ae2f556bfacc3afaf77e6cf0eedb47</td>\n",
       "      <td>COVER</td>\n",
       "      <td>0</td>\n",
       "      <td>14</td>\n",
       "      <td>EN</td>\n",
       "      <td>ROCK</td>\n",
       "      <td>170000.0</td>\n",
       "      <td>-0.044436</td>\n",
       "      <td>-0.024889</td>\n",
       "      <td>-0.015285</td>\n",
       "      <td>...</td>\n",
       "      <td>-0.000394</td>\n",
       "      <td>-0.000048</td>\n",
       "      <td>0.000101</td>\n",
       "      <td>0.000307</td>\n",
       "      <td>0.000150</td>\n",
       "      <td>-0.000701</td>\n",
       "      <td>0.000094</td>\n",
       "      <td>0.000337</td>\n",
       "      <td>-0.000018</td>\n",
       "      <td>4261</td>\n",
       "    </tr>\n",
       "    <tr>\n",
       "      <th>3</th>\n",
       "      <td>c8ae5081580a4ca4699457ec0ceece28</td>\n",
       "      <td>COVER</td>\n",
       "      <td>0</td>\n",
       "      <td>3</td>\n",
       "      <td>ES</td>\n",
       "      <td>LATINFOLK</td>\n",
       "      <td>237020.0</td>\n",
       "      <td>-0.044436</td>\n",
       "      <td>-0.024889</td>\n",
       "      <td>-0.015285</td>\n",
       "      <td>...</td>\n",
       "      <td>-0.000394</td>\n",
       "      <td>-0.000048</td>\n",
       "      <td>0.000101</td>\n",
       "      <td>0.000307</td>\n",
       "      <td>0.000150</td>\n",
       "      <td>-0.000701</td>\n",
       "      <td>0.000094</td>\n",
       "      <td>0.000337</td>\n",
       "      <td>-0.000018</td>\n",
       "      <td>944</td>\n",
       "    </tr>\n",
       "    <tr>\n",
       "      <th>4</th>\n",
       "      <td>df375b046a3596832c71247ddfa6bc2a</td>\n",
       "      <td>COVER</td>\n",
       "      <td>0</td>\n",
       "      <td>16</td>\n",
       "      <td>EN</td>\n",
       "      <td>FOREIGNRAP</td>\n",
       "      <td>298540.0</td>\n",
       "      <td>-0.044436</td>\n",
       "      <td>-0.024889</td>\n",
       "      <td>-0.015285</td>\n",
       "      <td>...</td>\n",
       "      <td>-0.000394</td>\n",
       "      <td>-0.000048</td>\n",
       "      <td>0.000101</td>\n",
       "      <td>0.000307</td>\n",
       "      <td>0.000150</td>\n",
       "      <td>-0.000701</td>\n",
       "      <td>0.000094</td>\n",
       "      <td>0.000337</td>\n",
       "      <td>-0.000018</td>\n",
       "      <td>3428</td>\n",
       "    </tr>\n",
       "  </tbody>\n",
       "</table>\n",
       "<p>5 rows × 38 columns</p>\n",
       "</div>"
      ],
      "text/plain": [
       "                           track_id track_remake_type  text  title language  \\\n",
       "0  458ce539d6ab93504964dfde4b9368dd             COVER   157     14       IT   \n",
       "1  a374d6de89e64007a1540d4f894a22a4             COVER     0     11       EN   \n",
       "2  15ae2f556bfacc3afaf77e6cf0eedb47             COVER     0     14       EN   \n",
       "3  c8ae5081580a4ca4699457ec0ceece28             COVER     0      3       ES   \n",
       "4  df375b046a3596832c71247ddfa6bc2a             COVER     0     16       EN   \n",
       "\n",
       "       genres  duration     PCA_0     PCA_1     PCA_2  ...    PCA_21  \\\n",
       "0   SPIRITUAL  132590.0 -0.016487 -0.070519  0.747060  ...  0.101109   \n",
       "1        ROCK  239200.0 -0.044436 -0.024889 -0.015285  ... -0.000394   \n",
       "2        ROCK  170000.0 -0.044436 -0.024889 -0.015285  ... -0.000394   \n",
       "3   LATINFOLK  237020.0 -0.044436 -0.024889 -0.015285  ... -0.000394   \n",
       "4  FOREIGNRAP  298540.0 -0.044436 -0.024889 -0.015285  ... -0.000394   \n",
       "\n",
       "     PCA_22    PCA_23    PCA_24    PCA_25    PCA_26    PCA_27    PCA_28  \\\n",
       "0 -0.018017  0.017332  0.020766  0.010944 -0.118673  0.024424  0.008445   \n",
       "1 -0.000048  0.000101  0.000307  0.000150 -0.000701  0.000094  0.000337   \n",
       "2 -0.000048  0.000101  0.000307  0.000150 -0.000701  0.000094  0.000337   \n",
       "3 -0.000048  0.000101  0.000307  0.000150 -0.000701  0.000094  0.000337   \n",
       "4 -0.000048  0.000101  0.000307  0.000150 -0.000701  0.000094  0.000337   \n",
       "\n",
       "     PCA_29  days_since_release  \n",
       "0  0.020194                1058  \n",
       "1 -0.000018                 802  \n",
       "2 -0.000018                4261  \n",
       "3 -0.000018                 944  \n",
       "4 -0.000018                3428  \n",
       "\n",
       "[5 rows x 38 columns]"
      ]
     },
     "execution_count": 71,
     "metadata": {},
     "output_type": "execute_result"
    }
   ],
   "source": [
    "df_train.head()"
   ]
  },
  {
   "cell_type": "code",
   "execution_count": 72,
   "metadata": {},
   "outputs": [
    {
     "data": {
      "text/html": [
       "<div>\n",
       "<style scoped>\n",
       "    .dataframe tbody tr th:only-of-type {\n",
       "        vertical-align: middle;\n",
       "    }\n",
       "\n",
       "    .dataframe tbody tr th {\n",
       "        vertical-align: top;\n",
       "    }\n",
       "\n",
       "    .dataframe thead th {\n",
       "        text-align: right;\n",
       "    }\n",
       "</style>\n",
       "<table border=\"1\" class=\"dataframe\">\n",
       "  <thead>\n",
       "    <tr style=\"text-align: right;\">\n",
       "      <th></th>\n",
       "      <th>track_id</th>\n",
       "      <th>track_remake_type</th>\n",
       "      <th>text</th>\n",
       "      <th>title</th>\n",
       "      <th>language</th>\n",
       "      <th>genres</th>\n",
       "      <th>duration</th>\n",
       "      <th>PCA_0</th>\n",
       "      <th>PCA_1</th>\n",
       "      <th>PCA_2</th>\n",
       "      <th>...</th>\n",
       "      <th>PCA_21</th>\n",
       "      <th>PCA_22</th>\n",
       "      <th>PCA_23</th>\n",
       "      <th>PCA_24</th>\n",
       "      <th>PCA_25</th>\n",
       "      <th>PCA_26</th>\n",
       "      <th>PCA_27</th>\n",
       "      <th>PCA_28</th>\n",
       "      <th>PCA_29</th>\n",
       "      <th>days_since_release</th>\n",
       "    </tr>\n",
       "  </thead>\n",
       "  <tbody>\n",
       "    <tr>\n",
       "      <th>0</th>\n",
       "      <td>89803636c59346850bfb6de14370b303</td>\n",
       "      <td>ORIGINAL</td>\n",
       "      <td>211</td>\n",
       "      <td>7</td>\n",
       "      <td>RU</td>\n",
       "      <td>RUSPOP</td>\n",
       "      <td>140990.0</td>\n",
       "      <td>-0.103916</td>\n",
       "      <td>0.73571</td>\n",
       "      <td>0.029124</td>\n",
       "      <td>...</td>\n",
       "      <td>-0.069664</td>\n",
       "      <td>0.048106</td>\n",
       "      <td>0.037887</td>\n",
       "      <td>-0.012761</td>\n",
       "      <td>0.035715</td>\n",
       "      <td>0.029012</td>\n",
       "      <td>0.036190</td>\n",
       "      <td>-0.072929</td>\n",
       "      <td>0.249378</td>\n",
       "      <td>494</td>\n",
       "    </tr>\n",
       "    <tr>\n",
       "      <th>1</th>\n",
       "      <td>224cb225a2e612f5489b24992a20cbf3</td>\n",
       "      <td>COVER</td>\n",
       "      <td>0</td>\n",
       "      <td>12</td>\n",
       "      <td>SV</td>\n",
       "      <td>FOLK</td>\n",
       "      <td>192310.0</td>\n",
       "      <td>-0.043729</td>\n",
       "      <td>-0.02442</td>\n",
       "      <td>-0.014640</td>\n",
       "      <td>...</td>\n",
       "      <td>-0.000121</td>\n",
       "      <td>-0.000004</td>\n",
       "      <td>0.000150</td>\n",
       "      <td>-0.000425</td>\n",
       "      <td>-0.000342</td>\n",
       "      <td>-0.000085</td>\n",
       "      <td>-0.000118</td>\n",
       "      <td>-0.000459</td>\n",
       "      <td>-0.000199</td>\n",
       "      <td>951</td>\n",
       "    </tr>\n",
       "    <tr>\n",
       "      <th>2</th>\n",
       "      <td>12f22354aa53f7a47bac64322f8a8779</td>\n",
       "      <td>COVER</td>\n",
       "      <td>0</td>\n",
       "      <td>22</td>\n",
       "      <td>EN</td>\n",
       "      <td>FILMS</td>\n",
       "      <td>64730.0</td>\n",
       "      <td>-0.043729</td>\n",
       "      <td>-0.02442</td>\n",
       "      <td>-0.014640</td>\n",
       "      <td>...</td>\n",
       "      <td>-0.000121</td>\n",
       "      <td>-0.000004</td>\n",
       "      <td>0.000150</td>\n",
       "      <td>-0.000425</td>\n",
       "      <td>-0.000342</td>\n",
       "      <td>-0.000085</td>\n",
       "      <td>-0.000118</td>\n",
       "      <td>-0.000459</td>\n",
       "      <td>-0.000199</td>\n",
       "      <td>1219</td>\n",
       "    </tr>\n",
       "    <tr>\n",
       "      <th>3</th>\n",
       "      <td>0f61b0f76abab917e60b82b7fb58c6d6</td>\n",
       "      <td>COVER</td>\n",
       "      <td>0</td>\n",
       "      <td>17</td>\n",
       "      <td>PT</td>\n",
       "      <td>LATINFOLK</td>\n",
       "      <td>138190.0</td>\n",
       "      <td>-0.043729</td>\n",
       "      <td>-0.02442</td>\n",
       "      <td>-0.014640</td>\n",
       "      <td>...</td>\n",
       "      <td>-0.000121</td>\n",
       "      <td>-0.000004</td>\n",
       "      <td>0.000150</td>\n",
       "      <td>-0.000425</td>\n",
       "      <td>-0.000342</td>\n",
       "      <td>-0.000085</td>\n",
       "      <td>-0.000118</td>\n",
       "      <td>-0.000459</td>\n",
       "      <td>-0.000199</td>\n",
       "      <td>644</td>\n",
       "    </tr>\n",
       "    <tr>\n",
       "      <th>4</th>\n",
       "      <td>c996348ac49e0c243a4eb4cb0a9cfbbb</td>\n",
       "      <td>COVER</td>\n",
       "      <td>0</td>\n",
       "      <td>20</td>\n",
       "      <td>PT</td>\n",
       "      <td>POP</td>\n",
       "      <td>297330.0</td>\n",
       "      <td>-0.043729</td>\n",
       "      <td>-0.02442</td>\n",
       "      <td>-0.014640</td>\n",
       "      <td>...</td>\n",
       "      <td>-0.000121</td>\n",
       "      <td>-0.000004</td>\n",
       "      <td>0.000150</td>\n",
       "      <td>-0.000425</td>\n",
       "      <td>-0.000342</td>\n",
       "      <td>-0.000085</td>\n",
       "      <td>-0.000118</td>\n",
       "      <td>-0.000459</td>\n",
       "      <td>-0.000199</td>\n",
       "      <td>705</td>\n",
       "    </tr>\n",
       "  </tbody>\n",
       "</table>\n",
       "<p>5 rows × 38 columns</p>\n",
       "</div>"
      ],
      "text/plain": [
       "                           track_id track_remake_type  text  title language  \\\n",
       "0  89803636c59346850bfb6de14370b303          ORIGINAL   211      7       RU   \n",
       "1  224cb225a2e612f5489b24992a20cbf3             COVER     0     12       SV   \n",
       "2  12f22354aa53f7a47bac64322f8a8779             COVER     0     22       EN   \n",
       "3  0f61b0f76abab917e60b82b7fb58c6d6             COVER     0     17       PT   \n",
       "4  c996348ac49e0c243a4eb4cb0a9cfbbb             COVER     0     20       PT   \n",
       "\n",
       "      genres  duration     PCA_0    PCA_1     PCA_2  ...    PCA_21    PCA_22  \\\n",
       "0     RUSPOP  140990.0 -0.103916  0.73571  0.029124  ... -0.069664  0.048106   \n",
       "1       FOLK  192310.0 -0.043729 -0.02442 -0.014640  ... -0.000121 -0.000004   \n",
       "2      FILMS   64730.0 -0.043729 -0.02442 -0.014640  ... -0.000121 -0.000004   \n",
       "3  LATINFOLK  138190.0 -0.043729 -0.02442 -0.014640  ... -0.000121 -0.000004   \n",
       "4        POP  297330.0 -0.043729 -0.02442 -0.014640  ... -0.000121 -0.000004   \n",
       "\n",
       "     PCA_23    PCA_24    PCA_25    PCA_26    PCA_27    PCA_28    PCA_29  \\\n",
       "0  0.037887 -0.012761  0.035715  0.029012  0.036190 -0.072929  0.249378   \n",
       "1  0.000150 -0.000425 -0.000342 -0.000085 -0.000118 -0.000459 -0.000199   \n",
       "2  0.000150 -0.000425 -0.000342 -0.000085 -0.000118 -0.000459 -0.000199   \n",
       "3  0.000150 -0.000425 -0.000342 -0.000085 -0.000118 -0.000459 -0.000199   \n",
       "4  0.000150 -0.000425 -0.000342 -0.000085 -0.000118 -0.000459 -0.000199   \n",
       "\n",
       "   days_since_release  \n",
       "0                 494  \n",
       "1                 951  \n",
       "2                1219  \n",
       "3                 644  \n",
       "4                 705  \n",
       "\n",
       "[5 rows x 38 columns]"
      ]
     },
     "execution_count": 72,
     "metadata": {},
     "output_type": "execute_result"
    }
   ],
   "source": [
    "df_test.head()"
   ]
  },
  {
   "cell_type": "markdown",
   "metadata": {
    "id": "BbL6kHOOlACF"
   },
   "source": [
    "Проведем разделение датафрейма на тестовую и обущающие выборки. Размер тестовой выборки возьмем 25%"
   ]
  },
  {
   "cell_type": "code",
   "execution_count": 73,
   "metadata": {
    "id": "2cHEWd4va7AK"
   },
   "outputs": [],
   "source": [
    "x_train = df_train.drop(['track_remake_type'], axis=1)\n",
    "y_train = df_train[['track_remake_type']]\n",
    "x_test = df_test.drop(['track_remake_type'], axis=1)\n",
    "y_test = df_test[['track_remake_type']]"
   ]
  },
  {
   "cell_type": "markdown",
   "metadata": {
    "id": "ihlFWa3QlACG"
   },
   "source": [
    "Заполним все пропуски заглушкой `Unknown`"
   ]
  },
  {
   "cell_type": "code",
   "execution_count": 74,
   "metadata": {
    "id": "6icYF01UY27Y"
   },
   "outputs": [],
   "source": [
    "x_train = x_train.fillna('Unknown')\n",
    "x_test = x_test.fillna('Unknown')"
   ]
  },
  {
   "cell_type": "markdown",
   "metadata": {
    "id": "reyYjsQ_lACG"
   },
   "source": [
    "Проведем кодирование категориальных признаков техникой `OrdinalEncoder`"
   ]
  },
  {
   "cell_type": "code",
   "execution_count": 75,
   "metadata": {
    "id": "ndb-8_bubY9L"
   },
   "outputs": [],
   "source": [
    "encoder = OrdinalEncoder(handle_unknown='use_encoded_value', unknown_value=-1)\n",
    "\n",
    "x_train_encoded = x_train.copy()\n",
    "x_test_encoded = x_test.copy()\n",
    "\n",
    "columns_to_encode = ['track_id' ,'language', 'genres']\n",
    "\n",
    "x = pd.DataFrame(encoder.fit_transform(x_train_encoded[columns_to_encode]),\n",
    "                               index=x_train_encoded.index, columns=columns_to_encode)\n",
    "\n",
    "y = pd.DataFrame(encoder.transform(x_test_encoded[columns_to_encode]),\n",
    "                              index=x_test_encoded.index, columns=columns_to_encode)"
   ]
  },
  {
   "cell_type": "code",
   "execution_count": 76,
   "metadata": {
    "id": "iI9RUIK4Y9X_"
   },
   "outputs": [],
   "source": [
    "x_train_encoded.drop(columns_to_encode, axis=1, inplace=True)\n",
    "x_test_encoded.drop(columns_to_encode, axis=1, inplace=True)"
   ]
  },
  {
   "cell_type": "code",
   "execution_count": 77,
   "metadata": {
    "id": "v0bDpvlGY-rk"
   },
   "outputs": [],
   "source": [
    "x_train_encoded = pd.merge(x_train_encoded, x, left_index=True, right_index=True)\n",
    "x_test_encoded = pd.merge(x_test_encoded, y, left_index=True, right_index=True)"
   ]
  },
  {
   "cell_type": "markdown",
   "metadata": {
    "id": "K0EgOkvtlACH"
   },
   "source": [
    "Целевой признак закодируем `LabelEncoder`"
   ]
  },
  {
   "cell_type": "code",
   "execution_count": 78,
   "metadata": {
    "colab": {
     "base_uri": "https://localhost:8080/"
    },
    "id": "ZeKBF0c4qyBY",
    "outputId": "e4a1b84b-a673-479e-baf5-922643cdf302"
   },
   "outputs": [
    {
     "name": "stderr",
     "output_type": "stream",
     "text": [
      "C:\\Users\\User\\AppData\\Local\\Temp\\ipykernel_16664\\1775667603.py:3: SettingWithCopyWarning: \n",
      "A value is trying to be set on a copy of a slice from a DataFrame.\n",
      "Try using .loc[row_indexer,col_indexer] = value instead\n",
      "\n",
      "See the caveats in the documentation: https://pandas.pydata.org/pandas-docs/stable/user_guide/indexing.html#returning-a-view-versus-a-copy\n",
      "  y_train['track_remake_type'] = label_encoder.fit_transform(y_train['track_remake_type'])\n",
      "C:\\Users\\User\\AppData\\Local\\Temp\\ipykernel_16664\\1775667603.py:4: SettingWithCopyWarning: \n",
      "A value is trying to be set on a copy of a slice from a DataFrame.\n",
      "Try using .loc[row_indexer,col_indexer] = value instead\n",
      "\n",
      "See the caveats in the documentation: https://pandas.pydata.org/pandas-docs/stable/user_guide/indexing.html#returning-a-view-versus-a-copy\n",
      "  y_test['track_remake_type'] = label_encoder.transform(y_test['track_remake_type'])\n"
     ]
    }
   ],
   "source": [
    "label_encoder = LabelEncoder()\n",
    "\n",
    "y_train['track_remake_type'] = label_encoder.fit_transform(y_train['track_remake_type'])\n",
    "y_test['track_remake_type'] = label_encoder.transform(y_test['track_remake_type'])"
   ]
  },
  {
   "cell_type": "markdown",
   "metadata": {
    "id": "KF3FSwbLlACI"
   },
   "source": [
    "Масштабируем численные признаки `StandartScaler`"
   ]
  },
  {
   "cell_type": "code",
   "execution_count": 79,
   "metadata": {
    "id": "1bA80ivNhUag"
   },
   "outputs": [],
   "source": [
    "numeric = ['text', 'title', 'duration', 'days_since_release']\n",
    "scaler = StandardScaler()\n",
    "scaler.fit(x_train[numeric])\n",
    "\n",
    "x_train_scaled = pd.DataFrame(scaler.transform(x_train[numeric]))\n",
    "x_test_scaled = pd.DataFrame(scaler.transform(x_test[numeric]))\n",
    "\n",
    "x_train_scaled.index = x_train.index\n",
    "x_test_scaled.index = x_test.index"
   ]
  },
  {
   "cell_type": "code",
   "execution_count": 80,
   "metadata": {
    "id": "shG4_w5EiDY5"
   },
   "outputs": [],
   "source": [
    "x_train = pd.concat([x_train_scaled, x_train_encoded], axis=1)\n",
    "x_test = pd.concat([x_test_scaled, x_test_encoded], axis=1)"
   ]
  },
  {
   "cell_type": "code",
   "execution_count": 81,
   "metadata": {
    "id": "NK-mFMfMta89"
   },
   "outputs": [],
   "source": [
    "x_train.columns = x_train.columns.astype(str)\n",
    "x_test.columns = x_test.columns.astype(str)"
   ]
  },
  {
   "cell_type": "code",
   "execution_count": 82,
   "metadata": {
    "id": "ustaIHErv1YS"
   },
   "outputs": [],
   "source": [
    "y_train = np.ravel(y_train)\n",
    "y_test = np.ravel(y_test)"
   ]
  },
  {
   "cell_type": "code",
   "execution_count": 83,
   "metadata": {
    "colab": {
     "base_uri": "https://localhost:8080/"
    },
    "id": "b6r_oSIYiDfd",
    "outputId": "e05cc429-eafd-4016-ca43-d650fec3c57e"
   },
   "outputs": [
    {
     "name": "stdout",
     "output_type": "stream",
     "text": [
      "<class 'pandas.core.frame.DataFrame'>\n",
      "RangeIndex: 79805 entries, 0 to 79804\n",
      "Data columns (total 41 columns):\n",
      " #   Column              Non-Null Count  Dtype  \n",
      "---  ------              --------------  -----  \n",
      " 0   0                   79805 non-null  float64\n",
      " 1   1                   79805 non-null  float64\n",
      " 2   2                   79805 non-null  float64\n",
      " 3   3                   79805 non-null  float64\n",
      " 4   text                79805 non-null  int64  \n",
      " 5   title               79805 non-null  int64  \n",
      " 6   duration            79805 non-null  float64\n",
      " 7   PCA_0               79805 non-null  float64\n",
      " 8   PCA_1               79805 non-null  float64\n",
      " 9   PCA_2               79805 non-null  float64\n",
      " 10  PCA_3               79805 non-null  float64\n",
      " 11  PCA_4               79805 non-null  float64\n",
      " 12  PCA_5               79805 non-null  float64\n",
      " 13  PCA_6               79805 non-null  float64\n",
      " 14  PCA_7               79805 non-null  float64\n",
      " 15  PCA_8               79805 non-null  float64\n",
      " 16  PCA_9               79805 non-null  float64\n",
      " 17  PCA_10              79805 non-null  float64\n",
      " 18  PCA_11              79805 non-null  float64\n",
      " 19  PCA_12              79805 non-null  float64\n",
      " 20  PCA_13              79805 non-null  float64\n",
      " 21  PCA_14              79805 non-null  float64\n",
      " 22  PCA_15              79805 non-null  float64\n",
      " 23  PCA_16              79805 non-null  float64\n",
      " 24  PCA_17              79805 non-null  float64\n",
      " 25  PCA_18              79805 non-null  float64\n",
      " 26  PCA_19              79805 non-null  float64\n",
      " 27  PCA_20              79805 non-null  float64\n",
      " 28  PCA_21              79805 non-null  float64\n",
      " 29  PCA_22              79805 non-null  float64\n",
      " 30  PCA_23              79805 non-null  float64\n",
      " 31  PCA_24              79805 non-null  float64\n",
      " 32  PCA_25              79805 non-null  float64\n",
      " 33  PCA_26              79805 non-null  float64\n",
      " 34  PCA_27              79805 non-null  float64\n",
      " 35  PCA_28              79805 non-null  float64\n",
      " 36  PCA_29              79805 non-null  float64\n",
      " 37  days_since_release  79805 non-null  int64  \n",
      " 38  track_id            79805 non-null  float64\n",
      " 39  language            79805 non-null  float64\n",
      " 40  genres              79805 non-null  float64\n",
      "dtypes: float64(38), int64(3)\n",
      "memory usage: 25.0 MB\n"
     ]
    }
   ],
   "source": [
    "x_train.info()"
   ]
  },
  {
   "cell_type": "code",
   "execution_count": 84,
   "metadata": {
    "colab": {
     "base_uri": "https://localhost:8080/",
     "height": 443
    },
    "id": "YUoJYaWLI88S",
    "outputId": "5613ff56-dd67-4c0c-e3d6-cd89309d567d"
   },
   "outputs": [
    {
     "data": {
      "text/html": [
       "<div>\n",
       "<style scoped>\n",
       "    .dataframe tbody tr th:only-of-type {\n",
       "        vertical-align: middle;\n",
       "    }\n",
       "\n",
       "    .dataframe tbody tr th {\n",
       "        vertical-align: top;\n",
       "    }\n",
       "\n",
       "    .dataframe thead th {\n",
       "        text-align: right;\n",
       "    }\n",
       "</style>\n",
       "<table border=\"1\" class=\"dataframe\">\n",
       "  <thead>\n",
       "    <tr style=\"text-align: right;\">\n",
       "      <th></th>\n",
       "      <th>0</th>\n",
       "      <th>1</th>\n",
       "      <th>2</th>\n",
       "      <th>3</th>\n",
       "      <th>text</th>\n",
       "      <th>title</th>\n",
       "      <th>duration</th>\n",
       "      <th>PCA_0</th>\n",
       "      <th>PCA_1</th>\n",
       "      <th>PCA_2</th>\n",
       "      <th>...</th>\n",
       "      <th>PCA_24</th>\n",
       "      <th>PCA_25</th>\n",
       "      <th>PCA_26</th>\n",
       "      <th>PCA_27</th>\n",
       "      <th>PCA_28</th>\n",
       "      <th>PCA_29</th>\n",
       "      <th>days_since_release</th>\n",
       "      <th>track_id</th>\n",
       "      <th>language</th>\n",
       "      <th>genres</th>\n",
       "    </tr>\n",
       "  </thead>\n",
       "  <tbody>\n",
       "    <tr>\n",
       "      <th>0</th>\n",
       "      <td>1.296232</td>\n",
       "      <td>-0.207092</td>\n",
       "      <td>-0.853886</td>\n",
       "      <td>-0.204730</td>\n",
       "      <td>157</td>\n",
       "      <td>14</td>\n",
       "      <td>132590.0</td>\n",
       "      <td>-0.016487</td>\n",
       "      <td>-0.070519</td>\n",
       "      <td>0.747060</td>\n",
       "      <td>...</td>\n",
       "      <td>0.020766</td>\n",
       "      <td>0.010944</td>\n",
       "      <td>-0.118673</td>\n",
       "      <td>0.024424</td>\n",
       "      <td>0.008445</td>\n",
       "      <td>0.020194</td>\n",
       "      <td>1058</td>\n",
       "      <td>16409.0</td>\n",
       "      <td>36.0</td>\n",
       "      <td>107.0</td>\n",
       "    </tr>\n",
       "    <tr>\n",
       "      <th>1</th>\n",
       "      <td>-0.374019</td>\n",
       "      <td>-0.480441</td>\n",
       "      <td>0.404165</td>\n",
       "      <td>-0.455394</td>\n",
       "      <td>0</td>\n",
       "      <td>11</td>\n",
       "      <td>239200.0</td>\n",
       "      <td>-0.044436</td>\n",
       "      <td>-0.024889</td>\n",
       "      <td>-0.015285</td>\n",
       "      <td>...</td>\n",
       "      <td>0.000307</td>\n",
       "      <td>0.000150</td>\n",
       "      <td>-0.000701</td>\n",
       "      <td>0.000094</td>\n",
       "      <td>0.000337</td>\n",
       "      <td>-0.000018</td>\n",
       "      <td>802</td>\n",
       "      <td>38289.0</td>\n",
       "      <td>16.0</td>\n",
       "      <td>96.0</td>\n",
       "    </tr>\n",
       "    <tr>\n",
       "      <th>2</th>\n",
       "      <td>-0.374019</td>\n",
       "      <td>-0.207092</td>\n",
       "      <td>-0.412429</td>\n",
       "      <td>2.931511</td>\n",
       "      <td>0</td>\n",
       "      <td>14</td>\n",
       "      <td>170000.0</td>\n",
       "      <td>-0.044436</td>\n",
       "      <td>-0.024889</td>\n",
       "      <td>-0.015285</td>\n",
       "      <td>...</td>\n",
       "      <td>0.000307</td>\n",
       "      <td>0.000150</td>\n",
       "      <td>-0.000701</td>\n",
       "      <td>0.000094</td>\n",
       "      <td>0.000337</td>\n",
       "      <td>-0.000018</td>\n",
       "      <td>4261</td>\n",
       "      <td>5166.0</td>\n",
       "      <td>16.0</td>\n",
       "      <td>96.0</td>\n",
       "    </tr>\n",
       "    <tr>\n",
       "      <th>3</th>\n",
       "      <td>-0.374019</td>\n",
       "      <td>-1.209370</td>\n",
       "      <td>0.378440</td>\n",
       "      <td>-0.316354</td>\n",
       "      <td>0</td>\n",
       "      <td>3</td>\n",
       "      <td>237020.0</td>\n",
       "      <td>-0.044436</td>\n",
       "      <td>-0.024889</td>\n",
       "      <td>-0.015285</td>\n",
       "      <td>...</td>\n",
       "      <td>0.000307</td>\n",
       "      <td>0.000150</td>\n",
       "      <td>-0.000701</td>\n",
       "      <td>0.000094</td>\n",
       "      <td>0.000337</td>\n",
       "      <td>-0.000018</td>\n",
       "      <td>944</td>\n",
       "      <td>47116.0</td>\n",
       "      <td>17.0</td>\n",
       "      <td>68.0</td>\n",
       "    </tr>\n",
       "    <tr>\n",
       "      <th>4</th>\n",
       "      <td>-0.374019</td>\n",
       "      <td>-0.024860</td>\n",
       "      <td>1.104407</td>\n",
       "      <td>2.115873</td>\n",
       "      <td>0</td>\n",
       "      <td>16</td>\n",
       "      <td>298540.0</td>\n",
       "      <td>-0.044436</td>\n",
       "      <td>-0.024889</td>\n",
       "      <td>-0.015285</td>\n",
       "      <td>...</td>\n",
       "      <td>0.000307</td>\n",
       "      <td>0.000150</td>\n",
       "      <td>-0.000701</td>\n",
       "      <td>0.000094</td>\n",
       "      <td>0.000337</td>\n",
       "      <td>-0.000018</td>\n",
       "      <td>3428</td>\n",
       "      <td>52411.0</td>\n",
       "      <td>16.0</td>\n",
       "      <td>52.0</td>\n",
       "    </tr>\n",
       "    <tr>\n",
       "      <th>...</th>\n",
       "      <td>...</td>\n",
       "      <td>...</td>\n",
       "      <td>...</td>\n",
       "      <td>...</td>\n",
       "      <td>...</td>\n",
       "      <td>...</td>\n",
       "      <td>...</td>\n",
       "      <td>...</td>\n",
       "      <td>...</td>\n",
       "      <td>...</td>\n",
       "      <td>...</td>\n",
       "      <td>...</td>\n",
       "      <td>...</td>\n",
       "      <td>...</td>\n",
       "      <td>...</td>\n",
       "      <td>...</td>\n",
       "      <td>...</td>\n",
       "      <td>...</td>\n",
       "      <td>...</td>\n",
       "      <td>...</td>\n",
       "      <td>...</td>\n",
       "    </tr>\n",
       "    <tr>\n",
       "      <th>79800</th>\n",
       "      <td>-0.374019</td>\n",
       "      <td>-0.207092</td>\n",
       "      <td>-0.312597</td>\n",
       "      <td>-0.466165</td>\n",
       "      <td>0</td>\n",
       "      <td>14</td>\n",
       "      <td>178460.0</td>\n",
       "      <td>-0.044436</td>\n",
       "      <td>-0.024889</td>\n",
       "      <td>-0.015285</td>\n",
       "      <td>...</td>\n",
       "      <td>0.000307</td>\n",
       "      <td>0.000150</td>\n",
       "      <td>-0.000701</td>\n",
       "      <td>0.000094</td>\n",
       "      <td>0.000337</td>\n",
       "      <td>-0.000018</td>\n",
       "      <td>791</td>\n",
       "      <td>19212.0</td>\n",
       "      <td>17.0</td>\n",
       "      <td>68.0</td>\n",
       "    </tr>\n",
       "    <tr>\n",
       "      <th>79801</th>\n",
       "      <td>-0.374019</td>\n",
       "      <td>-0.389325</td>\n",
       "      <td>0.626014</td>\n",
       "      <td>-0.523935</td>\n",
       "      <td>0</td>\n",
       "      <td>12</td>\n",
       "      <td>258000.0</td>\n",
       "      <td>-0.044436</td>\n",
       "      <td>-0.024889</td>\n",
       "      <td>-0.015285</td>\n",
       "      <td>...</td>\n",
       "      <td>0.000307</td>\n",
       "      <td>0.000150</td>\n",
       "      <td>-0.000701</td>\n",
       "      <td>0.000094</td>\n",
       "      <td>0.000337</td>\n",
       "      <td>-0.000018</td>\n",
       "      <td>732</td>\n",
       "      <td>58617.0</td>\n",
       "      <td>16.0</td>\n",
       "      <td>1.0</td>\n",
       "    </tr>\n",
       "    <tr>\n",
       "      <th>79802</th>\n",
       "      <td>-0.374019</td>\n",
       "      <td>-0.571557</td>\n",
       "      <td>0.068559</td>\n",
       "      <td>-0.839224</td>\n",
       "      <td>0</td>\n",
       "      <td>10</td>\n",
       "      <td>210760.0</td>\n",
       "      <td>-0.044436</td>\n",
       "      <td>-0.024889</td>\n",
       "      <td>-0.015285</td>\n",
       "      <td>...</td>\n",
       "      <td>0.000307</td>\n",
       "      <td>0.000150</td>\n",
       "      <td>-0.000701</td>\n",
       "      <td>0.000094</td>\n",
       "      <td>0.000337</td>\n",
       "      <td>-0.000018</td>\n",
       "      <td>410</td>\n",
       "      <td>11161.0</td>\n",
       "      <td>68.0</td>\n",
       "      <td>29.0</td>\n",
       "    </tr>\n",
       "    <tr>\n",
       "      <th>79803</th>\n",
       "      <td>1.487726</td>\n",
       "      <td>-0.936022</td>\n",
       "      <td>0.204501</td>\n",
       "      <td>2.016978</td>\n",
       "      <td>175</td>\n",
       "      <td>6</td>\n",
       "      <td>222280.0</td>\n",
       "      <td>0.430470</td>\n",
       "      <td>0.015648</td>\n",
       "      <td>-0.002655</td>\n",
       "      <td>...</td>\n",
       "      <td>-0.022725</td>\n",
       "      <td>-0.028391</td>\n",
       "      <td>0.003125</td>\n",
       "      <td>0.007227</td>\n",
       "      <td>0.017858</td>\n",
       "      <td>0.038015</td>\n",
       "      <td>3327</td>\n",
       "      <td>22676.0</td>\n",
       "      <td>59.0</td>\n",
       "      <td>26.0</td>\n",
       "    </tr>\n",
       "    <tr>\n",
       "      <th>79804</th>\n",
       "      <td>-0.374019</td>\n",
       "      <td>-0.571557</td>\n",
       "      <td>0.119891</td>\n",
       "      <td>0.790094</td>\n",
       "      <td>0</td>\n",
       "      <td>10</td>\n",
       "      <td>215110.0</td>\n",
       "      <td>-0.044436</td>\n",
       "      <td>-0.024889</td>\n",
       "      <td>-0.015285</td>\n",
       "      <td>...</td>\n",
       "      <td>0.000307</td>\n",
       "      <td>0.000150</td>\n",
       "      <td>-0.000701</td>\n",
       "      <td>0.000094</td>\n",
       "      <td>0.000337</td>\n",
       "      <td>-0.000018</td>\n",
       "      <td>2074</td>\n",
       "      <td>53896.0</td>\n",
       "      <td>16.0</td>\n",
       "      <td>61.0</td>\n",
       "    </tr>\n",
       "  </tbody>\n",
       "</table>\n",
       "<p>79805 rows × 41 columns</p>\n",
       "</div>"
      ],
      "text/plain": [
       "              0         1         2         3  text  title  duration  \\\n",
       "0      1.296232 -0.207092 -0.853886 -0.204730   157     14  132590.0   \n",
       "1     -0.374019 -0.480441  0.404165 -0.455394     0     11  239200.0   \n",
       "2     -0.374019 -0.207092 -0.412429  2.931511     0     14  170000.0   \n",
       "3     -0.374019 -1.209370  0.378440 -0.316354     0      3  237020.0   \n",
       "4     -0.374019 -0.024860  1.104407  2.115873     0     16  298540.0   \n",
       "...         ...       ...       ...       ...   ...    ...       ...   \n",
       "79800 -0.374019 -0.207092 -0.312597 -0.466165     0     14  178460.0   \n",
       "79801 -0.374019 -0.389325  0.626014 -0.523935     0     12  258000.0   \n",
       "79802 -0.374019 -0.571557  0.068559 -0.839224     0     10  210760.0   \n",
       "79803  1.487726 -0.936022  0.204501  2.016978   175      6  222280.0   \n",
       "79804 -0.374019 -0.571557  0.119891  0.790094     0     10  215110.0   \n",
       "\n",
       "          PCA_0     PCA_1     PCA_2  ...    PCA_24    PCA_25    PCA_26  \\\n",
       "0     -0.016487 -0.070519  0.747060  ...  0.020766  0.010944 -0.118673   \n",
       "1     -0.044436 -0.024889 -0.015285  ...  0.000307  0.000150 -0.000701   \n",
       "2     -0.044436 -0.024889 -0.015285  ...  0.000307  0.000150 -0.000701   \n",
       "3     -0.044436 -0.024889 -0.015285  ...  0.000307  0.000150 -0.000701   \n",
       "4     -0.044436 -0.024889 -0.015285  ...  0.000307  0.000150 -0.000701   \n",
       "...         ...       ...       ...  ...       ...       ...       ...   \n",
       "79800 -0.044436 -0.024889 -0.015285  ...  0.000307  0.000150 -0.000701   \n",
       "79801 -0.044436 -0.024889 -0.015285  ...  0.000307  0.000150 -0.000701   \n",
       "79802 -0.044436 -0.024889 -0.015285  ...  0.000307  0.000150 -0.000701   \n",
       "79803  0.430470  0.015648 -0.002655  ... -0.022725 -0.028391  0.003125   \n",
       "79804 -0.044436 -0.024889 -0.015285  ...  0.000307  0.000150 -0.000701   \n",
       "\n",
       "         PCA_27    PCA_28    PCA_29  days_since_release  track_id  language  \\\n",
       "0      0.024424  0.008445  0.020194                1058   16409.0      36.0   \n",
       "1      0.000094  0.000337 -0.000018                 802   38289.0      16.0   \n",
       "2      0.000094  0.000337 -0.000018                4261    5166.0      16.0   \n",
       "3      0.000094  0.000337 -0.000018                 944   47116.0      17.0   \n",
       "4      0.000094  0.000337 -0.000018                3428   52411.0      16.0   \n",
       "...         ...       ...       ...                 ...       ...       ...   \n",
       "79800  0.000094  0.000337 -0.000018                 791   19212.0      17.0   \n",
       "79801  0.000094  0.000337 -0.000018                 732   58617.0      16.0   \n",
       "79802  0.000094  0.000337 -0.000018                 410   11161.0      68.0   \n",
       "79803  0.007227  0.017858  0.038015                3327   22676.0      59.0   \n",
       "79804  0.000094  0.000337 -0.000018                2074   53896.0      16.0   \n",
       "\n",
       "       genres  \n",
       "0       107.0  \n",
       "1        96.0  \n",
       "2        96.0  \n",
       "3        68.0  \n",
       "4        52.0  \n",
       "...       ...  \n",
       "79800    68.0  \n",
       "79801     1.0  \n",
       "79802    29.0  \n",
       "79803    26.0  \n",
       "79804    61.0  \n",
       "\n",
       "[79805 rows x 41 columns]"
      ]
     },
     "execution_count": 84,
     "metadata": {},
     "output_type": "execute_result"
    }
   ],
   "source": [
    "x_train"
   ]
  },
  {
   "cell_type": "markdown",
   "metadata": {
    "id": "QWdCA7FuoWi2"
   },
   "source": [
    "## Обучение моделей"
   ]
  },
  {
   "cell_type": "markdown",
   "metadata": {
    "id": "rYaVZRKaqU6A"
   },
   "source": [
    "### Baseline"
   ]
  },
  {
   "cell_type": "code",
   "execution_count": 85,
   "metadata": {
    "colab": {
     "base_uri": "https://localhost:8080/"
    },
    "id": "3qp_4XyOoX_g",
    "outputId": "6dfb469e-371d-424f-9d20-e99e325e8bf9"
   },
   "outputs": [
    {
     "name": "stdout",
     "output_type": "stream",
     "text": [
      "F1 константной модели: 0.1083678099559589\n"
     ]
    }
   ],
   "source": [
    "dummy = DummyClassifier(strategy='uniform')\n",
    "\n",
    "dummy.fit(x_train, y_train)\n",
    "y_dummy = dummy.predict(x_test)\n",
    "dummy_f1 = f1_score(y_test, y_dummy)\n",
    "print(f'F1 константной модели: {dummy_f1}')"
   ]
  },
  {
   "cell_type": "markdown",
   "metadata": {
    "id": "YuKmwRh0lACJ"
   },
   "source": [
    "Дамми-модель выдала метрику 0.1, все остальные модели должны быть выше неё, чтобы быть адекватными."
   ]
  },
  {
   "cell_type": "markdown",
   "metadata": {
    "id": "FeJGVPyo0Xap"
   },
   "source": [
    "### Решающее дерево"
   ]
  },
  {
   "cell_type": "code",
   "execution_count": 86,
   "metadata": {
    "colab": {
     "base_uri": "https://localhost:8080/"
    },
    "id": "id8ynjhN0Xoy",
    "outputId": "c3bccc08-3d46-422b-bffa-f01047506bdd"
   },
   "outputs": [
    {
     "name": "stdout",
     "output_type": "stream",
     "text": [
      "{'max_depth': 15}\n",
      "Wall time: 10.3 s\n"
     ]
    },
    {
     "data": {
      "text/plain": [
       "0.6961094403011894"
      ]
     },
     "execution_count": 86,
     "metadata": {},
     "output_type": "execute_result"
    }
   ],
   "source": [
    "%%time\n",
    "model = DecisionTreeClassifier(random_state=RANDOM_STATE, class_weight='balanced')\n",
    "params = { 'max_depth': [15] }\n",
    "grid_tree = GridSearchCV(model, params, cv=5, n_jobs=-1,\n",
    "                    scoring=make_scorer(f1_score))\n",
    "grid_tree.fit(x_train, y_train)\n",
    "print(grid_tree.best_params_)\n",
    "tree_score = grid_tree.best_score_\n",
    "tree_score"
   ]
  },
  {
   "cell_type": "markdown",
   "metadata": {
    "id": "8csMVP0wlACK"
   },
   "source": [
    "У модели Решающего дерева метрика F1 существенно лучше"
   ]
  },
  {
   "cell_type": "markdown",
   "metadata": {
    "id": "VsYj6hNMrzEV"
   },
   "source": [
    "## Случайный лес"
   ]
  },
  {
   "cell_type": "code",
   "execution_count": 87,
   "metadata": {
    "colab": {
     "base_uri": "https://localhost:8080/"
    },
    "id": "43m4dtZjrvX7",
    "outputId": "5e134406-add0-415d-c827-70fb442f8222"
   },
   "outputs": [
    {
     "name": "stdout",
     "output_type": "stream",
     "text": [
      "{'n_estimators': 100}\n",
      "Wall time: 1min 17s\n"
     ]
    },
    {
     "data": {
      "text/plain": [
       "0.794595182267639"
      ]
     },
     "execution_count": 87,
     "metadata": {},
     "output_type": "execute_result"
    }
   ],
   "source": [
    "%%time\n",
    "model = RandomForestClassifier(random_state=RANDOM_STATE, class_weight='balanced')\n",
    "params = { 'n_estimators': [100] }\n",
    "grid_forest = GridSearchCV(model, params, cv=5, n_jobs=-1,\n",
    "                    scoring=make_scorer(f1_score))\n",
    "grid_forest.fit(x_train, y_train)\n",
    "print(grid_forest.best_params_)\n",
    "random_forest_score = grid_forest.best_score_\n",
    "random_forest_score"
   ]
  },
  {
   "cell_type": "markdown",
   "metadata": {
    "id": "gKfZlAuzlACL"
   },
   "source": [
    "Модель случайного леса показывает существенно лучшую метрику F1"
   ]
  },
  {
   "cell_type": "markdown",
   "metadata": {
    "id": "W_Nl5iuG0vBy"
   },
   "source": [
    "### Логистическая регрессия"
   ]
  },
  {
   "cell_type": "code",
   "execution_count": 88,
   "metadata": {
    "colab": {
     "base_uri": "https://localhost:8080/"
    },
    "id": "3Gxy4maR0vIV",
    "outputId": "1325e052-57f7-41dc-b06c-df2e16007577"
   },
   "outputs": [
    {
     "name": "stdout",
     "output_type": "stream",
     "text": [
      "{'solver': 'liblinear'}\n",
      "Wall time: 11.3 s\n"
     ]
    },
    {
     "data": {
      "text/plain": [
       "0.39848843123842415"
      ]
     },
     "execution_count": 88,
     "metadata": {},
     "output_type": "execute_result"
    }
   ],
   "source": [
    "%%time\n",
    "model = LogisticRegression(random_state=RANDOM_STATE, class_weight='balanced')\n",
    "params = { 'solver': ['liblinear'] }\n",
    "grid_log = GridSearchCV(model, params, cv=5, n_jobs=-1,\n",
    "                    scoring=make_scorer(f1_score))\n",
    "grid_log.fit(x_train, y_train)\n",
    "print(grid_log.best_params_)\n",
    "logistic_regression_score = grid_log.best_score_\n",
    "logistic_regression_score"
   ]
  },
  {
   "cell_type": "markdown",
   "metadata": {
    "id": "dvw3RKP7lACL"
   },
   "source": [
    "Сильно хуже"
   ]
  },
  {
   "cell_type": "markdown",
   "metadata": {
    "id": "CPUNSwCjx3vZ"
   },
   "source": [
    "### LGBM"
   ]
  },
  {
   "cell_type": "code",
   "execution_count": 94,
   "metadata": {
    "colab": {
     "base_uri": "https://localhost:8080/"
    },
    "id": "Zr_DYMcUwDg8",
    "outputId": "d2c40202-8f3d-4879-fccf-fbc0f613f21d"
   },
   "outputs": [
    {
     "name": "stdout",
     "output_type": "stream",
     "text": [
      "{'learning_rate': 0.1, 'max_depth': 16, 'n_estimators': 450}\n",
      "Wall time: 2min 12s\n"
     ]
    },
    {
     "data": {
      "text/plain": [
       "0.8106112866277806"
      ]
     },
     "execution_count": 94,
     "metadata": {},
     "output_type": "execute_result"
    }
   ],
   "source": [
    "%%time\n",
    "model = LGBMClassifier(random_state=RANDOM_STATE, class_weight='balanced')\n",
    "params = { 'n_estimators': range(100, 500, 50),\n",
    "           'max_depth': range(12, 24, 2),\n",
    "           'learning_rate': [0.1]\n",
    "         }\n",
    "grid_lgb = GridSearchCV(model, params, cv=5, n_jobs=-1,\n",
    "                    scoring=make_scorer(f1_score))\n",
    "grid_lgb.fit(x_train, y_train)\n",
    "print(grid_lgb.best_params_)\n",
    "lgb_score = grid_lgb.best_score_\n",
    "lgb_score = grid_lgb.best_score_\n",
    "lgb_score"
   ]
  },
  {
   "cell_type": "markdown",
   "metadata": {
    "id": "BQnVXAEMlACM"
   },
   "source": [
    "Модель LGBM показывает лучший результат"
   ]
  },
  {
   "cell_type": "markdown",
   "metadata": {
    "id": "gVIR8P7vx6pX"
   },
   "source": [
    "## AdaBoost"
   ]
  },
  {
   "cell_type": "code",
   "execution_count": 90,
   "metadata": {
    "colab": {
     "base_uri": "https://localhost:8080/"
    },
    "id": "b6RY15eSqXqD",
    "outputId": "30091531-6f07-4c57-ec3d-7261e9632fc5"
   },
   "outputs": [
    {
     "name": "stdout",
     "output_type": "stream",
     "text": [
      "{'learning_rate': 0.1, 'n_estimators': 100}\n",
      "Wall time: 53.8 s\n"
     ]
    },
    {
     "data": {
      "text/plain": [
       "0.6073678700296121"
      ]
     },
     "execution_count": 90,
     "metadata": {},
     "output_type": "execute_result"
    }
   ],
   "source": [
    "%%time\n",
    "model = AdaBoostClassifier(random_state=RANDOM_STATE)\n",
    "params = { 'n_estimators': [100],\n",
    "           'learning_rate': [0.1] }\n",
    "grid_ada = GridSearchCV(model, params, cv=5, n_jobs=-1,\n",
    "                    scoring=make_scorer(f1_score))\n",
    "grid_ada.fit(x_train, y_train)\n",
    "print(grid_ada.best_params_)\n",
    "adaboost_score = grid_ada.best_score_\n",
    "adaboost_score"
   ]
  },
  {
   "cell_type": "markdown",
   "metadata": {
    "id": "pe3683kqlACN"
   },
   "source": [
    "Результат плохой"
   ]
  },
  {
   "cell_type": "markdown",
   "metadata": {
    "id": "F2q3QZuc17eS"
   },
   "source": [
    "### Тестирование"
   ]
  },
  {
   "cell_type": "code",
   "execution_count": 91,
   "metadata": {
    "colab": {
     "base_uri": "https://localhost:8080/"
    },
    "id": "INtVxoOd181U",
    "outputId": "75f64497-f3df-4957-da0c-731a97e487ea"
   },
   "outputs": [
    {
     "name": "stdout",
     "output_type": "stream",
     "text": [
      "F1 на тестовой выборке: 0.7622764227642277\n",
      "Wall time: 145 ms\n"
     ]
    }
   ],
   "source": [
    "%%time\n",
    "best_model = grid_lgb.best_estimator_\n",
    "test_predictions = best_model.predict(x_test)\n",
    "test_f1 = f1_score(y_test, test_predictions)\n",
    "print(f'F1 на тестовой выборке: {test_f1}')"
   ]
  },
  {
   "cell_type": "markdown",
   "metadata": {
    "id": "2mwxR3cFlACO"
   },
   "source": [
    "Получили результат 0.81"
   ]
  },
  {
   "cell_type": "markdown",
   "metadata": {
    "id": "YIsl21UflACP"
   },
   "source": [
    "## Отчет по проекту\n",
    "\n",
    "В проекте необходимо было провести выбор модели машинного обучения и подбор ее гиперпараметров с целью классификации музыкального трека на оригинальный и кавер.\n",
    "\n",
    "**Основные этапы выполнения проекта:**\n",
    "\n",
    "*1. Исследовательский анализ данных.*\n",
    "- провели ознакомление с данными;\n",
    "- изменили тип данных;\n",
    "- определили категориальные признаки;\n",
    "- проверили данные на пропуски;\n",
    "- заполнили пропуски;\n",
    "- выявили влияние категориальных признаков на целевой;\n",
    "- выявили корреляцию между признаками;\n",
    "- ислледовали признаки на мультиколлинеарность.\n",
    "\n",
    "*2. Подготовка данных для моделей:*\n",
    "- объединили все таблицы в одну;\n",
    "- добавили признаки `days_since_release` (число дней с даты релиза трека по сегодняшнее время)\n",
    "- провели векторизацию текстов песен с целью добавления новых признаков;\n",
    "- ввели новый признак - количество слов в названии трека\n",
    "- провели преобразование категориальных признаков в численные техниками OrdinalEncoding;\n",
    "- провели преобразование целевого признака техникой LabelEncoding;\n",
    "- стандартизировали числовые признаки техникой StandartScaler;\n",
    "- разделили данные на 2 выборки обучающую и тестовую в пропорции 3:1;\n",
    "- проверили дисбаланс признаков;\n",
    "\n",
    "*3. Обучение моделей.*\n",
    "- Baseline;\n",
    "- LogisticRegression;\n",
    "- RandomForestClassifier;\n",
    "- LightGBM;\n",
    "- выявили лучшую модель по метрике F1\n",
    "\n",
    "Перед выполнением проекта был составлен план. По итогу выполнения проекта план был выполнен в полном объеме.\n",
    "\n",
    "\n",
    "В процессе выполнения проекта встретились с:\n",
    "\n",
    "- в столбце `original_track_id` есть почти 400 дубликатов. Видимо это как раз те оригиналы, на которых есть больше чем 1 кавер.\n",
    "- выяснили, что все треки у которых отсутствует`original_track_id` являются каверами. На основании этого заполнили пропуски.\n",
    "- повстречали довольно большое количество пропусков, большую часть из них получилось заполнить. Остальное удалили.\n",
    "- в поле `dttm` были довольно странные значения. Разобрались, преобразовали их в дату выхода трека.\n",
    "- на основании анализа названий треков провели детекцию языка исполнения и заполнили пропуски в столбце `language`\n",
    "\n",
    "Для обучения моделей, оценки параметров и проведения оценки важности признаков были написаны функции, позволяющие работать с любой моделью и любыми входными данными. Это добавило универсальности коду.\n",
    "\n",
    "В результате проведенной работы были обучены 5 моделей. На обучающих выборках методом кросс-валидации были определены значения F1:\n",
    "\n",
    "|Модель|F1|\n",
    "|:-----|:--------|\n",
    "|LogisticRegression|0.40|\n",
    "|RandomForestClassifier|0.8|\n",
    "|LGBMClassifier|0.81|\n",
    "|AdaBoost|0.61|\n",
    "\n",
    "На основании тестировании модели на тестовых данных итоговое значение метрики F1 составило **0.81**\n",
    "\n",
    "Т.е. модель с точностью в 81% предсказывает является музыкальный трек оригиналом или кавером. Такая точность позволит быть достаточно уверенным что запрос пользователя будет адекватно обработан.\n",
    "\n",
    "Для решения оставшихся задач по группировке каверов и нахождения их оригиналов, а также создания цепочки каверов с целью выхода на оригинал выявили нехватку данных. Есть предположение, что если заполнить все пропуски в поле `text` и провести NLP обработку текстов, то на основе частотного анализа возможно с большой точностью с взять треки между собой, используя KNN (метод ближайших соседей).\n",
    "\n",
    "Далее, создать алгоритм, который на основе проведенной группировки и с учетом признака кавер/оригинал и даты релиза создать цепочки треков.\n",
    "\n",
    "Основной вопрос - где взять тексты песен. Мы не смогли найти рессурс откуда возможно спарсить эти данные и при этом не нарушить законодательство в области авторского права. Возможно, самый простой способ - заказчику применить технологию распознования речи и преобразования её в текст."
   ]
  }
 ],
 "metadata": {
  "colab": {
   "provenance": []
  },
  "kernelspec": {
   "display_name": "Python 3 (ipykernel)",
   "language": "python",
   "name": "python3"
  },
  "language_info": {
   "codemirror_mode": {
    "name": "ipython",
    "version": 3
   },
   "file_extension": ".py",
   "mimetype": "text/x-python",
   "name": "python",
   "nbconvert_exporter": "python",
   "pygments_lexer": "ipython3",
   "version": "3.9.13"
  },
  "toc": {
   "base_numbering": 1,
   "nav_menu": {},
   "number_sections": true,
   "sideBar": true,
   "skip_h1_title": true,
   "title_cell": "Table of Contents",
   "title_sidebar": "Contents",
   "toc_cell": true,
   "toc_position": {},
   "toc_section_display": true,
   "toc_window_display": false
  }
 },
 "nbformat": 4,
 "nbformat_minor": 4
}
